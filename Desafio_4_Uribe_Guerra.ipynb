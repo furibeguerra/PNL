{
  "nbformat": 4,
  "nbformat_minor": 0,
  "metadata": {
    "colab": {
      "provenance": [],
      "toc_visible": true,
      "include_colab_link": true
    },
    "kernelspec": {
      "name": "python3",
      "display_name": "Python 3"
    },
    "language_info": {
      "name": "python"
    },
    "accelerator": "GPU"
  },
  "cells": [
    {
      "cell_type": "markdown",
      "metadata": {
        "id": "view-in-github",
        "colab_type": "text"
      },
      "source": [
        "<a href=\"https://colab.research.google.com/github/furibeguerra/PNL/blob/main/Desafio_4_Uribe_Guerra.ipynb\" target=\"_parent\"><img src=\"https://colab.research.google.com/assets/colab-badge.svg\" alt=\"Open In Colab\"/></a>"
      ]
    },
    {
      "cell_type": "markdown",
      "metadata": {
        "id": "kBLpTr7plguX"
      },
      "source": [
        "<img src=\"https://github.com/hernancontigiani/ceia_memorias_especializacion/raw/master/Figures/logoFIUBA.jpg\" width=\"500\" align=\"center\">\n",
        "\n",
        "\n",
        "# Procesamiento de lenguaje natural\n",
        "## Sentiment analysis con Embeddings + LSTM"
      ]
    },
    {
      "cell_type": "markdown",
      "metadata": {
        "id": "9W6nuajhlqZD"
      },
      "source": [
        "### Objetivo\n",
        "El objetivo es utilizar las críticas de compradores de ropa para que el sistema determine la evaluación del comprador y su crítica (cuantas estrellas le asigna al producto)."
      ]
    },
    {
      "cell_type": "code",
      "source": [
        "!pip install --upgrade --no-cache-dir gdown --quiet"
      ],
      "metadata": {
        "id": "i6zvzv3qZ6xS"
      },
      "execution_count": 2,
      "outputs": []
    },
    {
      "cell_type": "code",
      "metadata": {
        "id": "hCpOVzJdl8_p"
      },
      "source": [
        "import numpy as np\n",
        "import random\n",
        "import io\n",
        "import pickle\n",
        "import pandas as pd\n",
        "\n",
        "import matplotlib.pyplot as plt\n",
        "import seaborn as sns\n",
        "\n",
        "import tensorflow as tf\n",
        "from tensorflow import keras\n",
        "from tensorflow.keras import layers\n",
        "\n",
        "from tensorflow.keras.utils import to_categorical\n",
        "from tensorflow.keras.utils import pad_sequences\n",
        "from keras.models import Sequential\n",
        "from keras.layers import Dense\n",
        "from keras.layers import LSTM\n",
        "from keras.layers import Embedding"
      ],
      "execution_count": 4,
      "outputs": []
    },
    {
      "cell_type": "markdown",
      "metadata": {
        "id": "8UPeRkrAmbF3"
      },
      "source": [
        "### Datos\n",
        "Utilizaremos como dataset críticas de compradores de ropa (eCommerce) los cuales puntuaron a cada prenda con un puntaje de 1 a 5 estrellas.\\\n",
        "Referencia del dataset: [LINK](https://www.kaggle.com/nicapotato/womens-ecommerce-clothing-reviews/version/1)"
      ]
    },
    {
      "cell_type": "code",
      "metadata": {
        "id": "C7jLvTU3lSyL",
        "colab": {
          "base_uri": "https://localhost:8080/"
        },
        "outputId": "f0b0cec3-6315-40e4-9cd3-f62d9d2ee1f4"
      },
      "source": [
        "# Descargar la carpeta de dataset\n",
        "import os\n",
        "import gdown\n",
        "if os.access('clothing_ecommerce_reviews.csv', os.F_OK) is False:\n",
        "    url = 'https://drive.google.com/uc?id=1Urn1UFSrodN5BuW6-sc_igtaySGRwhV8'\n",
        "    output = 'clothing_ecommerce_reviews.csv'\n",
        "    gdown.download(url, output, quiet=False)\n",
        "else:\n",
        "    print(\"El dataset ya se encuentra descargado\")"
      ],
      "execution_count": 5,
      "outputs": [
        {
          "output_type": "stream",
          "name": "stderr",
          "text": [
            "Downloading...\n",
            "From: https://drive.google.com/uc?id=1Urn1UFSrodN5BuW6-sc_igtaySGRwhV8\n",
            "To: /content/clothing_ecommerce_reviews.csv\n",
            "100%|██████████| 8.48M/8.48M [00:00<00:00, 14.5MB/s]\n"
          ]
        }
      ]
    },
    {
      "cell_type": "code",
      "metadata": {
        "id": "o-SV1P3dnD1J",
        "colab": {
          "base_uri": "https://localhost:8080/",
          "height": 206
        },
        "outputId": "f5c69338-2f65-41a2-a2fe-09fa97cedcbf"
      },
      "source": [
        "# Armar el dataset\n",
        "df = pd.read_csv('clothing_ecommerce_reviews.csv')\n",
        "df.drop(columns = ['Unnamed: 0'], inplace = True)\n",
        "df.head()"
      ],
      "execution_count": 7,
      "outputs": [
        {
          "output_type": "execute_result",
          "data": {
            "text/plain": [
              "   Clothing ID  Age                    Title  \\\n",
              "0          767   33                      NaN   \n",
              "1         1080   34                      NaN   \n",
              "2         1077   60  Some major design flaws   \n",
              "3         1049   50         My favorite buy!   \n",
              "4          847   47         Flattering shirt   \n",
              "\n",
              "                                         Review Text  Rating  Recommended IND  \\\n",
              "0  Absolutely wonderful - silky and sexy and comf...       4                1   \n",
              "1  Love this dress!  it's sooo pretty.  i happene...       5                1   \n",
              "2  I had such high hopes for this dress and reall...       3                0   \n",
              "3  I love, love, love this jumpsuit. it's fun, fl...       5                1   \n",
              "4  This shirt is very flattering to all due to th...       5                1   \n",
              "\n",
              "   Positive Feedback Count   Division Name Department Name Class Name  \n",
              "0                        0       Initmates        Intimate  Intimates  \n",
              "1                        4         General         Dresses    Dresses  \n",
              "2                        0         General         Dresses    Dresses  \n",
              "3                        0  General Petite         Bottoms      Pants  \n",
              "4                        6         General            Tops    Blouses  "
            ],
            "text/html": [
              "\n",
              "  <div id=\"df-1fc6484b-88f2-4da2-a154-0a0787f7c5bd\" class=\"colab-df-container\">\n",
              "    <div>\n",
              "<style scoped>\n",
              "    .dataframe tbody tr th:only-of-type {\n",
              "        vertical-align: middle;\n",
              "    }\n",
              "\n",
              "    .dataframe tbody tr th {\n",
              "        vertical-align: top;\n",
              "    }\n",
              "\n",
              "    .dataframe thead th {\n",
              "        text-align: right;\n",
              "    }\n",
              "</style>\n",
              "<table border=\"1\" class=\"dataframe\">\n",
              "  <thead>\n",
              "    <tr style=\"text-align: right;\">\n",
              "      <th></th>\n",
              "      <th>Clothing ID</th>\n",
              "      <th>Age</th>\n",
              "      <th>Title</th>\n",
              "      <th>Review Text</th>\n",
              "      <th>Rating</th>\n",
              "      <th>Recommended IND</th>\n",
              "      <th>Positive Feedback Count</th>\n",
              "      <th>Division Name</th>\n",
              "      <th>Department Name</th>\n",
              "      <th>Class Name</th>\n",
              "    </tr>\n",
              "  </thead>\n",
              "  <tbody>\n",
              "    <tr>\n",
              "      <th>0</th>\n",
              "      <td>767</td>\n",
              "      <td>33</td>\n",
              "      <td>NaN</td>\n",
              "      <td>Absolutely wonderful - silky and sexy and comf...</td>\n",
              "      <td>4</td>\n",
              "      <td>1</td>\n",
              "      <td>0</td>\n",
              "      <td>Initmates</td>\n",
              "      <td>Intimate</td>\n",
              "      <td>Intimates</td>\n",
              "    </tr>\n",
              "    <tr>\n",
              "      <th>1</th>\n",
              "      <td>1080</td>\n",
              "      <td>34</td>\n",
              "      <td>NaN</td>\n",
              "      <td>Love this dress!  it's sooo pretty.  i happene...</td>\n",
              "      <td>5</td>\n",
              "      <td>1</td>\n",
              "      <td>4</td>\n",
              "      <td>General</td>\n",
              "      <td>Dresses</td>\n",
              "      <td>Dresses</td>\n",
              "    </tr>\n",
              "    <tr>\n",
              "      <th>2</th>\n",
              "      <td>1077</td>\n",
              "      <td>60</td>\n",
              "      <td>Some major design flaws</td>\n",
              "      <td>I had such high hopes for this dress and reall...</td>\n",
              "      <td>3</td>\n",
              "      <td>0</td>\n",
              "      <td>0</td>\n",
              "      <td>General</td>\n",
              "      <td>Dresses</td>\n",
              "      <td>Dresses</td>\n",
              "    </tr>\n",
              "    <tr>\n",
              "      <th>3</th>\n",
              "      <td>1049</td>\n",
              "      <td>50</td>\n",
              "      <td>My favorite buy!</td>\n",
              "      <td>I love, love, love this jumpsuit. it's fun, fl...</td>\n",
              "      <td>5</td>\n",
              "      <td>1</td>\n",
              "      <td>0</td>\n",
              "      <td>General Petite</td>\n",
              "      <td>Bottoms</td>\n",
              "      <td>Pants</td>\n",
              "    </tr>\n",
              "    <tr>\n",
              "      <th>4</th>\n",
              "      <td>847</td>\n",
              "      <td>47</td>\n",
              "      <td>Flattering shirt</td>\n",
              "      <td>This shirt is very flattering to all due to th...</td>\n",
              "      <td>5</td>\n",
              "      <td>1</td>\n",
              "      <td>6</td>\n",
              "      <td>General</td>\n",
              "      <td>Tops</td>\n",
              "      <td>Blouses</td>\n",
              "    </tr>\n",
              "  </tbody>\n",
              "</table>\n",
              "</div>\n",
              "    <div class=\"colab-df-buttons\">\n",
              "\n",
              "  <div class=\"colab-df-container\">\n",
              "    <button class=\"colab-df-convert\" onclick=\"convertToInteractive('df-1fc6484b-88f2-4da2-a154-0a0787f7c5bd')\"\n",
              "            title=\"Convert this dataframe to an interactive table.\"\n",
              "            style=\"display:none;\">\n",
              "\n",
              "  <svg xmlns=\"http://www.w3.org/2000/svg\" height=\"24px\" viewBox=\"0 -960 960 960\">\n",
              "    <path d=\"M120-120v-720h720v720H120Zm60-500h600v-160H180v160Zm220 220h160v-160H400v160Zm0 220h160v-160H400v160ZM180-400h160v-160H180v160Zm440 0h160v-160H620v160ZM180-180h160v-160H180v160Zm440 0h160v-160H620v160Z\"/>\n",
              "  </svg>\n",
              "    </button>\n",
              "\n",
              "  <style>\n",
              "    .colab-df-container {\n",
              "      display:flex;\n",
              "      gap: 12px;\n",
              "    }\n",
              "\n",
              "    .colab-df-convert {\n",
              "      background-color: #E8F0FE;\n",
              "      border: none;\n",
              "      border-radius: 50%;\n",
              "      cursor: pointer;\n",
              "      display: none;\n",
              "      fill: #1967D2;\n",
              "      height: 32px;\n",
              "      padding: 0 0 0 0;\n",
              "      width: 32px;\n",
              "    }\n",
              "\n",
              "    .colab-df-convert:hover {\n",
              "      background-color: #E2EBFA;\n",
              "      box-shadow: 0px 1px 2px rgba(60, 64, 67, 0.3), 0px 1px 3px 1px rgba(60, 64, 67, 0.15);\n",
              "      fill: #174EA6;\n",
              "    }\n",
              "\n",
              "    .colab-df-buttons div {\n",
              "      margin-bottom: 4px;\n",
              "    }\n",
              "\n",
              "    [theme=dark] .colab-df-convert {\n",
              "      background-color: #3B4455;\n",
              "      fill: #D2E3FC;\n",
              "    }\n",
              "\n",
              "    [theme=dark] .colab-df-convert:hover {\n",
              "      background-color: #434B5C;\n",
              "      box-shadow: 0px 1px 3px 1px rgba(0, 0, 0, 0.15);\n",
              "      filter: drop-shadow(0px 1px 2px rgba(0, 0, 0, 0.3));\n",
              "      fill: #FFFFFF;\n",
              "    }\n",
              "  </style>\n",
              "\n",
              "    <script>\n",
              "      const buttonEl =\n",
              "        document.querySelector('#df-1fc6484b-88f2-4da2-a154-0a0787f7c5bd button.colab-df-convert');\n",
              "      buttonEl.style.display =\n",
              "        google.colab.kernel.accessAllowed ? 'block' : 'none';\n",
              "\n",
              "      async function convertToInteractive(key) {\n",
              "        const element = document.querySelector('#df-1fc6484b-88f2-4da2-a154-0a0787f7c5bd');\n",
              "        const dataTable =\n",
              "          await google.colab.kernel.invokeFunction('convertToInteractive',\n",
              "                                                    [key], {});\n",
              "        if (!dataTable) return;\n",
              "\n",
              "        const docLinkHtml = 'Like what you see? Visit the ' +\n",
              "          '<a target=\"_blank\" href=https://colab.research.google.com/notebooks/data_table.ipynb>data table notebook</a>'\n",
              "          + ' to learn more about interactive tables.';\n",
              "        element.innerHTML = '';\n",
              "        dataTable['output_type'] = 'display_data';\n",
              "        await google.colab.output.renderOutput(dataTable, element);\n",
              "        const docLink = document.createElement('div');\n",
              "        docLink.innerHTML = docLinkHtml;\n",
              "        element.appendChild(docLink);\n",
              "      }\n",
              "    </script>\n",
              "  </div>\n",
              "\n",
              "\n",
              "    <div id=\"df-e74570dd-a4a5-41cc-bb5b-e7b6be301097\">\n",
              "      <button class=\"colab-df-quickchart\" onclick=\"quickchart('df-e74570dd-a4a5-41cc-bb5b-e7b6be301097')\"\n",
              "                title=\"Suggest charts\"\n",
              "                style=\"display:none;\">\n",
              "\n",
              "<svg xmlns=\"http://www.w3.org/2000/svg\" height=\"24px\"viewBox=\"0 0 24 24\"\n",
              "     width=\"24px\">\n",
              "    <g>\n",
              "        <path d=\"M19 3H5c-1.1 0-2 .9-2 2v14c0 1.1.9 2 2 2h14c1.1 0 2-.9 2-2V5c0-1.1-.9-2-2-2zM9 17H7v-7h2v7zm4 0h-2V7h2v10zm4 0h-2v-4h2v4z\"/>\n",
              "    </g>\n",
              "</svg>\n",
              "      </button>\n",
              "\n",
              "<style>\n",
              "  .colab-df-quickchart {\n",
              "      --bg-color: #E8F0FE;\n",
              "      --fill-color: #1967D2;\n",
              "      --hover-bg-color: #E2EBFA;\n",
              "      --hover-fill-color: #174EA6;\n",
              "      --disabled-fill-color: #AAA;\n",
              "      --disabled-bg-color: #DDD;\n",
              "  }\n",
              "\n",
              "  [theme=dark] .colab-df-quickchart {\n",
              "      --bg-color: #3B4455;\n",
              "      --fill-color: #D2E3FC;\n",
              "      --hover-bg-color: #434B5C;\n",
              "      --hover-fill-color: #FFFFFF;\n",
              "      --disabled-bg-color: #3B4455;\n",
              "      --disabled-fill-color: #666;\n",
              "  }\n",
              "\n",
              "  .colab-df-quickchart {\n",
              "    background-color: var(--bg-color);\n",
              "    border: none;\n",
              "    border-radius: 50%;\n",
              "    cursor: pointer;\n",
              "    display: none;\n",
              "    fill: var(--fill-color);\n",
              "    height: 32px;\n",
              "    padding: 0;\n",
              "    width: 32px;\n",
              "  }\n",
              "\n",
              "  .colab-df-quickchart:hover {\n",
              "    background-color: var(--hover-bg-color);\n",
              "    box-shadow: 0 1px 2px rgba(60, 64, 67, 0.3), 0 1px 3px 1px rgba(60, 64, 67, 0.15);\n",
              "    fill: var(--button-hover-fill-color);\n",
              "  }\n",
              "\n",
              "  .colab-df-quickchart-complete:disabled,\n",
              "  .colab-df-quickchart-complete:disabled:hover {\n",
              "    background-color: var(--disabled-bg-color);\n",
              "    fill: var(--disabled-fill-color);\n",
              "    box-shadow: none;\n",
              "  }\n",
              "\n",
              "  .colab-df-spinner {\n",
              "    border: 2px solid var(--fill-color);\n",
              "    border-color: transparent;\n",
              "    border-bottom-color: var(--fill-color);\n",
              "    animation:\n",
              "      spin 1s steps(1) infinite;\n",
              "  }\n",
              "\n",
              "  @keyframes spin {\n",
              "    0% {\n",
              "      border-color: transparent;\n",
              "      border-bottom-color: var(--fill-color);\n",
              "      border-left-color: var(--fill-color);\n",
              "    }\n",
              "    20% {\n",
              "      border-color: transparent;\n",
              "      border-left-color: var(--fill-color);\n",
              "      border-top-color: var(--fill-color);\n",
              "    }\n",
              "    30% {\n",
              "      border-color: transparent;\n",
              "      border-left-color: var(--fill-color);\n",
              "      border-top-color: var(--fill-color);\n",
              "      border-right-color: var(--fill-color);\n",
              "    }\n",
              "    40% {\n",
              "      border-color: transparent;\n",
              "      border-right-color: var(--fill-color);\n",
              "      border-top-color: var(--fill-color);\n",
              "    }\n",
              "    60% {\n",
              "      border-color: transparent;\n",
              "      border-right-color: var(--fill-color);\n",
              "    }\n",
              "    80% {\n",
              "      border-color: transparent;\n",
              "      border-right-color: var(--fill-color);\n",
              "      border-bottom-color: var(--fill-color);\n",
              "    }\n",
              "    90% {\n",
              "      border-color: transparent;\n",
              "      border-bottom-color: var(--fill-color);\n",
              "    }\n",
              "  }\n",
              "</style>\n",
              "\n",
              "      <script>\n",
              "        async function quickchart(key) {\n",
              "          const quickchartButtonEl =\n",
              "            document.querySelector('#' + key + ' button');\n",
              "          quickchartButtonEl.disabled = true;  // To prevent multiple clicks.\n",
              "          quickchartButtonEl.classList.add('colab-df-spinner');\n",
              "          try {\n",
              "            const charts = await google.colab.kernel.invokeFunction(\n",
              "                'suggestCharts', [key], {});\n",
              "          } catch (error) {\n",
              "            console.error('Error during call to suggestCharts:', error);\n",
              "          }\n",
              "          quickchartButtonEl.classList.remove('colab-df-spinner');\n",
              "          quickchartButtonEl.classList.add('colab-df-quickchart-complete');\n",
              "        }\n",
              "        (() => {\n",
              "          let quickchartButtonEl =\n",
              "            document.querySelector('#df-e74570dd-a4a5-41cc-bb5b-e7b6be301097 button');\n",
              "          quickchartButtonEl.style.display =\n",
              "            google.colab.kernel.accessAllowed ? 'block' : 'none';\n",
              "        })();\n",
              "      </script>\n",
              "    </div>\n",
              "\n",
              "    </div>\n",
              "  </div>\n"
            ],
            "application/vnd.google.colaboratory.intrinsic+json": {
              "type": "dataframe",
              "variable_name": "df",
              "summary": "{\n  \"name\": \"df\",\n  \"rows\": 23486,\n  \"fields\": [\n    {\n      \"column\": \"Clothing ID\",\n      \"properties\": {\n        \"dtype\": \"number\",\n        \"std\": 203,\n        \"min\": 0,\n        \"max\": 1205,\n        \"num_unique_values\": 1206,\n        \"samples\": [\n          835,\n          753,\n          93\n        ],\n        \"semantic_type\": \"\",\n        \"description\": \"\"\n      }\n    },\n    {\n      \"column\": \"Age\",\n      \"properties\": {\n        \"dtype\": \"number\",\n        \"std\": 12,\n        \"min\": 18,\n        \"max\": 99,\n        \"num_unique_values\": 77,\n        \"samples\": [\n          47,\n          62,\n          41\n        ],\n        \"semantic_type\": \"\",\n        \"description\": \"\"\n      }\n    },\n    {\n      \"column\": \"Title\",\n      \"properties\": {\n        \"dtype\": \"string\",\n        \"num_unique_values\": 13993,\n        \"samples\": [\n          \"Colorful, pretty shirt\",\n          \"Unique soft and comfy fall top\",\n          \"Great fitting jean.\"\n        ],\n        \"semantic_type\": \"\",\n        \"description\": \"\"\n      }\n    },\n    {\n      \"column\": \"Review Text\",\n      \"properties\": {\n        \"dtype\": \"string\",\n        \"num_unique_values\": 22634,\n        \"samples\": [\n          \"This top is really pretty and nice quality. runs big - i went down a size, and its perfect. coloring is more subtle in person than in the photo.\",\n          \"I was so excited to splurge on a mara hoffman suit and was sorely disappointed when i received this suit in the mail. i'm petite and fairly curvy, so i knew it would likely be a little long in the torso but the whole suit was so oddly shaped, i couldn't imagine anyone it would fit. the square shape in between the halter pieces is awkward, and the pieces that are supposed to hold your chest are super wide and loose.\",\n          \"Got so many complements! really comfy but runs big! i'm usually a large and i wish i had gotten the small.\"\n        ],\n        \"semantic_type\": \"\",\n        \"description\": \"\"\n      }\n    },\n    {\n      \"column\": \"Rating\",\n      \"properties\": {\n        \"dtype\": \"number\",\n        \"std\": 1,\n        \"min\": 1,\n        \"max\": 5,\n        \"num_unique_values\": 5,\n        \"samples\": [\n          5,\n          1,\n          3\n        ],\n        \"semantic_type\": \"\",\n        \"description\": \"\"\n      }\n    },\n    {\n      \"column\": \"Recommended IND\",\n      \"properties\": {\n        \"dtype\": \"number\",\n        \"std\": 0,\n        \"min\": 0,\n        \"max\": 1,\n        \"num_unique_values\": 2,\n        \"samples\": [\n          0,\n          1\n        ],\n        \"semantic_type\": \"\",\n        \"description\": \"\"\n      }\n    },\n    {\n      \"column\": \"Positive Feedback Count\",\n      \"properties\": {\n        \"dtype\": \"number\",\n        \"std\": 5,\n        \"min\": 0,\n        \"max\": 122,\n        \"num_unique_values\": 82,\n        \"samples\": [\n          21,\n          0\n        ],\n        \"semantic_type\": \"\",\n        \"description\": \"\"\n      }\n    },\n    {\n      \"column\": \"Division Name\",\n      \"properties\": {\n        \"dtype\": \"category\",\n        \"num_unique_values\": 3,\n        \"samples\": [\n          \"Initmates\",\n          \"General\"\n        ],\n        \"semantic_type\": \"\",\n        \"description\": \"\"\n      }\n    },\n    {\n      \"column\": \"Department Name\",\n      \"properties\": {\n        \"dtype\": \"category\",\n        \"num_unique_values\": 6,\n        \"samples\": [\n          \"Intimate\",\n          \"Dresses\"\n        ],\n        \"semantic_type\": \"\",\n        \"description\": \"\"\n      }\n    },\n    {\n      \"column\": \"Class Name\",\n      \"properties\": {\n        \"dtype\": \"category\",\n        \"num_unique_values\": 20,\n        \"samples\": [\n          \"Intimates\",\n          \"Layering\"\n        ],\n        \"semantic_type\": \"\",\n        \"description\": \"\"\n      }\n    }\n  ]\n}"
            }
          },
          "metadata": {},
          "execution_count": 7
        }
      ]
    },
    {
      "cell_type": "markdown",
      "metadata": {
        "id": "q-OwSePKm-FK"
      },
      "source": [
        "### 1 - Limpieza de datos\n",
        "Alumno:\n",
        "- Del dataset unicamente utilizar las columnas \"Review Text\" y \"Rating.\n",
        "- Tranformar el rating 1-5 a una escala numérica de 0 a 4.\n",
        "\n"
      ]
    },
    {
      "cell_type": "code",
      "metadata": {
        "id": "-hc7-AmYnPC3",
        "colab": {
          "base_uri": "https://localhost:8080/",
          "height": 206
        },
        "outputId": "21ee843a-ffef-4b35-a040-ad5e3b53d0ff"
      },
      "source": [
        "df_reviews = df.loc[:, ['Review Text', 'Rating']].dropna()\n",
        "df_reviews['Rating'] = df_reviews['Rating'] - 1\n",
        "df_reviews.head()"
      ],
      "execution_count": 8,
      "outputs": [
        {
          "output_type": "execute_result",
          "data": {
            "text/plain": [
              "                                         Review Text  Rating\n",
              "0  Absolutely wonderful - silky and sexy and comf...       3\n",
              "1  Love this dress!  it's sooo pretty.  i happene...       4\n",
              "2  I had such high hopes for this dress and reall...       2\n",
              "3  I love, love, love this jumpsuit. it's fun, fl...       4\n",
              "4  This shirt is very flattering to all due to th...       4"
            ],
            "text/html": [
              "\n",
              "  <div id=\"df-36966f2e-4ae4-477f-ab91-a7d927e29ec7\" class=\"colab-df-container\">\n",
              "    <div>\n",
              "<style scoped>\n",
              "    .dataframe tbody tr th:only-of-type {\n",
              "        vertical-align: middle;\n",
              "    }\n",
              "\n",
              "    .dataframe tbody tr th {\n",
              "        vertical-align: top;\n",
              "    }\n",
              "\n",
              "    .dataframe thead th {\n",
              "        text-align: right;\n",
              "    }\n",
              "</style>\n",
              "<table border=\"1\" class=\"dataframe\">\n",
              "  <thead>\n",
              "    <tr style=\"text-align: right;\">\n",
              "      <th></th>\n",
              "      <th>Review Text</th>\n",
              "      <th>Rating</th>\n",
              "    </tr>\n",
              "  </thead>\n",
              "  <tbody>\n",
              "    <tr>\n",
              "      <th>0</th>\n",
              "      <td>Absolutely wonderful - silky and sexy and comf...</td>\n",
              "      <td>3</td>\n",
              "    </tr>\n",
              "    <tr>\n",
              "      <th>1</th>\n",
              "      <td>Love this dress!  it's sooo pretty.  i happene...</td>\n",
              "      <td>4</td>\n",
              "    </tr>\n",
              "    <tr>\n",
              "      <th>2</th>\n",
              "      <td>I had such high hopes for this dress and reall...</td>\n",
              "      <td>2</td>\n",
              "    </tr>\n",
              "    <tr>\n",
              "      <th>3</th>\n",
              "      <td>I love, love, love this jumpsuit. it's fun, fl...</td>\n",
              "      <td>4</td>\n",
              "    </tr>\n",
              "    <tr>\n",
              "      <th>4</th>\n",
              "      <td>This shirt is very flattering to all due to th...</td>\n",
              "      <td>4</td>\n",
              "    </tr>\n",
              "  </tbody>\n",
              "</table>\n",
              "</div>\n",
              "    <div class=\"colab-df-buttons\">\n",
              "\n",
              "  <div class=\"colab-df-container\">\n",
              "    <button class=\"colab-df-convert\" onclick=\"convertToInteractive('df-36966f2e-4ae4-477f-ab91-a7d927e29ec7')\"\n",
              "            title=\"Convert this dataframe to an interactive table.\"\n",
              "            style=\"display:none;\">\n",
              "\n",
              "  <svg xmlns=\"http://www.w3.org/2000/svg\" height=\"24px\" viewBox=\"0 -960 960 960\">\n",
              "    <path d=\"M120-120v-720h720v720H120Zm60-500h600v-160H180v160Zm220 220h160v-160H400v160Zm0 220h160v-160H400v160ZM180-400h160v-160H180v160Zm440 0h160v-160H620v160ZM180-180h160v-160H180v160Zm440 0h160v-160H620v160Z\"/>\n",
              "  </svg>\n",
              "    </button>\n",
              "\n",
              "  <style>\n",
              "    .colab-df-container {\n",
              "      display:flex;\n",
              "      gap: 12px;\n",
              "    }\n",
              "\n",
              "    .colab-df-convert {\n",
              "      background-color: #E8F0FE;\n",
              "      border: none;\n",
              "      border-radius: 50%;\n",
              "      cursor: pointer;\n",
              "      display: none;\n",
              "      fill: #1967D2;\n",
              "      height: 32px;\n",
              "      padding: 0 0 0 0;\n",
              "      width: 32px;\n",
              "    }\n",
              "\n",
              "    .colab-df-convert:hover {\n",
              "      background-color: #E2EBFA;\n",
              "      box-shadow: 0px 1px 2px rgba(60, 64, 67, 0.3), 0px 1px 3px 1px rgba(60, 64, 67, 0.15);\n",
              "      fill: #174EA6;\n",
              "    }\n",
              "\n",
              "    .colab-df-buttons div {\n",
              "      margin-bottom: 4px;\n",
              "    }\n",
              "\n",
              "    [theme=dark] .colab-df-convert {\n",
              "      background-color: #3B4455;\n",
              "      fill: #D2E3FC;\n",
              "    }\n",
              "\n",
              "    [theme=dark] .colab-df-convert:hover {\n",
              "      background-color: #434B5C;\n",
              "      box-shadow: 0px 1px 3px 1px rgba(0, 0, 0, 0.15);\n",
              "      filter: drop-shadow(0px 1px 2px rgba(0, 0, 0, 0.3));\n",
              "      fill: #FFFFFF;\n",
              "    }\n",
              "  </style>\n",
              "\n",
              "    <script>\n",
              "      const buttonEl =\n",
              "        document.querySelector('#df-36966f2e-4ae4-477f-ab91-a7d927e29ec7 button.colab-df-convert');\n",
              "      buttonEl.style.display =\n",
              "        google.colab.kernel.accessAllowed ? 'block' : 'none';\n",
              "\n",
              "      async function convertToInteractive(key) {\n",
              "        const element = document.querySelector('#df-36966f2e-4ae4-477f-ab91-a7d927e29ec7');\n",
              "        const dataTable =\n",
              "          await google.colab.kernel.invokeFunction('convertToInteractive',\n",
              "                                                    [key], {});\n",
              "        if (!dataTable) return;\n",
              "\n",
              "        const docLinkHtml = 'Like what you see? Visit the ' +\n",
              "          '<a target=\"_blank\" href=https://colab.research.google.com/notebooks/data_table.ipynb>data table notebook</a>'\n",
              "          + ' to learn more about interactive tables.';\n",
              "        element.innerHTML = '';\n",
              "        dataTable['output_type'] = 'display_data';\n",
              "        await google.colab.output.renderOutput(dataTable, element);\n",
              "        const docLink = document.createElement('div');\n",
              "        docLink.innerHTML = docLinkHtml;\n",
              "        element.appendChild(docLink);\n",
              "      }\n",
              "    </script>\n",
              "  </div>\n",
              "\n",
              "\n",
              "    <div id=\"df-ff6cbf35-2983-4870-a5cf-18808907927c\">\n",
              "      <button class=\"colab-df-quickchart\" onclick=\"quickchart('df-ff6cbf35-2983-4870-a5cf-18808907927c')\"\n",
              "                title=\"Suggest charts\"\n",
              "                style=\"display:none;\">\n",
              "\n",
              "<svg xmlns=\"http://www.w3.org/2000/svg\" height=\"24px\"viewBox=\"0 0 24 24\"\n",
              "     width=\"24px\">\n",
              "    <g>\n",
              "        <path d=\"M19 3H5c-1.1 0-2 .9-2 2v14c0 1.1.9 2 2 2h14c1.1 0 2-.9 2-2V5c0-1.1-.9-2-2-2zM9 17H7v-7h2v7zm4 0h-2V7h2v10zm4 0h-2v-4h2v4z\"/>\n",
              "    </g>\n",
              "</svg>\n",
              "      </button>\n",
              "\n",
              "<style>\n",
              "  .colab-df-quickchart {\n",
              "      --bg-color: #E8F0FE;\n",
              "      --fill-color: #1967D2;\n",
              "      --hover-bg-color: #E2EBFA;\n",
              "      --hover-fill-color: #174EA6;\n",
              "      --disabled-fill-color: #AAA;\n",
              "      --disabled-bg-color: #DDD;\n",
              "  }\n",
              "\n",
              "  [theme=dark] .colab-df-quickchart {\n",
              "      --bg-color: #3B4455;\n",
              "      --fill-color: #D2E3FC;\n",
              "      --hover-bg-color: #434B5C;\n",
              "      --hover-fill-color: #FFFFFF;\n",
              "      --disabled-bg-color: #3B4455;\n",
              "      --disabled-fill-color: #666;\n",
              "  }\n",
              "\n",
              "  .colab-df-quickchart {\n",
              "    background-color: var(--bg-color);\n",
              "    border: none;\n",
              "    border-radius: 50%;\n",
              "    cursor: pointer;\n",
              "    display: none;\n",
              "    fill: var(--fill-color);\n",
              "    height: 32px;\n",
              "    padding: 0;\n",
              "    width: 32px;\n",
              "  }\n",
              "\n",
              "  .colab-df-quickchart:hover {\n",
              "    background-color: var(--hover-bg-color);\n",
              "    box-shadow: 0 1px 2px rgba(60, 64, 67, 0.3), 0 1px 3px 1px rgba(60, 64, 67, 0.15);\n",
              "    fill: var(--button-hover-fill-color);\n",
              "  }\n",
              "\n",
              "  .colab-df-quickchart-complete:disabled,\n",
              "  .colab-df-quickchart-complete:disabled:hover {\n",
              "    background-color: var(--disabled-bg-color);\n",
              "    fill: var(--disabled-fill-color);\n",
              "    box-shadow: none;\n",
              "  }\n",
              "\n",
              "  .colab-df-spinner {\n",
              "    border: 2px solid var(--fill-color);\n",
              "    border-color: transparent;\n",
              "    border-bottom-color: var(--fill-color);\n",
              "    animation:\n",
              "      spin 1s steps(1) infinite;\n",
              "  }\n",
              "\n",
              "  @keyframes spin {\n",
              "    0% {\n",
              "      border-color: transparent;\n",
              "      border-bottom-color: var(--fill-color);\n",
              "      border-left-color: var(--fill-color);\n",
              "    }\n",
              "    20% {\n",
              "      border-color: transparent;\n",
              "      border-left-color: var(--fill-color);\n",
              "      border-top-color: var(--fill-color);\n",
              "    }\n",
              "    30% {\n",
              "      border-color: transparent;\n",
              "      border-left-color: var(--fill-color);\n",
              "      border-top-color: var(--fill-color);\n",
              "      border-right-color: var(--fill-color);\n",
              "    }\n",
              "    40% {\n",
              "      border-color: transparent;\n",
              "      border-right-color: var(--fill-color);\n",
              "      border-top-color: var(--fill-color);\n",
              "    }\n",
              "    60% {\n",
              "      border-color: transparent;\n",
              "      border-right-color: var(--fill-color);\n",
              "    }\n",
              "    80% {\n",
              "      border-color: transparent;\n",
              "      border-right-color: var(--fill-color);\n",
              "      border-bottom-color: var(--fill-color);\n",
              "    }\n",
              "    90% {\n",
              "      border-color: transparent;\n",
              "      border-bottom-color: var(--fill-color);\n",
              "    }\n",
              "  }\n",
              "</style>\n",
              "\n",
              "      <script>\n",
              "        async function quickchart(key) {\n",
              "          const quickchartButtonEl =\n",
              "            document.querySelector('#' + key + ' button');\n",
              "          quickchartButtonEl.disabled = true;  // To prevent multiple clicks.\n",
              "          quickchartButtonEl.classList.add('colab-df-spinner');\n",
              "          try {\n",
              "            const charts = await google.colab.kernel.invokeFunction(\n",
              "                'suggestCharts', [key], {});\n",
              "          } catch (error) {\n",
              "            console.error('Error during call to suggestCharts:', error);\n",
              "          }\n",
              "          quickchartButtonEl.classList.remove('colab-df-spinner');\n",
              "          quickchartButtonEl.classList.add('colab-df-quickchart-complete');\n",
              "        }\n",
              "        (() => {\n",
              "          let quickchartButtonEl =\n",
              "            document.querySelector('#df-ff6cbf35-2983-4870-a5cf-18808907927c button');\n",
              "          quickchartButtonEl.style.display =\n",
              "            google.colab.kernel.accessAllowed ? 'block' : 'none';\n",
              "        })();\n",
              "      </script>\n",
              "    </div>\n",
              "\n",
              "    </div>\n",
              "  </div>\n"
            ],
            "application/vnd.google.colaboratory.intrinsic+json": {
              "type": "dataframe",
              "variable_name": "df_reviews",
              "summary": "{\n  \"name\": \"df_reviews\",\n  \"rows\": 22641,\n  \"fields\": [\n    {\n      \"column\": \"Review Text\",\n      \"properties\": {\n        \"dtype\": \"string\",\n        \"num_unique_values\": 22634,\n        \"samples\": [\n          \"This top is really pretty and nice quality. runs big - i went down a size, and its perfect. coloring is more subtle in person than in the photo.\",\n          \"I was so excited to splurge on a mara hoffman suit and was sorely disappointed when i received this suit in the mail. i'm petite and fairly curvy, so i knew it would likely be a little long in the torso but the whole suit was so oddly shaped, i couldn't imagine anyone it would fit. the square shape in between the halter pieces is awkward, and the pieces that are supposed to hold your chest are super wide and loose.\",\n          \"Got so many complements! really comfy but runs big! i'm usually a large and i wish i had gotten the small.\"\n        ],\n        \"semantic_type\": \"\",\n        \"description\": \"\"\n      }\n    },\n    {\n      \"column\": \"Rating\",\n      \"properties\": {\n        \"dtype\": \"number\",\n        \"std\": 1,\n        \"min\": 0,\n        \"max\": 4,\n        \"num_unique_values\": 5,\n        \"samples\": [\n          4,\n          0,\n          2\n        ],\n        \"semantic_type\": \"\",\n        \"description\": \"\"\n      }\n    }\n  ]\n}"
            }
          },
          "metadata": {},
          "execution_count": 8
        }
      ]
    },
    {
      "cell_type": "code",
      "source": [
        "# Objetivo 1: Observar como está distribuido el dataset respecto a la columna Rating\n",
        "\n",
        "import plotly.express as px\n",
        "rating_counts = df_reviews['Rating'].value_counts().sort_index().reset_index()\n",
        "rating_counts.columns = ['Rating', 'Cantidad de Reseñas']\n",
        "\n",
        "# Creamos el gráfico de barras interactivo con Plotly Express\n",
        "fig = px.bar(rating_counts,\n",
        "             x='Rating',\n",
        "             y='Cantidad de Reseñas',\n",
        "             title='Distribución de Ratings por Cantidad de Reseñas',\n",
        "             labels={'Rating': 'Rating (0-4)',\n",
        "                     'Cantidad de Reseñas': 'Número de Reseñas'},\n",
        "             color='Cantidad de Reseñas',  # Opcional: colorear las barras por la cantidad\n",
        "             color_continuous_scale='viridis') # Opcional: elegir una escala de colores\n",
        "\n",
        "fig.show()"
      ],
      "metadata": {
        "colab": {
          "base_uri": "https://localhost:8080/",
          "height": 542
        },
        "id": "0k7kd20aIIv6",
        "outputId": "0fd3d6ea-85fe-4fb1-8dd6-34388d5d0eaf"
      },
      "execution_count": 10,
      "outputs": [
        {
          "output_type": "display_data",
          "data": {
            "text/html": [
              "<html>\n",
              "<head><meta charset=\"utf-8\" /></head>\n",
              "<body>\n",
              "    <div>            <script src=\"https://cdnjs.cloudflare.com/ajax/libs/mathjax/2.7.5/MathJax.js?config=TeX-AMS-MML_SVG\"></script><script type=\"text/javascript\">if (window.MathJax && window.MathJax.Hub && window.MathJax.Hub.Config) {window.MathJax.Hub.Config({SVG: {font: \"STIX-Web\"}});}</script>                <script type=\"text/javascript\">window.PlotlyConfig = {MathJaxConfig: 'local'};</script>\n",
              "        <script charset=\"utf-8\" src=\"https://cdn.plot.ly/plotly-2.35.2.min.js\"></script>                <div id=\"e104cad8-1fdc-4530-99ad-80c79809fcb8\" class=\"plotly-graph-div\" style=\"height:525px; width:100%;\"></div>            <script type=\"text/javascript\">                                    window.PLOTLYENV=window.PLOTLYENV || {};                                    if (document.getElementById(\"e104cad8-1fdc-4530-99ad-80c79809fcb8\")) {                    Plotly.newPlot(                        \"e104cad8-1fdc-4530-99ad-80c79809fcb8\",                        [{\"alignmentgroup\":\"True\",\"hovertemplate\":\"Rating (0-4)=%{x}\\u003cbr\\u003eNúmero de Reseñas=%{marker.color}\\u003cextra\\u003e\\u003c\\u002fextra\\u003e\",\"legendgroup\":\"\",\"marker\":{\"color\":[821,1549,2823,4908,12540],\"coloraxis\":\"coloraxis\",\"pattern\":{\"shape\":\"\"}},\"name\":\"\",\"offsetgroup\":\"\",\"orientation\":\"v\",\"showlegend\":false,\"textposition\":\"auto\",\"x\":[0,1,2,3,4],\"xaxis\":\"x\",\"y\":[821,1549,2823,4908,12540],\"yaxis\":\"y\",\"type\":\"bar\"}],                        {\"template\":{\"data\":{\"histogram2dcontour\":[{\"type\":\"histogram2dcontour\",\"colorbar\":{\"outlinewidth\":0,\"ticks\":\"\"},\"colorscale\":[[0.0,\"#0d0887\"],[0.1111111111111111,\"#46039f\"],[0.2222222222222222,\"#7201a8\"],[0.3333333333333333,\"#9c179e\"],[0.4444444444444444,\"#bd3786\"],[0.5555555555555556,\"#d8576b\"],[0.6666666666666666,\"#ed7953\"],[0.7777777777777778,\"#fb9f3a\"],[0.8888888888888888,\"#fdca26\"],[1.0,\"#f0f921\"]]}],\"choropleth\":[{\"type\":\"choropleth\",\"colorbar\":{\"outlinewidth\":0,\"ticks\":\"\"}}],\"histogram2d\":[{\"type\":\"histogram2d\",\"colorbar\":{\"outlinewidth\":0,\"ticks\":\"\"},\"colorscale\":[[0.0,\"#0d0887\"],[0.1111111111111111,\"#46039f\"],[0.2222222222222222,\"#7201a8\"],[0.3333333333333333,\"#9c179e\"],[0.4444444444444444,\"#bd3786\"],[0.5555555555555556,\"#d8576b\"],[0.6666666666666666,\"#ed7953\"],[0.7777777777777778,\"#fb9f3a\"],[0.8888888888888888,\"#fdca26\"],[1.0,\"#f0f921\"]]}],\"heatmap\":[{\"type\":\"heatmap\",\"colorbar\":{\"outlinewidth\":0,\"ticks\":\"\"},\"colorscale\":[[0.0,\"#0d0887\"],[0.1111111111111111,\"#46039f\"],[0.2222222222222222,\"#7201a8\"],[0.3333333333333333,\"#9c179e\"],[0.4444444444444444,\"#bd3786\"],[0.5555555555555556,\"#d8576b\"],[0.6666666666666666,\"#ed7953\"],[0.7777777777777778,\"#fb9f3a\"],[0.8888888888888888,\"#fdca26\"],[1.0,\"#f0f921\"]]}],\"heatmapgl\":[{\"type\":\"heatmapgl\",\"colorbar\":{\"outlinewidth\":0,\"ticks\":\"\"},\"colorscale\":[[0.0,\"#0d0887\"],[0.1111111111111111,\"#46039f\"],[0.2222222222222222,\"#7201a8\"],[0.3333333333333333,\"#9c179e\"],[0.4444444444444444,\"#bd3786\"],[0.5555555555555556,\"#d8576b\"],[0.6666666666666666,\"#ed7953\"],[0.7777777777777778,\"#fb9f3a\"],[0.8888888888888888,\"#fdca26\"],[1.0,\"#f0f921\"]]}],\"contourcarpet\":[{\"type\":\"contourcarpet\",\"colorbar\":{\"outlinewidth\":0,\"ticks\":\"\"}}],\"contour\":[{\"type\":\"contour\",\"colorbar\":{\"outlinewidth\":0,\"ticks\":\"\"},\"colorscale\":[[0.0,\"#0d0887\"],[0.1111111111111111,\"#46039f\"],[0.2222222222222222,\"#7201a8\"],[0.3333333333333333,\"#9c179e\"],[0.4444444444444444,\"#bd3786\"],[0.5555555555555556,\"#d8576b\"],[0.6666666666666666,\"#ed7953\"],[0.7777777777777778,\"#fb9f3a\"],[0.8888888888888888,\"#fdca26\"],[1.0,\"#f0f921\"]]}],\"surface\":[{\"type\":\"surface\",\"colorbar\":{\"outlinewidth\":0,\"ticks\":\"\"},\"colorscale\":[[0.0,\"#0d0887\"],[0.1111111111111111,\"#46039f\"],[0.2222222222222222,\"#7201a8\"],[0.3333333333333333,\"#9c179e\"],[0.4444444444444444,\"#bd3786\"],[0.5555555555555556,\"#d8576b\"],[0.6666666666666666,\"#ed7953\"],[0.7777777777777778,\"#fb9f3a\"],[0.8888888888888888,\"#fdca26\"],[1.0,\"#f0f921\"]]}],\"mesh3d\":[{\"type\":\"mesh3d\",\"colorbar\":{\"outlinewidth\":0,\"ticks\":\"\"}}],\"scatter\":[{\"fillpattern\":{\"fillmode\":\"overlay\",\"size\":10,\"solidity\":0.2},\"type\":\"scatter\"}],\"parcoords\":[{\"type\":\"parcoords\",\"line\":{\"colorbar\":{\"outlinewidth\":0,\"ticks\":\"\"}}}],\"scatterpolargl\":[{\"type\":\"scatterpolargl\",\"marker\":{\"colorbar\":{\"outlinewidth\":0,\"ticks\":\"\"}}}],\"bar\":[{\"error_x\":{\"color\":\"#2a3f5f\"},\"error_y\":{\"color\":\"#2a3f5f\"},\"marker\":{\"line\":{\"color\":\"#E5ECF6\",\"width\":0.5},\"pattern\":{\"fillmode\":\"overlay\",\"size\":10,\"solidity\":0.2}},\"type\":\"bar\"}],\"scattergeo\":[{\"type\":\"scattergeo\",\"marker\":{\"colorbar\":{\"outlinewidth\":0,\"ticks\":\"\"}}}],\"scatterpolar\":[{\"type\":\"scatterpolar\",\"marker\":{\"colorbar\":{\"outlinewidth\":0,\"ticks\":\"\"}}}],\"histogram\":[{\"marker\":{\"pattern\":{\"fillmode\":\"overlay\",\"size\":10,\"solidity\":0.2}},\"type\":\"histogram\"}],\"scattergl\":[{\"type\":\"scattergl\",\"marker\":{\"colorbar\":{\"outlinewidth\":0,\"ticks\":\"\"}}}],\"scatter3d\":[{\"type\":\"scatter3d\",\"line\":{\"colorbar\":{\"outlinewidth\":0,\"ticks\":\"\"}},\"marker\":{\"colorbar\":{\"outlinewidth\":0,\"ticks\":\"\"}}}],\"scattermapbox\":[{\"type\":\"scattermapbox\",\"marker\":{\"colorbar\":{\"outlinewidth\":0,\"ticks\":\"\"}}}],\"scatterternary\":[{\"type\":\"scatterternary\",\"marker\":{\"colorbar\":{\"outlinewidth\":0,\"ticks\":\"\"}}}],\"scattercarpet\":[{\"type\":\"scattercarpet\",\"marker\":{\"colorbar\":{\"outlinewidth\":0,\"ticks\":\"\"}}}],\"carpet\":[{\"aaxis\":{\"endlinecolor\":\"#2a3f5f\",\"gridcolor\":\"white\",\"linecolor\":\"white\",\"minorgridcolor\":\"white\",\"startlinecolor\":\"#2a3f5f\"},\"baxis\":{\"endlinecolor\":\"#2a3f5f\",\"gridcolor\":\"white\",\"linecolor\":\"white\",\"minorgridcolor\":\"white\",\"startlinecolor\":\"#2a3f5f\"},\"type\":\"carpet\"}],\"table\":[{\"cells\":{\"fill\":{\"color\":\"#EBF0F8\"},\"line\":{\"color\":\"white\"}},\"header\":{\"fill\":{\"color\":\"#C8D4E3\"},\"line\":{\"color\":\"white\"}},\"type\":\"table\"}],\"barpolar\":[{\"marker\":{\"line\":{\"color\":\"#E5ECF6\",\"width\":0.5},\"pattern\":{\"fillmode\":\"overlay\",\"size\":10,\"solidity\":0.2}},\"type\":\"barpolar\"}],\"pie\":[{\"automargin\":true,\"type\":\"pie\"}]},\"layout\":{\"autotypenumbers\":\"strict\",\"colorway\":[\"#636efa\",\"#EF553B\",\"#00cc96\",\"#ab63fa\",\"#FFA15A\",\"#19d3f3\",\"#FF6692\",\"#B6E880\",\"#FF97FF\",\"#FECB52\"],\"font\":{\"color\":\"#2a3f5f\"},\"hovermode\":\"closest\",\"hoverlabel\":{\"align\":\"left\"},\"paper_bgcolor\":\"white\",\"plot_bgcolor\":\"#E5ECF6\",\"polar\":{\"bgcolor\":\"#E5ECF6\",\"angularaxis\":{\"gridcolor\":\"white\",\"linecolor\":\"white\",\"ticks\":\"\"},\"radialaxis\":{\"gridcolor\":\"white\",\"linecolor\":\"white\",\"ticks\":\"\"}},\"ternary\":{\"bgcolor\":\"#E5ECF6\",\"aaxis\":{\"gridcolor\":\"white\",\"linecolor\":\"white\",\"ticks\":\"\"},\"baxis\":{\"gridcolor\":\"white\",\"linecolor\":\"white\",\"ticks\":\"\"},\"caxis\":{\"gridcolor\":\"white\",\"linecolor\":\"white\",\"ticks\":\"\"}},\"coloraxis\":{\"colorbar\":{\"outlinewidth\":0,\"ticks\":\"\"}},\"colorscale\":{\"sequential\":[[0.0,\"#0d0887\"],[0.1111111111111111,\"#46039f\"],[0.2222222222222222,\"#7201a8\"],[0.3333333333333333,\"#9c179e\"],[0.4444444444444444,\"#bd3786\"],[0.5555555555555556,\"#d8576b\"],[0.6666666666666666,\"#ed7953\"],[0.7777777777777778,\"#fb9f3a\"],[0.8888888888888888,\"#fdca26\"],[1.0,\"#f0f921\"]],\"sequentialminus\":[[0.0,\"#0d0887\"],[0.1111111111111111,\"#46039f\"],[0.2222222222222222,\"#7201a8\"],[0.3333333333333333,\"#9c179e\"],[0.4444444444444444,\"#bd3786\"],[0.5555555555555556,\"#d8576b\"],[0.6666666666666666,\"#ed7953\"],[0.7777777777777778,\"#fb9f3a\"],[0.8888888888888888,\"#fdca26\"],[1.0,\"#f0f921\"]],\"diverging\":[[0,\"#8e0152\"],[0.1,\"#c51b7d\"],[0.2,\"#de77ae\"],[0.3,\"#f1b6da\"],[0.4,\"#fde0ef\"],[0.5,\"#f7f7f7\"],[0.6,\"#e6f5d0\"],[0.7,\"#b8e186\"],[0.8,\"#7fbc41\"],[0.9,\"#4d9221\"],[1,\"#276419\"]]},\"xaxis\":{\"gridcolor\":\"white\",\"linecolor\":\"white\",\"ticks\":\"\",\"title\":{\"standoff\":15},\"zerolinecolor\":\"white\",\"automargin\":true,\"zerolinewidth\":2},\"yaxis\":{\"gridcolor\":\"white\",\"linecolor\":\"white\",\"ticks\":\"\",\"title\":{\"standoff\":15},\"zerolinecolor\":\"white\",\"automargin\":true,\"zerolinewidth\":2},\"scene\":{\"xaxis\":{\"backgroundcolor\":\"#E5ECF6\",\"gridcolor\":\"white\",\"linecolor\":\"white\",\"showbackground\":true,\"ticks\":\"\",\"zerolinecolor\":\"white\",\"gridwidth\":2},\"yaxis\":{\"backgroundcolor\":\"#E5ECF6\",\"gridcolor\":\"white\",\"linecolor\":\"white\",\"showbackground\":true,\"ticks\":\"\",\"zerolinecolor\":\"white\",\"gridwidth\":2},\"zaxis\":{\"backgroundcolor\":\"#E5ECF6\",\"gridcolor\":\"white\",\"linecolor\":\"white\",\"showbackground\":true,\"ticks\":\"\",\"zerolinecolor\":\"white\",\"gridwidth\":2}},\"shapedefaults\":{\"line\":{\"color\":\"#2a3f5f\"}},\"annotationdefaults\":{\"arrowcolor\":\"#2a3f5f\",\"arrowhead\":0,\"arrowwidth\":1},\"geo\":{\"bgcolor\":\"white\",\"landcolor\":\"#E5ECF6\",\"subunitcolor\":\"white\",\"showland\":true,\"showlakes\":true,\"lakecolor\":\"white\"},\"title\":{\"x\":0.05},\"mapbox\":{\"style\":\"light\"}}},\"xaxis\":{\"anchor\":\"y\",\"domain\":[0.0,1.0],\"title\":{\"text\":\"Rating (0-4)\"}},\"yaxis\":{\"anchor\":\"x\",\"domain\":[0.0,1.0],\"title\":{\"text\":\"Número de Reseñas\"}},\"coloraxis\":{\"colorbar\":{\"title\":{\"text\":\"Número de Reseñas\"}},\"colorscale\":[[0.0,\"#440154\"],[0.1111111111111111,\"#482878\"],[0.2222222222222222,\"#3e4989\"],[0.3333333333333333,\"#31688e\"],[0.4444444444444444,\"#26828e\"],[0.5555555555555556,\"#1f9e89\"],[0.6666666666666666,\"#35b779\"],[0.7777777777777778,\"#6ece58\"],[0.8888888888888888,\"#b5de2b\"],[1.0,\"#fde725\"]]},\"legend\":{\"tracegroupgap\":0},\"title\":{\"text\":\"Distribución de Ratings por Cantidad de Reseñas\"},\"barmode\":\"relative\"},                        {\"responsive\": true}                    ).then(function(){\n",
              "                            \n",
              "var gd = document.getElementById('e104cad8-1fdc-4530-99ad-80c79809fcb8');\n",
              "var x = new MutationObserver(function (mutations, observer) {{\n",
              "        var display = window.getComputedStyle(gd).display;\n",
              "        if (!display || display === 'none') {{\n",
              "            console.log([gd, 'removed!']);\n",
              "            Plotly.purge(gd);\n",
              "            observer.disconnect();\n",
              "        }}\n",
              "}});\n",
              "\n",
              "// Listen for the removal of the full notebook cells\n",
              "var notebookContainer = gd.closest('#notebook-container');\n",
              "if (notebookContainer) {{\n",
              "    x.observe(notebookContainer, {childList: true});\n",
              "}}\n",
              "\n",
              "// Listen for the clearing of the current output cell\n",
              "var outputEl = gd.closest('.output');\n",
              "if (outputEl) {{\n",
              "    x.observe(outputEl, {childList: true});\n",
              "}}\n",
              "\n",
              "                        })                };                            </script>        </div>\n",
              "</body>\n",
              "</html>"
            ]
          },
          "metadata": {}
        }
      ]
    },
    {
      "cell_type": "markdown",
      "source": [
        "Al observar la distribución del dataset en relación con la columna '*Rating*', se identifica un desequilibrio significativo. Existe una mayor proporción de instancias con ratings altos (3 y 4), mientras que las categorías de ratings bajos (0, 1 y 2) presentan una representación menor Esta distribución, que no es uniforem, podría tener implicaciones relevantes al entrenar el modelo."
      ],
      "metadata": {
        "id": "rb0lGe0AJAuX"
      }
    },
    {
      "cell_type": "code",
      "metadata": {
        "id": "gVJ_RVi4o1h3"
      },
      "source": [
        "# Alumno: tomar la columna de las review y almacenarlo todo en un vector numpy de reviews\n",
        "reviews = np.array(df_reviews['Review Text'])"
      ],
      "execution_count": 11,
      "outputs": []
    },
    {
      "cell_type": "code",
      "metadata": {
        "id": "4nT5Un_co65Q",
        "colab": {
          "base_uri": "https://localhost:8080/"
        },
        "outputId": "44e61d9a-2d10-43a4-d4b8-105e052cc0a7"
      },
      "source": [
        "# Alumno: Cuantas reviews (rows) hay para evaluar?\n",
        "len(reviews)"
      ],
      "execution_count": 12,
      "outputs": [
        {
          "output_type": "execute_result",
          "data": {
            "text/plain": [
              "22641"
            ]
          },
          "metadata": {},
          "execution_count": 12
        }
      ]
    },
    {
      "cell_type": "code",
      "source": [
        "# Alumno: Concatenar todas las reviews para armar el corpus\n",
        "corpus = ' '.join(reviews.astype(str))\n",
        "print(\"Primeros 100 caracteres del corpus:\")\n",
        "print(corpus[:100])"
      ],
      "metadata": {
        "colab": {
          "base_uri": "https://localhost:8080/"
        },
        "id": "c0Xb54qlJn09",
        "outputId": "08a74675-3e9d-4444-9824-60d3e32088a8"
      },
      "execution_count": 16,
      "outputs": [
        {
          "output_type": "stream",
          "name": "stdout",
          "text": [
            "Primeros 100 caracteres del corpus:\n",
            "Absolutely wonderful - silky and sexy and comfortable Love this dress!  it's sooo pretty.  i happene\n"
          ]
        }
      ]
    },
    {
      "cell_type": "code",
      "metadata": {
        "id": "FEzmePgdpf74",
        "colab": {
          "base_uri": "https://localhost:8080/"
        },
        "outputId": "59b01bc0-1990-4e05-ff64-8a97c380315e"
      },
      "source": [
        "# Alumno: ¿Cuál es la longitud de ese corpus?\n",
        "print(\"\\nLongitud total del corpus:\", len(corpus))"
      ],
      "execution_count": 17,
      "outputs": [
        {
          "output_type": "stream",
          "name": "stdout",
          "text": [
            "\n",
            "Longitud total del corpus: 7011643\n"
          ]
        }
      ]
    },
    {
      "cell_type": "code",
      "metadata": {
        "id": "MYeJLdDmpvOe"
      },
      "source": [
        "# Alumno: Utilizar \"text_to_word_sequence\" para separar las palabras en tokens\n",
        "# recordar que text_to_word_sequence automaticamente quita los signos de puntuacion y pasa el texto a lowercase\n",
        "from tensorflow.keras.preprocessing.text import text_to_word_sequence"
      ],
      "execution_count": 18,
      "outputs": []
    },
    {
      "cell_type": "code",
      "metadata": {
        "id": "M6L-fnWAp_lA",
        "colab": {
          "base_uri": "https://localhost:8080/"
        },
        "outputId": "c64114c4-f6da-4bb1-9d52-9f9e9c1a02c7"
      },
      "source": [
        "# Alumno: Dar un vistazo a los primeros 20 tokens/palabras\n",
        "tokens = text_to_word_sequence(corpus)\n",
        "print(tokens[:20])"
      ],
      "execution_count": 19,
      "outputs": [
        {
          "output_type": "stream",
          "name": "stdout",
          "text": [
            "['absolutely', 'wonderful', 'silky', 'and', 'sexy', 'and', 'comfortable', 'love', 'this', 'dress', \"it's\", 'sooo', 'pretty', 'i', 'happened', 'to', 'find', 'it', 'in', 'a']\n"
          ]
        }
      ]
    },
    {
      "cell_type": "code",
      "metadata": {
        "id": "-8QgwwMUqG0d",
        "colab": {
          "base_uri": "https://localhost:8080/"
        },
        "outputId": "2dff13dc-b5c8-44f5-c687-965f0f09ef1f"
      },
      "source": [
        "# Alumno: ¿Cuántos tokens/palabras hay?\n",
        "print(\"\\n En total encontramos que la cantidad de tokens/palabras son:\", len(tokens))"
      ],
      "execution_count": 20,
      "outputs": [
        {
          "output_type": "stream",
          "name": "stdout",
          "text": [
            "\n",
            " En total encontramos que la cantidad de tokens/palabras son: 1372203\n"
          ]
        }
      ]
    },
    {
      "cell_type": "code",
      "metadata": {
        "id": "TFukNZdOsZ8_"
      },
      "source": [
        "# Alumno: Tokenizar las palabras con el Tokenizer de Keras\n",
        "# Definir una máxima cantidad de palabras a utilizar:\n",
        "#from keras.preprocessing.text import Tokenizer\n",
        "from tensorflow.keras.preprocessing.text import Tokenizer\n",
        "num_words = 5000\n",
        "vocab_size = num_words"
      ],
      "execution_count": 22,
      "outputs": []
    },
    {
      "cell_type": "code",
      "metadata": {
        "id": "JnR1tlqZy94X",
        "colab": {
          "base_uri": "https://localhost:8080/"
        },
        "outputId": "99f18182-4256-4f3f-f12e-901b234582b9"
      },
      "source": [
        "# Alumno: Obtener el diccionario de palabra (word) a índice\n",
        "# y observar la cantidad total del vocabulario\n",
        "\n",
        "tokenizer = Tokenizer(num_words=num_words)\n",
        "tokenizer.fit_on_texts(df_reviews['Review Text'])\n",
        "word_index = tokenizer.word_index # Obtenemos el diccionario de palabra a índice\n",
        "total_vocabulary_size = len(word_index) # Obtenemos el tamaño total del vocabulario encontrado\n",
        "\n",
        "\n",
        "print(\"Diccionario de palabra a índice (word_index):\")\n",
        "print(dict(list(word_index.items())[:20]))\n",
        "\n",
        "print(\"\\nCantidad total del vocabulario encontrado:\", total_vocabulary_size)\n",
        "\n",
        "print(\"\\nCantidad máxima de palabras a utilizar (num_words):\", num_words)\n",
        "\n",
        "if total_vocabulary_size > num_words:\n",
        "    print(f\"\\nAdvertencia: El vocabulario real ({total_vocabulary_size}) es mayor que la cantidad máxima de palabras a utilizar ({num_words}). Esto significa que algunas palabras serán tratadas como '<unk>' (unknown) durante la tokenización.\")\n",
        "else:\n",
        "    print(\"\\nEl tamaño del vocabulario está dentro del límite especificado.\")\n",
        "\n"
      ],
      "execution_count": 23,
      "outputs": [
        {
          "output_type": "stream",
          "name": "stdout",
          "text": [
            "Diccionario de palabra a índice (word_index):\n",
            "{'the': 1, 'i': 2, 'and': 3, 'a': 4, 'it': 5, 'is': 6, 'this': 7, 'to': 8, 'in': 9, 'but': 10, 'on': 11, 'for': 12, 'of': 13, 'with': 14, 'was': 15, 'so': 16, 'my': 17, 'dress': 18, 'not': 19, 'that': 20}\n",
            "\n",
            "Cantidad total del vocabulario encontrado: 14847\n",
            "\n",
            "Cantidad máxima de palabras a utilizar (num_words): 5000\n",
            "\n",
            "Advertencia: El vocabulario real (14847) es mayor que la cantidad máxima de palabras a utilizar (5000). Esto significa que algunas palabras serán tratadas como '<unk>' (unknown) durante la tokenización.\n"
          ]
        }
      ]
    },
    {
      "cell_type": "code",
      "source": [
        "num_words = 15000 # Lo modificamos entonces para evitar que tengamos palabras en (unknown)\n",
        "vocab_size = num_words"
      ],
      "metadata": {
        "id": "75nWFH0HMO96"
      },
      "execution_count": 24,
      "outputs": []
    },
    {
      "cell_type": "code",
      "source": [
        "tokenizer = Tokenizer(num_words=num_words)\n",
        "tokenizer.fit_on_texts(df_reviews['Review Text'])\n",
        "word_index = tokenizer.word_index # Obtenemos el diccionario de palabra a índice\n",
        "total_vocabulary_size = len(word_index) # Obtenemos el tamaño total del vocabulario (Cantidad de palabras unicas)\n",
        "\n",
        "\n",
        "print(\"Diccionario de palabra a índice (word_index):\")\n",
        "print(dict(list(word_index.items())[:20]))\n",
        "\n",
        "print(\"\\nCantidad total del vocabulario encontrado:\", total_vocabulary_size)\n",
        "\n",
        "print(\"\\nCantidad máxima de palabras a utilizar (num_words):\", num_words)\n",
        "\n",
        "if total_vocabulary_size > num_words:\n",
        "    print(f\"\\nAdvertencia: El vocabulario real ({total_vocabulary_size}) es mayor que la cantidad máxima de palabras a utilizar ({num_words}). Esto significa que algunas palabras serán tratadas como '<unk>' (unknown) durante la tokenización.\")\n",
        "else:\n",
        "    print(\"\\nEl tamaño del vocabulario está dentro del límite especificado.\")"
      ],
      "metadata": {
        "colab": {
          "base_uri": "https://localhost:8080/"
        },
        "id": "CChzJoAdMhOk",
        "outputId": "598d63e6-65a0-4645-e979-70f80e1533d4"
      },
      "execution_count": 25,
      "outputs": [
        {
          "output_type": "stream",
          "name": "stdout",
          "text": [
            "Diccionario de palabra a índice (word_index):\n",
            "{'the': 1, 'i': 2, 'and': 3, 'a': 4, 'it': 5, 'is': 6, 'this': 7, 'to': 8, 'in': 9, 'but': 10, 'on': 11, 'for': 12, 'of': 13, 'with': 14, 'was': 15, 'so': 16, 'my': 17, 'dress': 18, 'not': 19, 'that': 20}\n",
            "\n",
            "Cantidad total del vocabulario encontrado: 14847\n",
            "\n",
            "Cantidad máxima de palabras a utilizar (num_words): 15000\n",
            "\n",
            "El tamaño del vocabulario está dentro del límite especificado.\n"
          ]
        }
      ]
    },
    {
      "cell_type": "code",
      "source": [
        "print(\"Diccionario de palabra a índice (word_index):\")\n",
        "for word, index in list(word_index.items())[:40]:\n",
        "    print(f\"'{word}': {index}\")"
      ],
      "metadata": {
        "colab": {
          "base_uri": "https://localhost:8080/"
        },
        "id": "JjyEd9A8Ni21",
        "outputId": "e11fb494-e408-418d-e078-b8966539841f"
      },
      "execution_count": 33,
      "outputs": [
        {
          "output_type": "stream",
          "name": "stdout",
          "text": [
            "Diccionario de palabra a índice (word_index):\n",
            "'the': 1\n",
            "'i': 2\n",
            "'and': 3\n",
            "'a': 4\n",
            "'it': 5\n",
            "'is': 6\n",
            "'this': 7\n",
            "'to': 8\n",
            "'in': 9\n",
            "'but': 10\n",
            "'on': 11\n",
            "'for': 12\n",
            "'of': 13\n",
            "'with': 14\n",
            "'was': 15\n",
            "'so': 16\n",
            "'my': 17\n",
            "'dress': 18\n",
            "'not': 19\n",
            "'that': 20\n",
            "'love': 21\n",
            "'size': 22\n",
            "'very': 23\n",
            "'have': 24\n",
            "'top': 25\n",
            "'fit': 26\n",
            "'are': 27\n",
            "'like': 28\n",
            "'be': 29\n",
            "'as': 30\n",
            "'me': 31\n",
            "'wear': 32\n",
            "'it's': 33\n",
            "'great': 34\n",
            "'too': 35\n",
            "'i'm': 36\n",
            "'or': 37\n",
            "'am': 38\n",
            "'just': 39\n",
            "'you': 40\n"
          ]
        }
      ]
    },
    {
      "cell_type": "code",
      "metadata": {
        "id": "AvWzzSretQXf",
        "colab": {
          "base_uri": "https://localhost:8080/"
        },
        "outputId": "2c78adea-0554-4029-dccd-fcbc79c17bcb"
      },
      "source": [
        "# Alumno: Convertir las palabras/tokens a números\n",
        "sequences = tokenizer.texts_to_sequences(df_reviews['Review Text'])\n",
        "print(\"Texto:\", df_reviews['Review Text'].iloc[20])\n",
        "print(\"Secuencia:\", sequences[20])"
      ],
      "execution_count": 32,
      "outputs": [
        {
          "output_type": "stream",
          "name": "stdout",
          "text": [
            "Texto: If this product was in petite, i would get the petite. the regular is a little long on me but a tailor can do a simple fix on that. \r\n",
            "\r\n",
            "fits nicely! i'm 5'4, 130lb and pregnant so i bough t medium to grow into. \r\n",
            "\r\n",
            "the tie can be front or back so provides for some nice flexibility on form fitting.\n",
            "Secuencia: [49, 7, 753, 15, 9, 95, 2, 41, 115, 1, 95, 1, 184, 6, 4, 53, 90, 11, 31, 10, 4, 1285, 66, 134, 4, 548, 1114, 11, 20, 67, 67, 78, 258, 36, 310, 3251, 3, 861, 16, 2, 3558, 307, 97, 8, 3142, 313, 67, 67, 1, 467, 66, 29, 156, 37, 63, 16, 1950, 12, 152, 70, 3559, 11, 624, 356]\n"
          ]
        }
      ]
    },
    {
      "cell_type": "code",
      "metadata": {
        "id": "za73M5SRtbrP",
        "colab": {
          "base_uri": "https://localhost:8080/"
        },
        "outputId": "c7a65093-f725-464a-e43c-99798fda1282"
      },
      "source": [
        "# Alumno: Determinar cual es la oración más larga\n",
        "\n",
        "# 1. Encontrar la reseña más larga basada en la cantidad de caracteres\n",
        "reseña_mas_larga_por_caracteres = df_reviews['Review Text'].loc[df_reviews['Review Text'].str.len().idxmax()]\n",
        "longitud_caracteres = len(reseña_mas_larga_por_caracteres)\n",
        "\n",
        "print(\"Reseña más larga (por cantidad de caracteres):\")\n",
        "print(reseña_mas_larga_por_caracteres)\n",
        "print(\"\\nLongitud (en caracteres):\", longitud_caracteres)\n",
        "\n",
        "# 2. Encontrar la reseña más larga basada en la cantidad de palabras (aproximación por espacios)\n",
        "reseña_mas_larga_por_palabras = df_reviews['Review Text'].loc[df_reviews['Review Text'].str.split().str.len().idxmax()]\n",
        "cantidad_palabras = len(reseña_mas_larga_por_palabras.split())\n",
        "\n",
        "print(\"\\nReseña más larga (por cantidad de palabras):\")\n",
        "print(reseña_mas_larga_por_palabras)\n",
        "print(\"\\nCantidad de palabras (aproximada):\", cantidad_palabras)"
      ],
      "execution_count": 34,
      "outputs": [
        {
          "output_type": "stream",
          "name": "stdout",
          "text": [
            "Reseña más larga (por cantidad de caracteres):\n",
            "I adore this blouse. the colors are vibrant (see my photo below). this is one of my favorite purchases from retailer. the top is light weight. true to size. i ordered a petite small and am 5 feet tall 120 lbs. and curvy. i left it untucked and loose like in the photo and it was very flattering. i disagree about it being frumpy. i wore it with kelly green retailer brand slacks paired with the retailer yellow sweater coat with white piping, and the retailer moss suede cross bag and neutral color (nude) fl\n",
            "\n",
            "Longitud (en caracteres): 508\n",
            "\n",
            "Reseña más larga (por cantidad de palabras):\n",
            "I love shift dresses and i love t linen so this one was a must for me. i had it in my inbox as soon as it came out on the website and then i found it in the store and had to try it on. i took the six and the eight to the fitting room because i run in between, and the six fit better so i guess it runs a little bit large. really it just depends on how you want it to fit. the length is great too, about 3 inches above my knee, i'm 5 foot 5, which is exactly where i like my dresses to hit. i got the\n",
            "\n",
            "Cantidad de palabras (aproximada): 115\n"
          ]
        }
      ]
    },
    {
      "cell_type": "code",
      "metadata": {
        "id": "oCkO9Wc9tls1"
      },
      "source": [
        "# Alumno: Realizar padding de las sentencias al mismo tamaño\n",
        "# tomando de referencia la máxima sentencia (Para mi ejercicio entonces tomare por cantidad de palabras)\n",
        "from tensorflow.keras.utils import pad_sequences\n",
        "maxlen = 115 #Oración mas larga por cantidad de palabras"
      ],
      "execution_count": 35,
      "outputs": []
    },
    {
      "cell_type": "code",
      "metadata": {
        "id": "kGHHabVdt_aa",
        "colab": {
          "base_uri": "https://localhost:8080/"
        },
        "outputId": "a1275d71-d1fa-4d3d-9ed2-b49b8b35ad97"
      },
      "source": [
        "# Alumno: Observar las dimensiones de la variable input\n",
        "padded_sequences = pad_sequences(sequences, maxlen=maxlen,padding='post', truncating='post')\n",
        "\n",
        "#Usaremos padding='post' para añadir los valores de relleno (generalmente ceros) al final de las secuencias más cortas.\n",
        "#Usaremos truncating='post' indica que si una secuencia excede la longitud máxima, los elementos se eliminarán desde el final.\n",
        "\n",
        "input = padded_sequences\n",
        "dimensiones_input = input.shape # dimensiones de la variable 'input'\n",
        "\n",
        "print(\"Dimensiones de la variable 'input':\", dimensiones_input)"
      ],
      "execution_count": 37,
      "outputs": [
        {
          "output_type": "stream",
          "name": "stdout",
          "text": [
            "Dimensiones de la variable 'input': (22641, 115)\n"
          ]
        }
      ]
    },
    {
      "cell_type": "code",
      "metadata": {
        "id": "llVM-tzQo9_F",
        "colab": {
          "base_uri": "https://localhost:8080/"
        },
        "outputId": "cef23577-561e-40a6-e870-3db6689889cd"
      },
      "source": [
        "# Alumno tomar la columna rating y alcemacenarla en una variable \"y\" transformada a oneHotEncoding\n",
        "# Su shape debe ser equivalente la cantidad de rows del corpus y a la cantidad\n",
        "# de clases que se deseen predecir  (en este ejemplo son 5)\n",
        "\n",
        "\n",
        "# 1. Seleccionar la columna 'Rating' y almacenarla en 'y'\n",
        "y = df_reviews['Rating']\n",
        "# 2. Aplicar one-hot encoding usando to_categorical\n",
        "num_classes = 5  # (en este ejemplo son 5)\n",
        "y = to_categorical(y, num_classes=num_classes)\n",
        "\n",
        "# Verificamos la shape de la variable\n",
        "print(\"Shape de la variable 'y':\", y.shape)\n",
        "\n",
        "print(\"\\nPrimeras 5 filas de 'y' (one-hot encoding):\")\n",
        "print(y[:5])\n",
        "\n",
        "print(\"\\nCantidad de filas de df_reviews:\", len(df_reviews))\n",
        "\n",
        "\n"
      ],
      "execution_count": 40,
      "outputs": [
        {
          "output_type": "stream",
          "name": "stdout",
          "text": [
            "Shape de la variable 'y': (22641, 5)\n",
            "\n",
            "Primeras 5 filas de 'y' (one-hot encoding):\n",
            "[[0. 0. 0. 1. 0.]\n",
            " [0. 0. 0. 0. 1.]\n",
            " [0. 0. 1. 0. 0.]\n",
            " [0. 0. 0. 0. 1.]\n",
            " [0. 0. 0. 0. 1.]]\n",
            "\n",
            "Cantidad de filas de df_reviews: 22641\n"
          ]
        }
      ]
    },
    {
      "cell_type": "code",
      "source": [
        "y_labels = np.argmax(y, axis=1)\n",
        "\n",
        "unique, counts = np.unique(y_labels, return_counts=True)\n",
        "\n",
        "for cls, count in zip(unique, counts):\n",
        "    print(f\"Clase {cls}: {count} ejemplos\")\n",
        ""
      ],
      "metadata": {
        "colab": {
          "base_uri": "https://localhost:8080/"
        },
        "id": "6AF-QSniQnFh",
        "outputId": "ed81e2bc-3733-4f4b-a8f0-267d7aa3311f"
      },
      "execution_count": 41,
      "outputs": [
        {
          "output_type": "stream",
          "name": "stdout",
          "text": [
            "Clase 0: 821 ejemplos\n",
            "Clase 1: 1549 ejemplos\n",
            "Clase 2: 2823 ejemplos\n",
            "Clase 3: 4908 ejemplos\n",
            "Clase 4: 12540 ejemplos\n"
          ]
        }
      ]
    },
    {
      "cell_type": "code",
      "metadata": {
        "id": "Rmz9A6n4uK4V"
      },
      "source": [
        "# Alumno: Dividir los datos en train y test\n",
        "from sklearn.model_selection import train_test_split\n",
        "X = padded_sequences\n",
        "x_train,x_test,y_train,y_test = train_test_split(X,y,test_size=0.2,random_state=42)\n"
      ],
      "execution_count": 43,
      "outputs": []
    },
    {
      "cell_type": "code",
      "metadata": {
        "id": "EcDPlhEouQ9E",
        "colab": {
          "base_uri": "https://localhost:8080/"
        },
        "outputId": "1e8a34b5-81ab-4a01-f1e0-986366e40123"
      },
      "source": [
        "# Alumno: determinar la dimensiones de entrada y salida\n",
        "print(\"\\nDimensiones de entrada (X):\", X.shape[1]) #Long maxima de oracion por palabras\n",
        "print(\"\\nDimensiones de salida (y):\", y.shape[1]) #Clases\n"
      ],
      "execution_count": 50,
      "outputs": [
        {
          "output_type": "stream",
          "name": "stdout",
          "text": [
            "\n",
            "Dimensiones de entrada (X): 115\n",
            "\n",
            "Dimensiones de salida (y): 5\n"
          ]
        }
      ]
    },
    {
      "cell_type": "markdown",
      "metadata": {
        "id": "NpbQHExL6OTu"
      },
      "source": [
        "### 2 - Entrenar el modelo con Embeddings + LSTM"
      ]
    },
    {
      "cell_type": "code",
      "metadata": {
        "id": "NUkuWBsM6cx3"
      },
      "source": [
        "# Alumno: Entrene su modelo con LSTM entrenando sus propios embeddings\n",
        "# o utilizando embeddings pre-entrenados.\n",
        "from keras.layers import LSTM\n",
        "from keras.layers import Embedding\n",
        "from keras.layers import Dropout\n",
        "from tensorflow.keras.layers import LSTM, Embedding, Dropout, Masking, Bidirectional,GlobalMaxPooling1D\n",
        "from sklearn.model_selection import train_test_split\n",
        "from sklearn.utils import class_weight\n",
        "from tensorflow.keras.models import Sequential\n",
        "from tensorflow.keras.optimizers import Adam\n"
      ],
      "execution_count": 51,
      "outputs": []
    },
    {
      "cell_type": "code",
      "source": [
        "y_train_labels = np.argmax(y_train, axis=1)\n",
        "weights = class_weight.compute_class_weight(class_weight='balanced',\n",
        "                                             classes=np.unique(y_train_labels),\n",
        "                                             y=y_train_labels)\n",
        "class_weights = dict(enumerate(weights))"
      ],
      "metadata": {
        "id": "ADp5rIahSPUo"
      },
      "execution_count": 53,
      "outputs": []
    },
    {
      "cell_type": "code",
      "source": [
        "print(class_weights)"
      ],
      "metadata": {
        "colab": {
          "base_uri": "https://localhost:8080/"
        },
        "id": "z850NeA9SV-T",
        "outputId": "d480c643-0aef-44e5-bb54-54bffb6ea13b"
      },
      "execution_count": 54,
      "outputs": [
        {
          "output_type": "stream",
          "name": "stdout",
          "text": [
            "{0: np.float64(5.382466567607727), 1: np.float64(2.9212903225806452), 2: np.float64(1.6207606263982104), 3: np.float64(0.9126732174351222), 4: np.float64(0.36242121060530263)}\n"
          ]
        }
      ]
    },
    {
      "cell_type": "code",
      "source": [
        "input_length = x_train.shape[1]\n",
        "output_dim = y.shape[1]"
      ],
      "metadata": {
        "id": "N29m0t8VSj7i"
      },
      "execution_count": 55,
      "outputs": []
    },
    {
      "cell_type": "markdown",
      "source": [
        "# **Sin embeddings pre entrenados**"
      ],
      "metadata": {
        "id": "igOX6flCTi9B"
      }
    },
    {
      "cell_type": "code",
      "source": [
        "output_dim = y.shape[1]\n",
        "model = Sequential()\n",
        "model.add(Embedding(input_dim=num_words, output_dim=128, input_length=maxlen, mask_zero=True))\n",
        "model.add(Bidirectional(LSTM(128, return_sequences=True)))\n",
        "model.add(GlobalMaxPooling1D())\n",
        "model.add(Dense(128, activation='relu'))\n",
        "model.add(Dropout(0.5))\n",
        "model.add(Dense(output_dim, activation='softmax'))"
      ],
      "metadata": {
        "id": "7qsg0RjvSqoZ"
      },
      "execution_count": 59,
      "outputs": []
    },
    {
      "cell_type": "code",
      "source": [
        "model.compile(optimizer='adam',\n",
        "              loss='categorical_crossentropy',\n",
        "              metrics=['accuracy'])"
      ],
      "metadata": {
        "id": "hmV64B5PUMLk"
      },
      "execution_count": 62,
      "outputs": []
    },
    {
      "cell_type": "code",
      "source": [
        "history = model.fit(x_train, y_train,\n",
        "                    validation_data=(x_test, y_test),\n",
        "                    epochs=10,\n",
        "                    batch_size=64,\n",
        "                    class_weight=class_weights)\n",
        ""
      ],
      "metadata": {
        "colab": {
          "base_uri": "https://localhost:8080/"
        },
        "id": "IfgltO24VktN",
        "outputId": "ba503be7-333f-40a8-904f-ce6f749985a9"
      },
      "execution_count": 64,
      "outputs": [
        {
          "output_type": "stream",
          "name": "stdout",
          "text": [
            "Epoch 1/10\n"
          ]
        },
        {
          "output_type": "stream",
          "name": "stderr",
          "text": [
            "/usr/local/lib/python3.11/dist-packages/keras/src/layers/layer.py:938: UserWarning:\n",
            "\n",
            "Layer 'global_max_pooling1d_1' (of type GlobalMaxPooling1D) was passed an input with a mask attached to it. However, this layer does not support masking and will therefore destroy the mask information. Downstream layers will not see the mask.\n",
            "\n"
          ]
        },
        {
          "output_type": "stream",
          "name": "stdout",
          "text": [
            "\u001b[1m283/283\u001b[0m \u001b[32m━━━━━━━━━━━━━━━━━━━━\u001b[0m\u001b[37m\u001b[0m \u001b[1m13s\u001b[0m 20ms/step - accuracy: 0.3198 - loss: 1.5090 - val_accuracy: 0.5820 - val_loss: 1.0214\n",
            "Epoch 2/10\n",
            "\u001b[1m283/283\u001b[0m \u001b[32m━━━━━━━━━━━━━━━━━━━━\u001b[0m\u001b[37m\u001b[0m \u001b[1m5s\u001b[0m 18ms/step - accuracy: 0.5525 - loss: 1.1750 - val_accuracy: 0.5968 - val_loss: 0.9609\n",
            "Epoch 3/10\n",
            "\u001b[1m283/283\u001b[0m \u001b[32m━━━━━━━━━━━━━━━━━━━━\u001b[0m\u001b[37m\u001b[0m \u001b[1m7s\u001b[0m 24ms/step - accuracy: 0.6327 - loss: 0.9775 - val_accuracy: 0.6189 - val_loss: 0.9015\n",
            "Epoch 4/10\n",
            "\u001b[1m283/283\u001b[0m \u001b[32m━━━━━━━━━━━━━━━━━━━━\u001b[0m\u001b[37m\u001b[0m \u001b[1m10s\u001b[0m 24ms/step - accuracy: 0.6635 - loss: 0.8896 - val_accuracy: 0.5992 - val_loss: 0.9589\n",
            "Epoch 5/10\n",
            "\u001b[1m283/283\u001b[0m \u001b[32m━━━━━━━━━━━━━━━━━━━━\u001b[0m\u001b[37m\u001b[0m \u001b[1m9s\u001b[0m 18ms/step - accuracy: 0.7114 - loss: 0.7341 - val_accuracy: 0.5736 - val_loss: 1.0294\n",
            "Epoch 6/10\n",
            "\u001b[1m283/283\u001b[0m \u001b[32m━━━━━━━━━━━━━━━━━━━━\u001b[0m\u001b[37m\u001b[0m \u001b[1m10s\u001b[0m 18ms/step - accuracy: 0.7388 - loss: 0.6429 - val_accuracy: 0.6041 - val_loss: 1.1408\n",
            "Epoch 7/10\n",
            "\u001b[1m283/283\u001b[0m \u001b[32m━━━━━━━━━━━━━━━━━━━━\u001b[0m\u001b[37m\u001b[0m \u001b[1m6s\u001b[0m 20ms/step - accuracy: 0.7715 - loss: 0.5444 - val_accuracy: 0.5986 - val_loss: 1.3169\n",
            "Epoch 8/10\n",
            "\u001b[1m283/283\u001b[0m \u001b[32m━━━━━━━━━━━━━━━━━━━━\u001b[0m\u001b[37m\u001b[0m \u001b[1m5s\u001b[0m 18ms/step - accuracy: 0.7881 - loss: 0.4710 - val_accuracy: 0.5546 - val_loss: 1.4215\n",
            "Epoch 9/10\n",
            "\u001b[1m283/283\u001b[0m \u001b[32m━━━━━━━━━━━━━━━━━━━━\u001b[0m\u001b[37m\u001b[0m \u001b[1m6s\u001b[0m 20ms/step - accuracy: 0.8203 - loss: 0.3944 - val_accuracy: 0.5151 - val_loss: 1.5580\n",
            "Epoch 10/10\n",
            "\u001b[1m283/283\u001b[0m \u001b[32m━━━━━━━━━━━━━━━━━━━━\u001b[0m\u001b[37m\u001b[0m \u001b[1m10s\u001b[0m 18ms/step - accuracy: 0.8358 - loss: 0.3355 - val_accuracy: 0.5767 - val_loss: 1.7069\n"
          ]
        }
      ]
    },
    {
      "cell_type": "code",
      "source": [
        "import matplotlib.pyplot as plt\n",
        "import seaborn as sns\n",
        "\n",
        "def plot_learning_curves(history):\n",
        "\n",
        "    # Graficar la precisión\n",
        "    plt.figure(figsize=(12, 5))\n",
        "    plt.subplot(1, 2, 1)\n",
        "    sns.lineplot(x=range(1, len(history.history['accuracy']) + 1),\n",
        "                 y=history.history['accuracy'],\n",
        "                 label='Precisión del entrenamiento')\n",
        "    sns.lineplot(x=range(1, len(history.history['val_accuracy']) + 1),\n",
        "                 y=history.history['val_accuracy'],\n",
        "                 label='Precisión de la validación')\n",
        "    plt.title('Precisión del Entrenamiento y la Validación por Ecoch')\n",
        "    plt.xlabel('Epoch')\n",
        "    plt.ylabel('Accuracy')\n",
        "    plt.legend()\n",
        "\n",
        "    # Graficar la pérdida\n",
        "    plt.subplot(1, 2, 2)\n",
        "    sns.lineplot(x=range(1, len(history.history['loss']) + 1),\n",
        "                 y=history.history['loss'],\n",
        "                 label='Pérdida del entrenamiento')\n",
        "    sns.lineplot(x=range(1, len(history.history['val_loss']) + 1),\n",
        "                 y=history.history['val_loss'],\n",
        "                 label='Pérdida de la validación')\n",
        "    plt.title('Pérdida del Entrenamiento y la Validación por Ecoch ')\n",
        "    plt.xlabel('Epoch')\n",
        "    plt.ylabel('Lost')\n",
        "    plt.legend()\n",
        "\n",
        "    plt.tight_layout()\n",
        "    plt.show()\n",
        "\n",
        "if 'history' in locals():\n",
        "    plot_learning_curves(history)\n",
        "else:\n",
        "    print(\"Por favor, ejecuta el entrenamiento del modelo primero para obtener el 'history'.\")"
      ],
      "metadata": {
        "colab": {
          "base_uri": "https://localhost:8080/",
          "height": 507
        },
        "id": "pXKz9HM_VhUI",
        "outputId": "742605b7-165a-4dc7-dbe7-72d64d1a0fb9"
      },
      "execution_count": 69,
      "outputs": [
        {
          "output_type": "display_data",
          "data": {
            "text/plain": [
              "<Figure size 1200x500 with 2 Axes>"
            ],
            "image/png": "[encoded data removed]"
          },
          "metadata": {}
        }
      ]
    },
    {
      "cell_type": "code",
      "source": [
        "#Aumentemos las epocas a 100\n",
        "history = model.fit(x_train, y_train,\n",
        "                    validation_data=(x_test, y_test),\n",
        "                    epochs=100,\n",
        "                    batch_size=64,\n",
        "                    class_weight=class_weights)"
      ],
      "metadata": {
        "colab": {
          "base_uri": "https://localhost:8080/"
        },
        "id": "cKAoQy3GWmey",
        "outputId": "72a9466d-20a0-4573-950d-d7926140e4b5"
      },
      "execution_count": 70,
      "outputs": [
        {
          "output_type": "stream",
          "name": "stdout",
          "text": [
            "Epoch 1/100\n",
            "\u001b[1m283/283\u001b[0m \u001b[32m━━━━━━━━━━━━━━━━━━━━\u001b[0m\u001b[37m\u001b[0m \u001b[1m5s\u001b[0m 18ms/step - accuracy: 0.8556 - loss: 0.2955 - val_accuracy: 0.5147 - val_loss: 1.8802\n",
            "Epoch 2/100\n",
            "\u001b[1m283/283\u001b[0m \u001b[32m━━━━━━━━━━━━━━━━━━━━\u001b[0m\u001b[37m\u001b[0m \u001b[1m6s\u001b[0m 20ms/step - accuracy: 0.8625 - loss: 0.2654 - val_accuracy: 0.5633 - val_loss: 2.0606\n",
            "Epoch 3/100\n",
            "\u001b[1m283/283\u001b[0m \u001b[32m━━━━━━━━━━━━━━━━━━━━\u001b[0m\u001b[37m\u001b[0m \u001b[1m11s\u001b[0m 22ms/step - accuracy: 0.8833 - loss: 0.2378 - val_accuracy: 0.5418 - val_loss: 2.2019\n",
            "Epoch 4/100\n",
            "\u001b[1m283/283\u001b[0m \u001b[32m━━━━━━━━━━━━━━━━━━━━\u001b[0m\u001b[37m\u001b[0m \u001b[1m5s\u001b[0m 18ms/step - accuracy: 0.8921 - loss: 0.2166 - val_accuracy: 0.5637 - val_loss: 2.2156\n",
            "Epoch 5/100\n",
            "\u001b[1m283/283\u001b[0m \u001b[32m━━━━━━━━━━━━━━━━━━━━\u001b[0m\u001b[37m\u001b[0m \u001b[1m6s\u001b[0m 21ms/step - accuracy: 0.9040 - loss: 0.1733 - val_accuracy: 0.5390 - val_loss: 2.5288\n",
            "Epoch 6/100\n",
            "\u001b[1m283/283\u001b[0m \u001b[32m━━━━━━━━━━━━━━━━━━━━\u001b[0m\u001b[37m\u001b[0m \u001b[1m10s\u001b[0m 19ms/step - accuracy: 0.9154 - loss: 0.1701 - val_accuracy: 0.5527 - val_loss: 2.6231\n",
            "Epoch 7/100\n",
            "\u001b[1m283/283\u001b[0m \u001b[32m━━━━━━━━━━━━━━━━━━━━\u001b[0m\u001b[37m\u001b[0m \u001b[1m6s\u001b[0m 23ms/step - accuracy: 0.9267 - loss: 0.1444 - val_accuracy: 0.5604 - val_loss: 2.7503\n",
            "Epoch 8/100\n",
            "\u001b[1m283/283\u001b[0m \u001b[32m━━━━━━━━━━━━━━━━━━━━\u001b[0m\u001b[37m\u001b[0m \u001b[1m5s\u001b[0m 18ms/step - accuracy: 0.9243 - loss: 0.1614 - val_accuracy: 0.5558 - val_loss: 2.8923\n",
            "Epoch 9/100\n",
            "\u001b[1m283/283\u001b[0m \u001b[32m━━━━━━━━━━━━━━━━━━━━\u001b[0m\u001b[37m\u001b[0m \u001b[1m6s\u001b[0m 20ms/step - accuracy: 0.9367 - loss: 0.1258 - val_accuracy: 0.5769 - val_loss: 2.8962\n",
            "Epoch 10/100\n",
            "\u001b[1m283/283\u001b[0m \u001b[32m━━━━━━━━━━━━━━━━━━━━\u001b[0m\u001b[37m\u001b[0m \u001b[1m5s\u001b[0m 17ms/step - accuracy: 0.9428 - loss: 0.1100 - val_accuracy: 0.5577 - val_loss: 3.0605\n",
            "Epoch 11/100\n",
            "\u001b[1m283/283\u001b[0m \u001b[32m━━━━━━━━━━━━━━━━━━━━\u001b[0m\u001b[37m\u001b[0m \u001b[1m5s\u001b[0m 18ms/step - accuracy: 0.9483 - loss: 0.0959 - val_accuracy: 0.5750 - val_loss: 3.3938\n",
            "Epoch 12/100\n",
            "\u001b[1m283/283\u001b[0m \u001b[32m━━━━━━━━━━━━━━━━━━━━\u001b[0m\u001b[37m\u001b[0m \u001b[1m10s\u001b[0m 18ms/step - accuracy: 0.9540 - loss: 0.0807 - val_accuracy: 0.5697 - val_loss: 3.5771\n",
            "Epoch 13/100\n",
            "\u001b[1m283/283\u001b[0m \u001b[32m━━━━━━━━━━━━━━━━━━━━\u001b[0m\u001b[37m\u001b[0m \u001b[1m6s\u001b[0m 21ms/step - accuracy: 0.9543 - loss: 0.0849 - val_accuracy: 0.5577 - val_loss: 3.4509\n",
            "Epoch 14/100\n",
            "\u001b[1m283/283\u001b[0m \u001b[32m━━━━━━━━━━━━━━━━━━━━\u001b[0m\u001b[37m\u001b[0m \u001b[1m10s\u001b[0m 20ms/step - accuracy: 0.9558 - loss: 0.0846 - val_accuracy: 0.5401 - val_loss: 3.5915\n",
            "Epoch 15/100\n",
            "\u001b[1m283/283\u001b[0m \u001b[32m━━━━━━━━━━━━━━━━━━━━\u001b[0m\u001b[37m\u001b[0m \u001b[1m10s\u001b[0m 18ms/step - accuracy: 0.9641 - loss: 0.0700 - val_accuracy: 0.5608 - val_loss: 3.5121\n",
            "Epoch 16/100\n",
            "\u001b[1m283/283\u001b[0m \u001b[32m━━━━━━━━━━━━━━━━━━━━\u001b[0m\u001b[37m\u001b[0m \u001b[1m10s\u001b[0m 18ms/step - accuracy: 0.9612 - loss: 0.0916 - val_accuracy: 0.5745 - val_loss: 3.7760\n",
            "Epoch 17/100\n",
            "\u001b[1m283/283\u001b[0m \u001b[32m━━━━━━━━━━━━━━━━━━━━\u001b[0m\u001b[37m\u001b[0m \u001b[1m6s\u001b[0m 22ms/step - accuracy: 0.9709 - loss: 0.0557 - val_accuracy: 0.5807 - val_loss: 4.1316\n",
            "Epoch 18/100\n",
            "\u001b[1m283/283\u001b[0m \u001b[32m━━━━━━━━━━━━━━━━━━━━\u001b[0m\u001b[37m\u001b[0m \u001b[1m9s\u001b[0m 19ms/step - accuracy: 0.9725 - loss: 0.0440 - val_accuracy: 0.5811 - val_loss: 4.4762\n",
            "Epoch 19/100\n",
            "\u001b[1m283/283\u001b[0m \u001b[32m━━━━━━━━━━━━━━━━━━━━\u001b[0m\u001b[37m\u001b[0m \u001b[1m10s\u001b[0m 18ms/step - accuracy: 0.9727 - loss: 0.0505 - val_accuracy: 0.5816 - val_loss: 4.0883\n",
            "Epoch 20/100\n",
            "\u001b[1m283/283\u001b[0m \u001b[32m━━━━━━━━━━━━━━━━━━━━\u001b[0m\u001b[37m\u001b[0m \u001b[1m10s\u001b[0m 18ms/step - accuracy: 0.9732 - loss: 0.0503 - val_accuracy: 0.5805 - val_loss: 4.3571\n",
            "Epoch 21/100\n",
            "\u001b[1m283/283\u001b[0m \u001b[32m━━━━━━━━━━━━━━━━━━━━\u001b[0m\u001b[37m\u001b[0m \u001b[1m6s\u001b[0m 20ms/step - accuracy: 0.9739 - loss: 0.0572 - val_accuracy: 0.5558 - val_loss: 4.3991\n",
            "Epoch 22/100\n",
            "\u001b[1m283/283\u001b[0m \u001b[32m━━━━━━━━━━━━━━━━━━━━\u001b[0m\u001b[37m\u001b[0m \u001b[1m5s\u001b[0m 17ms/step - accuracy: 0.9768 - loss: 0.0425 - val_accuracy: 0.5758 - val_loss: 4.3823\n",
            "Epoch 23/100\n",
            "\u001b[1m283/283\u001b[0m \u001b[32m━━━━━━━━━━━━━━━━━━━━\u001b[0m\u001b[37m\u001b[0m \u001b[1m6s\u001b[0m 20ms/step - accuracy: 0.9817 - loss: 0.0351 - val_accuracy: 0.5714 - val_loss: 4.8803\n",
            "Epoch 24/100\n",
            "\u001b[1m283/283\u001b[0m \u001b[32m━━━━━━━━━━━━━━━━━━━━\u001b[0m\u001b[37m\u001b[0m \u001b[1m5s\u001b[0m 18ms/step - accuracy: 0.9847 - loss: 0.0339 - val_accuracy: 0.5597 - val_loss: 4.9871\n",
            "Epoch 25/100\n",
            "\u001b[1m283/283\u001b[0m \u001b[32m━━━━━━━━━━━━━━━━━━━━\u001b[0m\u001b[37m\u001b[0m \u001b[1m5s\u001b[0m 17ms/step - accuracy: 0.9806 - loss: 0.0475 - val_accuracy: 0.5816 - val_loss: 4.9354\n",
            "Epoch 26/100\n",
            "\u001b[1m283/283\u001b[0m \u001b[32m━━━━━━━━━━━━━━━━━━━━\u001b[0m\u001b[37m\u001b[0m \u001b[1m6s\u001b[0m 20ms/step - accuracy: 0.9824 - loss: 0.0328 - val_accuracy: 0.5871 - val_loss: 5.1446\n",
            "Epoch 27/100\n",
            "\u001b[1m283/283\u001b[0m \u001b[32m━━━━━━━━━━━━━━━━━━━━\u001b[0m\u001b[37m\u001b[0m \u001b[1m10s\u001b[0m 20ms/step - accuracy: 0.9850 - loss: 0.0379 - val_accuracy: 0.5560 - val_loss: 4.9667\n",
            "Epoch 28/100\n",
            "\u001b[1m283/283\u001b[0m \u001b[32m━━━━━━━━━━━━━━━━━━━━\u001b[0m\u001b[37m\u001b[0m \u001b[1m5s\u001b[0m 18ms/step - accuracy: 0.9827 - loss: 0.0315 - val_accuracy: 0.5814 - val_loss: 5.3334\n",
            "Epoch 29/100\n",
            "\u001b[1m283/283\u001b[0m \u001b[32m━━━━━━━━━━━━━━━━━━━━\u001b[0m\u001b[37m\u001b[0m \u001b[1m6s\u001b[0m 20ms/step - accuracy: 0.9875 - loss: 0.0267 - val_accuracy: 0.5732 - val_loss: 5.2427\n",
            "Epoch 30/100\n",
            "\u001b[1m283/283\u001b[0m \u001b[32m━━━━━━━━━━━━━━━━━━━━\u001b[0m\u001b[37m\u001b[0m \u001b[1m10s\u001b[0m 18ms/step - accuracy: 0.9878 - loss: 0.0277 - val_accuracy: 0.5664 - val_loss: 5.1082\n",
            "Epoch 31/100\n",
            "\u001b[1m283/283\u001b[0m \u001b[32m━━━━━━━━━━━━━━━━━━━━\u001b[0m\u001b[37m\u001b[0m \u001b[1m6s\u001b[0m 20ms/step - accuracy: 0.9838 - loss: 0.0362 - val_accuracy: 0.5569 - val_loss: 5.4411\n",
            "Epoch 32/100\n",
            "\u001b[1m283/283\u001b[0m \u001b[32m━━━━━━━━━━━━━━━━━━━━\u001b[0m\u001b[37m\u001b[0m \u001b[1m5s\u001b[0m 17ms/step - accuracy: 0.9857 - loss: 0.0379 - val_accuracy: 0.5624 - val_loss: 5.5483\n",
            "Epoch 33/100\n",
            "\u001b[1m283/283\u001b[0m \u001b[32m━━━━━━━━━━━━━━━━━━━━\u001b[0m\u001b[37m\u001b[0m \u001b[1m6s\u001b[0m 20ms/step - accuracy: 0.9890 - loss: 0.0274 - val_accuracy: 0.5613 - val_loss: 5.8507\n",
            "Epoch 34/100\n",
            "\u001b[1m283/283\u001b[0m \u001b[32m━━━━━━━━━━━━━━━━━━━━\u001b[0m\u001b[37m\u001b[0m \u001b[1m10s\u001b[0m 18ms/step - accuracy: 0.9925 - loss: 0.0153 - val_accuracy: 0.5750 - val_loss: 5.5783\n",
            "Epoch 35/100\n",
            "\u001b[1m283/283\u001b[0m \u001b[32m━━━━━━━━━━━━━━━━━━━━\u001b[0m\u001b[37m\u001b[0m \u001b[1m6s\u001b[0m 19ms/step - accuracy: 0.9925 - loss: 0.0184 - val_accuracy: 0.5800 - val_loss: 5.7391\n",
            "Epoch 36/100\n",
            "\u001b[1m283/283\u001b[0m \u001b[32m━━━━━━━━━━━━━━━━━━━━\u001b[0m\u001b[37m\u001b[0m \u001b[1m5s\u001b[0m 18ms/step - accuracy: 0.9903 - loss: 0.0303 - val_accuracy: 0.5599 - val_loss: 5.7853\n",
            "Epoch 37/100\n",
            "\u001b[1m283/283\u001b[0m \u001b[32m━━━━━━━━━━━━━━━━━━━━\u001b[0m\u001b[37m\u001b[0m \u001b[1m6s\u001b[0m 21ms/step - accuracy: 0.9852 - loss: 0.0393 - val_accuracy: 0.5679 - val_loss: 5.3881\n",
            "Epoch 38/100\n",
            "\u001b[1m283/283\u001b[0m \u001b[32m━━━━━━━━━━━━━━━━━━━━\u001b[0m\u001b[37m\u001b[0m \u001b[1m5s\u001b[0m 18ms/step - accuracy: 0.9882 - loss: 0.0268 - val_accuracy: 0.5635 - val_loss: 5.9537\n",
            "Epoch 39/100\n",
            "\u001b[1m283/283\u001b[0m \u001b[32m━━━━━━━━━━━━━━━━━━━━\u001b[0m\u001b[37m\u001b[0m \u001b[1m6s\u001b[0m 20ms/step - accuracy: 0.9957 - loss: 0.0149 - val_accuracy: 0.5628 - val_loss: 6.1956\n",
            "Epoch 40/100\n",
            "\u001b[1m283/283\u001b[0m \u001b[32m━━━━━━━━━━━━━━━━━━━━\u001b[0m\u001b[37m\u001b[0m \u001b[1m5s\u001b[0m 18ms/step - accuracy: 0.9957 - loss: 0.0101 - val_accuracy: 0.5721 - val_loss: 6.2329\n",
            "Epoch 41/100\n",
            "\u001b[1m283/283\u001b[0m \u001b[32m━━━━━━━━━━━━━━━━━━━━\u001b[0m\u001b[37m\u001b[0m \u001b[1m5s\u001b[0m 18ms/step - accuracy: 0.9966 - loss: 0.0121 - val_accuracy: 0.5701 - val_loss: 6.1187\n",
            "Epoch 42/100\n",
            "\u001b[1m283/283\u001b[0m \u001b[32m━━━━━━━━━━━━━━━━━━━━\u001b[0m\u001b[37m\u001b[0m \u001b[1m6s\u001b[0m 20ms/step - accuracy: 0.9906 - loss: 0.0259 - val_accuracy: 0.5688 - val_loss: 6.0538\n",
            "Epoch 43/100\n",
            "\u001b[1m283/283\u001b[0m \u001b[32m━━━━━━━━━━━━━━━━━━━━\u001b[0m\u001b[37m\u001b[0m \u001b[1m11s\u001b[0m 24ms/step - accuracy: 0.9951 - loss: 0.0126 - val_accuracy: 0.5769 - val_loss: 6.6064\n",
            "Epoch 44/100\n",
            "\u001b[1m283/283\u001b[0m \u001b[32m━━━━━━━━━━━━━━━━━━━━\u001b[0m\u001b[37m\u001b[0m \u001b[1m7s\u001b[0m 24ms/step - accuracy: 0.9951 - loss: 0.0154 - val_accuracy: 0.5758 - val_loss: 6.2785\n",
            "Epoch 45/100\n",
            "\u001b[1m283/283\u001b[0m \u001b[32m━━━━━━━━━━━━━━━━━━━━\u001b[0m\u001b[37m\u001b[0m \u001b[1m9s\u001b[0m 18ms/step - accuracy: 0.9803 - loss: 0.0604 - val_accuracy: 0.5529 - val_loss: 5.6536\n",
            "Epoch 46/100\n",
            "\u001b[1m283/283\u001b[0m \u001b[32m━━━━━━━━━━━━━━━━━━━━\u001b[0m\u001b[37m\u001b[0m \u001b[1m5s\u001b[0m 19ms/step - accuracy: 0.9945 - loss: 0.0154 - val_accuracy: 0.5657 - val_loss: 6.0938\n",
            "Epoch 47/100\n",
            "\u001b[1m283/283\u001b[0m \u001b[32m━━━━━━━━━━━━━━━━━━━━\u001b[0m\u001b[37m\u001b[0m \u001b[1m6s\u001b[0m 19ms/step - accuracy: 0.9954 - loss: 0.0114 - val_accuracy: 0.5500 - val_loss: 6.4747\n",
            "Epoch 48/100\n",
            "\u001b[1m283/283\u001b[0m \u001b[32m━━━━━━━━━━━━━━━━━━━━\u001b[0m\u001b[37m\u001b[0m \u001b[1m11s\u001b[0m 22ms/step - accuracy: 0.9955 - loss: 0.0136 - val_accuracy: 0.5617 - val_loss: 6.5197\n",
            "Epoch 49/100\n",
            "\u001b[1m283/283\u001b[0m \u001b[32m━━━━━━━━━━━━━━━━━━━━\u001b[0m\u001b[37m\u001b[0m \u001b[1m10s\u001b[0m 21ms/step - accuracy: 0.9979 - loss: 0.0063 - val_accuracy: 0.5683 - val_loss: 6.7508\n",
            "Epoch 50/100\n",
            "\u001b[1m283/283\u001b[0m \u001b[32m━━━━━━━━━━━━━━━━━━━━\u001b[0m\u001b[37m\u001b[0m \u001b[1m10s\u001b[0m 22ms/step - accuracy: 0.9975 - loss: 0.0056 - val_accuracy: 0.5611 - val_loss: 7.0417\n",
            "Epoch 51/100\n",
            "\u001b[1m283/283\u001b[0m \u001b[32m━━━━━━━━━━━━━━━━━━━━\u001b[0m\u001b[37m\u001b[0m \u001b[1m6s\u001b[0m 20ms/step - accuracy: 0.9968 - loss: 0.0063 - val_accuracy: 0.5721 - val_loss: 7.5981\n",
            "Epoch 52/100\n",
            "\u001b[1m283/283\u001b[0m \u001b[32m━━━━━━━━━━━━━━━━━━━━\u001b[0m\u001b[37m\u001b[0m \u001b[1m5s\u001b[0m 18ms/step - accuracy: 0.9987 - loss: 0.0052 - val_accuracy: 0.5814 - val_loss: 6.4872\n",
            "Epoch 53/100\n",
            "\u001b[1m283/283\u001b[0m \u001b[32m━━━━━━━━━━━━━━━━━━━━\u001b[0m\u001b[37m\u001b[0m \u001b[1m6s\u001b[0m 20ms/step - accuracy: 0.9924 - loss: 0.0217 - val_accuracy: 0.5825 - val_loss: 5.7412\n",
            "Epoch 54/100\n",
            "\u001b[1m283/283\u001b[0m \u001b[32m━━━━━━━━━━━━━━━━━━━━\u001b[0m\u001b[37m\u001b[0m \u001b[1m10s\u001b[0m 20ms/step - accuracy: 0.9856 - loss: 0.0479 - val_accuracy: 0.5622 - val_loss: 5.4728\n",
            "Epoch 55/100\n",
            "\u001b[1m283/283\u001b[0m \u001b[32m━━━━━━━━━━━━━━━━━━━━\u001b[0m\u001b[37m\u001b[0m \u001b[1m10s\u001b[0m 18ms/step - accuracy: 0.9910 - loss: 0.0211 - val_accuracy: 0.5756 - val_loss: 6.7504\n",
            "Epoch 56/100\n",
            "\u001b[1m283/283\u001b[0m \u001b[32m━━━━━━━━━━━━━━━━━━━━\u001b[0m\u001b[37m\u001b[0m \u001b[1m10s\u001b[0m 19ms/step - accuracy: 0.9977 - loss: 0.0069 - val_accuracy: 0.5778 - val_loss: 7.2504\n",
            "Epoch 57/100\n",
            "\u001b[1m283/283\u001b[0m \u001b[32m━━━━━━━━━━━━━━━━━━━━\u001b[0m\u001b[37m\u001b[0m \u001b[1m7s\u001b[0m 25ms/step - accuracy: 0.9970 - loss: 0.0091 - val_accuracy: 0.5827 - val_loss: 7.5304\n",
            "Epoch 58/100\n",
            "\u001b[1m283/283\u001b[0m \u001b[32m━━━━━━━━━━━━━━━━━━━━\u001b[0m\u001b[37m\u001b[0m \u001b[1m9s\u001b[0m 20ms/step - accuracy: 0.9958 - loss: 0.0168 - val_accuracy: 0.5641 - val_loss: 6.8867\n",
            "Epoch 59/100\n",
            "\u001b[1m283/283\u001b[0m \u001b[32m━━━━━━━━━━━━━━━━━━━━\u001b[0m\u001b[37m\u001b[0m \u001b[1m10s\u001b[0m 19ms/step - accuracy: 0.9946 - loss: 0.0136 - val_accuracy: 0.5756 - val_loss: 7.0523\n",
            "Epoch 60/100\n",
            "\u001b[1m283/283\u001b[0m \u001b[32m━━━━━━━━━━━━━━━━━━━━\u001b[0m\u001b[37m\u001b[0m \u001b[1m6s\u001b[0m 20ms/step - accuracy: 0.9936 - loss: 0.0186 - val_accuracy: 0.5478 - val_loss: 6.6905\n",
            "Epoch 61/100\n",
            "\u001b[1m283/283\u001b[0m \u001b[32m━━━━━━━━━━━━━━━━━━━━\u001b[0m\u001b[37m\u001b[0m \u001b[1m5s\u001b[0m 17ms/step - accuracy: 0.9946 - loss: 0.0158 - val_accuracy: 0.5800 - val_loss: 7.1078\n",
            "Epoch 62/100\n",
            "\u001b[1m283/283\u001b[0m \u001b[32m━━━━━━━━━━━━━━━━━━━━\u001b[0m\u001b[37m\u001b[0m \u001b[1m6s\u001b[0m 20ms/step - accuracy: 0.9974 - loss: 0.0062 - val_accuracy: 0.5611 - val_loss: 6.8793\n",
            "Epoch 63/100\n",
            "\u001b[1m283/283\u001b[0m \u001b[32m━━━━━━━━━━━━━━━━━━━━\u001b[0m\u001b[37m\u001b[0m \u001b[1m10s\u001b[0m 19ms/step - accuracy: 0.9978 - loss: 0.0067 - val_accuracy: 0.5898 - val_loss: 7.9251\n",
            "Epoch 64/100\n",
            "\u001b[1m283/283\u001b[0m \u001b[32m━━━━━━━━━━━━━━━━━━━━\u001b[0m\u001b[37m\u001b[0m \u001b[1m10s\u001b[0m 18ms/step - accuracy: 0.9978 - loss: 0.0045 - val_accuracy: 0.5822 - val_loss: 7.9717\n",
            "Epoch 65/100\n",
            "\u001b[1m283/283\u001b[0m \u001b[32m━━━━━━━━━━━━━━━━━━━━\u001b[0m\u001b[37m\u001b[0m \u001b[1m6s\u001b[0m 21ms/step - accuracy: 0.9994 - loss: 0.0038 - val_accuracy: 0.5703 - val_loss: 8.4884\n",
            "Epoch 66/100\n",
            "\u001b[1m283/283\u001b[0m \u001b[32m━━━━━━━━━━━━━━━━━━━━\u001b[0m\u001b[37m\u001b[0m \u001b[1m10s\u001b[0m 21ms/step - accuracy: 0.9972 - loss: 0.0055 - val_accuracy: 0.5659 - val_loss: 7.4530\n",
            "Epoch 67/100\n",
            "\u001b[1m283/283\u001b[0m \u001b[32m━━━━━━━━━━━━━━━━━━━━\u001b[0m\u001b[37m\u001b[0m \u001b[1m5s\u001b[0m 18ms/step - accuracy: 0.9977 - loss: 0.0055 - val_accuracy: 0.5882 - val_loss: 7.9688\n",
            "Epoch 68/100\n",
            "\u001b[1m283/283\u001b[0m \u001b[32m━━━━━━━━━━━━━━━━━━━━\u001b[0m\u001b[37m\u001b[0m \u001b[1m5s\u001b[0m 19ms/step - accuracy: 0.9939 - loss: 0.0223 - val_accuracy: 0.5613 - val_loss: 6.8274\n",
            "Epoch 69/100\n",
            "\u001b[1m283/283\u001b[0m \u001b[32m━━━━━━━━━━━━━━━━━━━━\u001b[0m\u001b[37m\u001b[0m \u001b[1m10s\u001b[0m 18ms/step - accuracy: 0.9925 - loss: 0.0225 - val_accuracy: 0.5750 - val_loss: 6.9891\n",
            "Epoch 70/100\n",
            "\u001b[1m283/283\u001b[0m \u001b[32m━━━━━━━━━━━━━━━━━━━━\u001b[0m\u001b[37m\u001b[0m \u001b[1m10s\u001b[0m 19ms/step - accuracy: 0.9966 - loss: 0.0095 - val_accuracy: 0.5681 - val_loss: 7.1570\n",
            "Epoch 71/100\n",
            "\u001b[1m283/283\u001b[0m \u001b[32m━━━━━━━━━━━━━━━━━━━━\u001b[0m\u001b[37m\u001b[0m \u001b[1m10s\u001b[0m 18ms/step - accuracy: 0.9974 - loss: 0.0066 - val_accuracy: 0.5750 - val_loss: 7.9791\n",
            "Epoch 72/100\n",
            "\u001b[1m283/283\u001b[0m \u001b[32m━━━━━━━━━━━━━━━━━━━━\u001b[0m\u001b[37m\u001b[0m \u001b[1m10s\u001b[0m 18ms/step - accuracy: 0.9988 - loss: 0.0042 - val_accuracy: 0.5573 - val_loss: 7.7710\n",
            "Epoch 73/100\n",
            "\u001b[1m283/283\u001b[0m \u001b[32m━━━━━━━━━━━━━━━━━━━━\u001b[0m\u001b[37m\u001b[0m \u001b[1m6s\u001b[0m 21ms/step - accuracy: 0.9972 - loss: 0.0080 - val_accuracy: 0.5595 - val_loss: 7.6738\n",
            "Epoch 74/100\n",
            "\u001b[1m283/283\u001b[0m \u001b[32m━━━━━━━━━━━━━━━━━━━━\u001b[0m\u001b[37m\u001b[0m \u001b[1m10s\u001b[0m 19ms/step - accuracy: 0.9959 - loss: 0.0139 - val_accuracy: 0.5668 - val_loss: 7.3712\n",
            "Epoch 75/100\n",
            "\u001b[1m283/283\u001b[0m \u001b[32m━━━━━━━━━━━━━━━━━━━━\u001b[0m\u001b[37m\u001b[0m \u001b[1m10s\u001b[0m 18ms/step - accuracy: 0.9964 - loss: 0.0117 - val_accuracy: 0.5825 - val_loss: 7.6135\n",
            "Epoch 76/100\n",
            "\u001b[1m283/283\u001b[0m \u001b[32m━━━━━━━━━━━━━━━━━━━━\u001b[0m\u001b[37m\u001b[0m \u001b[1m6s\u001b[0m 21ms/step - accuracy: 0.9969 - loss: 0.0071 - val_accuracy: 0.5811 - val_loss: 7.9032\n",
            "Epoch 77/100\n",
            "\u001b[1m283/283\u001b[0m \u001b[32m━━━━━━━━━━━━━━━━━━━━\u001b[0m\u001b[37m\u001b[0m \u001b[1m10s\u001b[0m 20ms/step - accuracy: 0.9979 - loss: 0.0053 - val_accuracy: 0.5831 - val_loss: 8.2445\n",
            "Epoch 78/100\n",
            "\u001b[1m283/283\u001b[0m \u001b[32m━━━━━━━━━━━━━━━━━━━━\u001b[0m\u001b[37m\u001b[0m \u001b[1m5s\u001b[0m 18ms/step - accuracy: 0.9983 - loss: 0.0057 - val_accuracy: 0.5719 - val_loss: 7.9326\n",
            "Epoch 79/100\n",
            "\u001b[1m283/283\u001b[0m \u001b[32m━━━━━━━━━━━━━━━━━━━━\u001b[0m\u001b[37m\u001b[0m \u001b[1m11s\u001b[0m 21ms/step - accuracy: 0.9936 - loss: 0.0160 - val_accuracy: 0.5701 - val_loss: 7.2123\n",
            "Epoch 80/100\n",
            "\u001b[1m283/283\u001b[0m \u001b[32m━━━━━━━━━━━━━━━━━━━━\u001b[0m\u001b[37m\u001b[0m \u001b[1m10s\u001b[0m 21ms/step - accuracy: 0.9949 - loss: 0.0189 - val_accuracy: 0.5686 - val_loss: 7.5743\n",
            "Epoch 81/100\n",
            "\u001b[1m283/283\u001b[0m \u001b[32m━━━━━━━━━━━━━━━━━━━━\u001b[0m\u001b[37m\u001b[0m \u001b[1m10s\u001b[0m 20ms/step - accuracy: 0.9977 - loss: 0.0072 - val_accuracy: 0.5867 - val_loss: 8.9809\n",
            "Epoch 82/100\n",
            "\u001b[1m283/283\u001b[0m \u001b[32m━━━━━━━━━━━━━━━━━━━━\u001b[0m\u001b[37m\u001b[0m \u001b[1m6s\u001b[0m 20ms/step - accuracy: 0.9976 - loss: 0.0056 - val_accuracy: 0.5480 - val_loss: 8.6049\n",
            "Epoch 83/100\n",
            "\u001b[1m283/283\u001b[0m \u001b[32m━━━━━━━━━━━━━━━━━━━━\u001b[0m\u001b[37m\u001b[0m \u001b[1m10s\u001b[0m 20ms/step - accuracy: 0.9975 - loss: 0.0051 - val_accuracy: 0.5710 - val_loss: 9.3191\n",
            "Epoch 84/100\n",
            "\u001b[1m283/283\u001b[0m \u001b[32m━━━━━━━━━━━━━━━━━━━━\u001b[0m\u001b[37m\u001b[0m \u001b[1m5s\u001b[0m 18ms/step - accuracy: 0.9954 - loss: 0.0112 - val_accuracy: 0.5401 - val_loss: 8.7598\n",
            "Epoch 85/100\n",
            "\u001b[1m283/283\u001b[0m \u001b[32m━━━━━━━━━━━━━━━━━━━━\u001b[0m\u001b[37m\u001b[0m \u001b[1m10s\u001b[0m 18ms/step - accuracy: 0.9975 - loss: 0.0066 - val_accuracy: 0.5714 - val_loss: 7.7055\n",
            "Epoch 86/100\n",
            "\u001b[1m283/283\u001b[0m \u001b[32m━━━━━━━━━━━━━━━━━━━━\u001b[0m\u001b[37m\u001b[0m \u001b[1m10s\u001b[0m 18ms/step - accuracy: 0.9946 - loss: 0.0141 - val_accuracy: 0.5750 - val_loss: 8.4121\n",
            "Epoch 87/100\n",
            "\u001b[1m283/283\u001b[0m \u001b[32m━━━━━━━━━━━━━━━━━━━━\u001b[0m\u001b[37m\u001b[0m \u001b[1m12s\u001b[0m 23ms/step - accuracy: 0.9976 - loss: 0.0127 - val_accuracy: 0.5681 - val_loss: 7.6813\n",
            "Epoch 88/100\n",
            "\u001b[1m283/283\u001b[0m \u001b[32m━━━━━━━━━━━━━━━━━━━━\u001b[0m\u001b[37m\u001b[0m \u001b[1m5s\u001b[0m 18ms/step - accuracy: 0.9967 - loss: 0.0150 - val_accuracy: 0.5681 - val_loss: 8.4166\n",
            "Epoch 89/100\n",
            "\u001b[1m283/283\u001b[0m \u001b[32m━━━━━━━━━━━━━━━━━━━━\u001b[0m\u001b[37m\u001b[0m \u001b[1m6s\u001b[0m 21ms/step - accuracy: 0.9983 - loss: 0.0032 - val_accuracy: 0.5747 - val_loss: 8.5834\n",
            "Epoch 90/100\n",
            "\u001b[1m283/283\u001b[0m \u001b[32m━━━━━━━━━━━━━━━━━━━━\u001b[0m\u001b[37m\u001b[0m \u001b[1m11s\u001b[0m 23ms/step - accuracy: 0.9991 - loss: 0.0030 - val_accuracy: 0.5752 - val_loss: 9.2091\n",
            "Epoch 91/100\n",
            "\u001b[1m283/283\u001b[0m \u001b[32m━━━━━━━━━━━━━━━━━━━━\u001b[0m\u001b[37m\u001b[0m \u001b[1m5s\u001b[0m 18ms/step - accuracy: 0.9995 - loss: 0.0015 - val_accuracy: 0.5792 - val_loss: 9.6539\n",
            "Epoch 92/100\n",
            "\u001b[1m283/283\u001b[0m \u001b[32m━━━━━━━━━━━━━━━━━━━━\u001b[0m\u001b[37m\u001b[0m \u001b[1m5s\u001b[0m 19ms/step - accuracy: 0.9994 - loss: 0.0019 - val_accuracy: 0.5719 - val_loss: 9.9754\n",
            "Epoch 93/100\n",
            "\u001b[1m283/283\u001b[0m \u001b[32m━━━━━━━━━━━━━━━━━━━━\u001b[0m\u001b[37m\u001b[0m \u001b[1m5s\u001b[0m 19ms/step - accuracy: 0.9988 - loss: 0.0035 - val_accuracy: 0.5836 - val_loss: 9.2573\n",
            "Epoch 94/100\n",
            "\u001b[1m283/283\u001b[0m \u001b[32m━━━━━━━━━━━━━━━━━━━━\u001b[0m\u001b[37m\u001b[0m \u001b[1m11s\u001b[0m 23ms/step - accuracy: 0.9988 - loss: 0.0031 - val_accuracy: 0.5553 - val_loss: 9.3856\n",
            "Epoch 95/100\n",
            "\u001b[1m283/283\u001b[0m \u001b[32m━━━━━━━━━━━━━━━━━━━━\u001b[0m\u001b[37m\u001b[0m \u001b[1m5s\u001b[0m 18ms/step - accuracy: 0.9926 - loss: 0.0304 - val_accuracy: 0.5308 - val_loss: 7.4173\n",
            "Epoch 96/100\n",
            "\u001b[1m283/283\u001b[0m \u001b[32m━━━━━━━━━━━━━━━━━━━━\u001b[0m\u001b[37m\u001b[0m \u001b[1m6s\u001b[0m 21ms/step - accuracy: 0.9924 - loss: 0.0178 - val_accuracy: 0.5399 - val_loss: 8.2497\n",
            "Epoch 97/100\n",
            "\u001b[1m283/283\u001b[0m \u001b[32m━━━━━━━━━━━━━━━━━━━━\u001b[0m\u001b[37m\u001b[0m \u001b[1m11s\u001b[0m 23ms/step - accuracy: 0.9967 - loss: 0.0080 - val_accuracy: 0.5602 - val_loss: 8.4411\n",
            "Epoch 98/100\n",
            "\u001b[1m283/283\u001b[0m \u001b[32m━━━━━━━━━━━━━━━━━━━━\u001b[0m\u001b[37m\u001b[0m \u001b[1m9s\u001b[0m 19ms/step - accuracy: 0.9992 - loss: 0.0025 - val_accuracy: 0.5630 - val_loss: 9.2007\n",
            "Epoch 99/100\n",
            "\u001b[1m283/283\u001b[0m \u001b[32m━━━━━━━━━━━━━━━━━━━━\u001b[0m\u001b[37m\u001b[0m \u001b[1m6s\u001b[0m 20ms/step - accuracy: 0.9989 - loss: 0.0022 - val_accuracy: 0.5445 - val_loss: 9.9610\n",
            "Epoch 100/100\n",
            "\u001b[1m283/283\u001b[0m \u001b[32m━━━━━━━━━━━━━━━━━━━━\u001b[0m\u001b[37m\u001b[0m \u001b[1m5s\u001b[0m 18ms/step - accuracy: 0.9992 - loss: 0.0016 - val_accuracy: 0.5679 - val_loss: 9.9970\n"
          ]
        }
      ]
    },
    {
      "cell_type": "code",
      "source": [
        "plot_learning_curves(history)"
      ],
      "metadata": {
        "colab": {
          "base_uri": "https://localhost:8080/",
          "height": 507
        },
        "id": "iivCWNEFa5oZ",
        "outputId": "386fdb1a-158b-4f84-c80e-5226fc709d55"
      },
      "execution_count": 71,
      "outputs": [
        {
          "output_type": "display_data",
          "data": {
            "text/plain": [
              "<Figure size 1200x500 with 2 Axes>"
            ],
            "image/png": "[encoded data removed]"
          },
          "metadata": {}
        }
      ]
    },
    {
      "cell_type": "markdown",
      "source": [
        "# Con Embedings Preentrenados"
      ],
      "metadata": {
        "id": "9rJO_PH1hp-a"
      }
    },
    {
      "cell_type": "markdown",
      "source": [
        "**Con embeddings pre entrenados**"
      ],
      "metadata": {
        "id": "JhirrYlcbVyL"
      }
    },
    {
      "cell_type": "code",
      "source": [
        "import kagglehub\n",
        "\n",
        "# Download latest version\n",
        "path = kagglehub.dataset_download(\"danielwillgeorge/glove6b100dtxt\")\n",
        "\n",
        "print(\"Path to dataset files:\", path)\n",
        "\n"
      ],
      "metadata": {
        "colab": {
          "base_uri": "https://localhost:8080/"
        },
        "id": "sFnujNoGbU4J",
        "outputId": "de686165-b55f-4597-f28a-2745ae3107bd"
      },
      "execution_count": 80,
      "outputs": [
        {
          "output_type": "stream",
          "name": "stdout",
          "text": [
            "Path to dataset files: /kaggle/input/glove6b100dtxt\n"
          ]
        }
      ]
    },
    {
      "cell_type": "code",
      "source": [
        "import numpy as np\n",
        "\n",
        "embedding_index = {}\n",
        "glove_file_path = '/content/glove.6B.100d.txt'\n",
        "\n",
        "try:\n",
        "    with open(glove_file_path, encoding='utf8') as f:\n",
        "        for line in f:\n",
        "            values = line.split()\n",
        "            word = values[0]\n",
        "            vector = np.asarray(values[1:], dtype='float32')\n",
        "            embedding_index[word] = vector\n",
        "    print(f\"Loaded {len(embedding_index)} word vectors from {glove_file_path}\")\n",
        "except FileNotFoundError:\n",
        "    print(f\"Error: GloVe file not found at {glove_file_path}. Please ensure the file is uploaded to this location in Colab.\")\n",
        "    embedding_index = {}\n",
        "except Exception as e:\n",
        "    print(f\"Error reading GloVe file: {e}\")\n",
        "    embedding_index = {}\n"
      ],
      "metadata": {
        "colab": {
          "base_uri": "https://localhost:8080/"
        },
        "id": "HQncZ-Jsbht5",
        "outputId": "b4316dd4-1596-472c-d1b6-797170aad5f3"
      },
      "execution_count": 97,
      "outputs": [
        {
          "output_type": "stream",
          "name": "stdout",
          "text": [
            "Error reading GloVe file: could not convert string to float: '-'\n"
          ]
        }
      ]
    },
    {
      "cell_type": "code",
      "source": [
        "embedding_dim = 10\n",
        "embedding_matrix = np.zeros((vocab_size, embedding_dim))\n",
        "\n",
        "for word, i in tokenizer.word_index.items():\n",
        "    if i < vocab_size:\n",
        "        embedding_vector = embedding_index.get(word)\n",
        "        if embedding_vector is not None:\n",
        "            embedding_matrix[i] = embedding_vector\n"
      ],
      "metadata": {
        "id": "MOfLF6R9e_UO"
      },
      "execution_count": 98,
      "outputs": []
    },
    {
      "cell_type": "code",
      "source": [
        "model2 = Sequential()\n",
        "model2.add(Embedding(input_dim=vocab_size,\n",
        "                     output_dim=embedding_dim,\n",
        "                     weights=[embedding_matrix],\n",
        "                     trainable=False))\n",
        "\n",
        "model2.add(Bidirectional(LSTM(128, return_sequences=True)))\n",
        "model2.add(GlobalMaxPooling1D())\n",
        "model2.add(Dense(128, activation='relu'))\n",
        "model2.add(Dropout(0.5))\n",
        "model2.add(Dense(output_dim, activation='softmax'))\n"
      ],
      "metadata": {
        "id": "nKMFe-VhfDqL"
      },
      "execution_count": 99,
      "outputs": []
    },
    {
      "cell_type": "code",
      "source": [
        "model2.compile(optimizer=Adam(learning_rate=0.001), loss='categorical_crossentropy', metrics=['accuracy'])\n"
      ],
      "metadata": {
        "id": "0p2xDGotfFbr"
      },
      "execution_count": 100,
      "outputs": []
    },
    {
      "cell_type": "code",
      "source": [
        "history_pre_trained = model2.fit(x_train, y_train,\n",
        "                    validation_data=(x_test, y_test),\n",
        "                    epochs=10,\n",
        "                    batch_size=64,\n",
        "                    class_weight=class_weights)"
      ],
      "metadata": {
        "colab": {
          "base_uri": "https://localhost:8080/"
        },
        "id": "bXZnj6wHfHQ0",
        "outputId": "fd44eb1e-5827-4f8b-e21a-881abfe9dc9d"
      },
      "execution_count": 101,
      "outputs": [
        {
          "output_type": "stream",
          "name": "stdout",
          "text": [
            "Epoch 1/10\n",
            "\u001b[1m283/283\u001b[0m \u001b[32m━━━━━━━━━━━━━━━━━━━━\u001b[0m\u001b[37m\u001b[0m \u001b[1m8s\u001b[0m 19ms/step - accuracy: 0.1866 - loss: 1.6073 - val_accuracy: 0.5619 - val_loss: 1.6083\n",
            "Epoch 2/10\n",
            "\u001b[1m283/283\u001b[0m \u001b[32m━━━━━━━━━━━━━━━━━━━━\u001b[0m\u001b[37m\u001b[0m \u001b[1m5s\u001b[0m 18ms/step - accuracy: 0.1515 - loss: 1.6243 - val_accuracy: 0.5619 - val_loss: 1.6087\n",
            "Epoch 3/10\n",
            "\u001b[1m283/283\u001b[0m \u001b[32m━━━━━━━━━━━━━━━━━━━━\u001b[0m\u001b[37m\u001b[0m \u001b[1m11s\u001b[0m 20ms/step - accuracy: 0.3093 - loss: 1.5978 - val_accuracy: 0.0327 - val_loss: 1.6101\n",
            "Epoch 4/10\n",
            "\u001b[1m283/283\u001b[0m \u001b[32m━━━━━━━━━━━━━━━━━━━━\u001b[0m\u001b[37m\u001b[0m \u001b[1m5s\u001b[0m 17ms/step - accuracy: 0.0481 - loss: 1.6211 - val_accuracy: 0.2073 - val_loss: 1.6085\n",
            "Epoch 5/10\n",
            "\u001b[1m283/283\u001b[0m \u001b[32m━━━━━━━━━━━━━━━━━━━━\u001b[0m\u001b[37m\u001b[0m \u001b[1m5s\u001b[0m 18ms/step - accuracy: 0.1211 - loss: 1.6401 - val_accuracy: 0.5619 - val_loss: 1.6071\n",
            "Epoch 6/10\n",
            "\u001b[1m283/283\u001b[0m \u001b[32m━━━━━━━━━━━━━━━━━━━━\u001b[0m\u001b[37m\u001b[0m \u001b[1m5s\u001b[0m 18ms/step - accuracy: 0.2775 - loss: 1.6082 - val_accuracy: 0.0682 - val_loss: 1.6097\n",
            "Epoch 7/10\n",
            "\u001b[1m283/283\u001b[0m \u001b[32m━━━━━━━━━━━━━━━━━━━━\u001b[0m\u001b[37m\u001b[0m \u001b[1m5s\u001b[0m 17ms/step - accuracy: 0.1908 - loss: 1.6152 - val_accuracy: 0.0682 - val_loss: 1.6114\n",
            "Epoch 8/10\n",
            "\u001b[1m283/283\u001b[0m \u001b[32m━━━━━━━━━━━━━━━━━━━━\u001b[0m\u001b[37m\u001b[0m \u001b[1m6s\u001b[0m 19ms/step - accuracy: 0.1980 - loss: 1.6030 - val_accuracy: 0.0682 - val_loss: 1.6120\n",
            "Epoch 9/10\n",
            "\u001b[1m283/283\u001b[0m \u001b[32m━━━━━━━━━━━━━━━━━━━━\u001b[0m\u001b[37m\u001b[0m \u001b[1m5s\u001b[0m 17ms/step - accuracy: 0.1483 - loss: 1.6147 - val_accuracy: 0.0327 - val_loss: 1.6100\n",
            "Epoch 10/10\n",
            "\u001b[1m283/283\u001b[0m \u001b[32m━━━━━━━━━━━━━━━━━━━━\u001b[0m\u001b[37m\u001b[0m \u001b[1m6s\u001b[0m 20ms/step - accuracy: 0.0835 - loss: 1.6163 - val_accuracy: 0.5619 - val_loss: 1.6080\n"
          ]
        }
      ]
    },
    {
      "cell_type": "code",
      "source": [
        "plt.figure(figsize=(8,4))\n",
        "plt.plot(history_pre_trained.history['accuracy'], label='Train Accuracy')\n",
        "plt.plot(history_pre_trained.history['val_accuracy'], label='Validation Accuracy')\n",
        "plt.xlabel('Epoch')\n",
        "plt.ylabel('Accuracy')\n",
        "plt.title('Evolución de Accuracy')\n",
        "plt.legend()\n",
        "plt.show()"
      ],
      "metadata": {
        "colab": {
          "base_uri": "https://localhost:8080/",
          "height": 411
        },
        "id": "WLJ7tSUkfSEk",
        "outputId": "8ea8c172-6b91-48bc-f58d-2b6764f04544"
      },
      "execution_count": 102,
      "outputs": [
        {
          "output_type": "display_data",
          "data": {
            "text/plain": [
              "<Figure size 800x400 with 1 Axes>"
            ],
            "image/png": "[encoded data removed]"
          },
          "metadata": {}
        }
      ]
    }
  ]
}