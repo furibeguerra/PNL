{
  "cells": [
    {
      "cell_type": "markdown",
      "metadata": {
        "id": "view-in-github",
        "colab_type": "text"
      },
      "source": [
        "<a href=\"https://colab.research.google.com/github/furibeguerra/PNL/blob/main/Desafio_2_Uribe_Guerra.ipynb\" target=\"_parent\"><img src=\"https://colab.research.google.com/assets/colab-badge.svg\" alt=\"Open In Colab\"/></a>"
      ]
    },
    {
      "cell_type": "markdown",
      "source": [],
      "metadata": {
        "id": "Qc08tQrX4QMK"
      }
    },
    {
      "cell_type": "markdown",
      "metadata": {
        "id": "sZd5yLnnHOK0"
      },
      "source": [
        "<img src=\"https://github.com/hernancontigiani/ceia_memorias_especializacion/raw/master/Figures/logoFIUBA.jpg\" width=\"500\" align=\"center\">\n",
        "\n",
        "# Deasafio 2\n",
        "# Procesamiento de lenguaje natural\n",
        "## Custom embedddings con Gensim\n",
        "\n"
      ]
    },
    {
      "cell_type": "markdown",
      "metadata": {
        "id": "vA7nqkumo9z9"
      },
      "source": [
        "### Objetivo\n",
        "El objetivo es utilizar documentos / corpus para crear embeddings de palabras basado en ese contexto. Se utilizará textos de literatura clasica para generar los embeddings, es decir, que los vectores tendrán la forma en función de como los autores hayan utilizado las palabras en sus libros."
      ]
    },
    {
      "cell_type": "markdown",
      "source": [
        "Libros considerados para la prueba:\n",
        "\n",
        "*   Baltasar Gracian - El Arte de la Prudencia\n",
        "*   Lucio Anneo Seneca - De la Brevedad de la Vida (Libro utilizado para entrenar el modelo)\n",
        "*   Friedrich Nietzsche - Asi Hablo Zaratustra\n",
        "*   Nicolas Maquiavelo - El Principe\n",
        "\n",
        "\n",
        "\n",
        "\n",
        "\n",
        "\n"
      ],
      "metadata": {
        "id": "b3snK4gqFYP1"
      }
    },
    {
      "cell_type": "markdown",
      "source": [
        "1- Fuente libros: https://www.textos.info/\n",
        "\n",
        "2- Se han convertido de .pdf a .txt\n",
        "\n",
        "3- Se encontraran en el repositorio para su revisión\n"
      ],
      "metadata": {
        "id": "_CT9u3d3EWdC"
      }
    },
    {
      "cell_type": "code",
      "source": [
        "!pip uninstall -y numpy\n",
        "!pip install numpy\n",
        "\n",
        "!pip uninstall -y gensim\n",
        "!pip install gensim\n",
        "\n",
        "from gensim.models import Word2Vec\n",
        "print(\"Importación de Word2Vec exitosa\")"
      ],
      "metadata": {
        "colab": {
          "base_uri": "https://localhost:8080/"
        },
        "id": "LfS1ncQeM99U",
        "outputId": "9c115c43-9e79-4550-df83-4b9ce6ea2181"
      },
      "execution_count": 1,
      "outputs": [
        {
          "output_type": "stream",
          "name": "stdout",
          "text": [
            "Found existing installation: numpy 1.26.4\n",
            "Uninstalling numpy-1.26.4:\n",
            "  Successfully uninstalled numpy-1.26.4\n",
            "Collecting numpy\n",
            "  Downloading numpy-2.2.4-cp311-cp311-manylinux_2_17_x86_64.manylinux2014_x86_64.whl.metadata (62 kB)\n",
            "\u001b[2K     \u001b[90m━━━━━━━━━━━━━━━━━━━━━━━━━━━━━━━━━━━━━━━━\u001b[0m \u001b[32m62.0/62.0 kB\u001b[0m \u001b[31m2.7 MB/s\u001b[0m eta \u001b[36m0:00:00\u001b[0m\n",
            "\u001b[?25hDownloading numpy-2.2.4-cp311-cp311-manylinux_2_17_x86_64.manylinux2014_x86_64.whl (16.4 MB)\n",
            "\u001b[2K   \u001b[90m━━━━━━━━━━━━━━━━━━━━━━━━━━━━━━━━━━━━━━━━\u001b[0m \u001b[32m16.4/16.4 MB\u001b[0m \u001b[31m59.2 MB/s\u001b[0m eta \u001b[36m0:00:00\u001b[0m\n",
            "\u001b[?25hInstalling collected packages: numpy\n",
            "\u001b[31mERROR: pip's dependency resolver does not currently take into account all the packages that are installed. This behaviour is the source of the following dependency conflicts.\n",
            "gensim 4.3.3 requires numpy<2.0,>=1.18.5, but you have numpy 2.2.4 which is incompatible.\n",
            "numba 0.60.0 requires numpy<2.1,>=1.22, but you have numpy 2.2.4 which is incompatible.\n",
            "tensorflow 2.18.0 requires numpy<2.1.0,>=1.26.0, but you have numpy 2.2.4 which is incompatible.\u001b[0m\u001b[31m\n",
            "\u001b[0mSuccessfully installed numpy-2.2.4\n",
            "Found existing installation: gensim 4.3.3\n",
            "Uninstalling gensim-4.3.3:\n",
            "  Successfully uninstalled gensim-4.3.3\n",
            "Collecting gensim\n",
            "  Using cached gensim-4.3.3-cp311-cp311-manylinux_2_17_x86_64.manylinux2014_x86_64.whl.metadata (8.1 kB)\n",
            "Collecting numpy<2.0,>=1.18.5 (from gensim)\n",
            "  Using cached numpy-1.26.4-cp311-cp311-manylinux_2_17_x86_64.manylinux2014_x86_64.whl.metadata (61 kB)\n",
            "Requirement already satisfied: scipy<1.14.0,>=1.7.0 in /usr/local/lib/python3.11/dist-packages (from gensim) (1.13.1)\n",
            "Requirement already satisfied: smart-open>=1.8.1 in /usr/local/lib/python3.11/dist-packages (from gensim) (7.1.0)\n",
            "Requirement already satisfied: wrapt in /usr/local/lib/python3.11/dist-packages (from smart-open>=1.8.1->gensim) (1.17.2)\n",
            "Using cached gensim-4.3.3-cp311-cp311-manylinux_2_17_x86_64.manylinux2014_x86_64.whl (26.7 MB)\n",
            "Using cached numpy-1.26.4-cp311-cp311-manylinux_2_17_x86_64.manylinux2014_x86_64.whl (18.3 MB)\n",
            "Installing collected packages: numpy, gensim\n",
            "  Attempting uninstall: numpy\n",
            "    Found existing installation: numpy 2.2.4\n",
            "    Uninstalling numpy-2.2.4:\n",
            "      Successfully uninstalled numpy-2.2.4\n",
            "Successfully installed gensim-4.3.3 numpy-1.26.4\n",
            "Importación de Word2Vec exitosa\n"
          ]
        }
      ]
    },
    {
      "cell_type": "code",
      "execution_count": 2,
      "metadata": {
        "id": "lFToQs5FK5uZ"
      },
      "outputs": [],
      "source": [
        "import pandas as pd\n",
        "import matplotlib.pyplot as plt\n",
        "import seaborn as sns\n",
        "\n",
        "import multiprocessing"
      ]
    },
    {
      "cell_type": "code",
      "source": [
        "from gensim.test.utils import common_texts"
      ],
      "metadata": {
        "id": "2CSJQcM6MyMK"
      },
      "execution_count": 3,
      "outputs": []
    },
    {
      "cell_type": "markdown",
      "metadata": {
        "id": "g07zJxG7H9vG"
      },
      "source": [
        "### Datos\n",
        "Utilizaremos como dataset libros de literatura clasica"
      ]
    },
    {
      "cell_type": "code",
      "source": [
        "!apt-get install unzip\n"
      ],
      "metadata": {
        "colab": {
          "base_uri": "https://localhost:8080/"
        },
        "id": "dl6hR3OOSWrb",
        "outputId": "da64507c-9a7e-421f-b0f5-31448dc28580"
      },
      "execution_count": 4,
      "outputs": [
        {
          "output_type": "stream",
          "name": "stdout",
          "text": [
            "Reading package lists... Done\n",
            "Building dependency tree... Done\n",
            "Reading state information... Done\n",
            "unzip is already the newest version (6.0-26ubuntu3.2).\n",
            "0 upgraded, 0 newly installed, 0 to remove and 30 not upgraded.\n"
          ]
        }
      ]
    },
    {
      "cell_type": "code",
      "source": [
        "#Aca validare si cargue correctamente los libros:\n",
        "import os\n",
        "if os.path.exists('./librostxt'):\n",
        "    print(\"La carpeta 'librostxt' existe.\")\n",
        "else:\n",
        "    print(\"La carpeta 'librostxt' NO existe. Asegúrate de ejecutar la celda de descarga.\")"
      ],
      "metadata": {
        "colab": {
          "base_uri": "https://localhost:8080/"
        },
        "id": "9WdecLeHOWPC",
        "outputId": "67302f2c-ba3d-4503-b1e6-a6dd17f61f6d"
      },
      "execution_count": 8,
      "outputs": [
        {
          "output_type": "stream",
          "name": "stdout",
          "text": [
            "La carpeta 'librostxt' existe.\n"
          ]
        }
      ]
    },
    {
      "cell_type": "code",
      "source": [
        "import os\n",
        "archivos_en_carpeta = os.listdir('./librostxt')\n",
        "print(\"Archivos encontrados en 'librostxt':\")\n",
        "for archivo in archivos_en_carpeta:\n",
        "    print(archivo)"
      ],
      "metadata": {
        "colab": {
          "base_uri": "https://localhost:8080/"
        },
        "id": "dqk7PMZlO7U_",
        "outputId": "f1c980bc-66ea-4700-ed4f-d084109fcc30"
      },
      "execution_count": 9,
      "outputs": [
        {
          "output_type": "stream",
          "name": "stdout",
          "text": [
            "Archivos encontrados en 'librostxt':\n",
            "Friedrich Nietzsche - Asi Hablo Zaratustra.txt\n",
            "Lucio Anneo Seneca - De la Brevedad de la Vida.txt\n",
            "Baltasar Gracian - El Arte de la Prudencia.pdf.txt\n",
            "Nicolas Maquiavelo - El Principe.txt\n"
          ]
        }
      ]
    },
    {
      "cell_type": "code",
      "source": [
        "ruta_archivo = './librostxt/Lucio Anneo Seneca - De la Brevedad de la Vida.txt'  # Reemplaza 'libro1.txt' con el nombre de tu archivo\n",
        "try:\n",
        "    with open(ruta_archivo, 'r', encoding='utf-8') as archivo:\n",
        "        contenido = archivo.read()\n",
        "        print(\"Contenido de\", ruta_archivo, \":\")\n",
        "        print(contenido[:200])  # Imprime los primeros 200 caracteres\n",
        "except FileNotFoundError:\n",
        "    print(f\"El archivo '{ruta_archivo}' no fue encontrado.\")\n",
        "except Exception as e:\n",
        "    print(f\"Ocurrió un error al leer el archivo: {e}\")"
      ],
      "metadata": {
        "colab": {
          "base_uri": "https://localhost:8080/"
        },
        "id": "ozNXMMD-TI4T",
        "outputId": "0c226ce2-2134-4e23-a83d-664efd6c0cba"
      },
      "execution_count": 10,
      "outputs": [
        {
          "output_type": "stream",
          "name": "stdout",
          "text": [
            "Contenido de ./librostxt/Lucio Anneo Seneca - De la Brevedad de la Vida.txt :\n",
            "De la Brevedad de la Vida\n",
            "Lucio Anneo Séneca\n",
            "textos.infoBiblioteca digital abierta\n",
            "1Texto núm. 2004\n",
            "Título: De la Brevedad de la Vida\n",
            "Autor: Lucio Anneo Séneca\n",
            "Etiquetas : Filosofía, Tratado\n",
            "Editor: E\n"
          ]
        }
      ]
    },
    {
      "cell_type": "code",
      "execution_count": 11,
      "metadata": {
        "id": "ticoqYD1Z3I7",
        "colab": {
          "base_uri": "https://localhost:8080/",
          "height": 261
        },
        "outputId": "ebfd37c8-1793-4cad-9b3f-3ee77920859a"
      },
      "outputs": [
        {
          "output_type": "stream",
          "name": "stderr",
          "text": [
            "<ipython-input-11-3655e240e345>:2: ParserWarning: Falling back to the 'python' engine because the 'c' engine does not support regex separators (separators > 1 char and different from '\\s+' are interpreted as regex); you can avoid this warning by specifying engine='python'.\n",
            "  df = pd.read_csv(ruta_archivo, sep='/n', header=None)\n"
          ]
        },
        {
          "output_type": "execute_result",
          "data": {
            "text/plain": [
              "                                       0\n",
              "0              De la Brevedad de la Vida\n",
              "1                     Lucio Anneo Séneca\n",
              "2  textos.infoBiblioteca digital abierta\n",
              "3                       1Texto núm. 2004\n",
              "4      Título: De la Brevedad de la Vida"
            ],
            "text/html": [
              "\n",
              "  <div id=\"df-76513cb8-a427-4f68-951c-cf9c0355851f\" class=\"colab-df-container\">\n",
              "    <div>\n",
              "<style scoped>\n",
              "    .dataframe tbody tr th:only-of-type {\n",
              "        vertical-align: middle;\n",
              "    }\n",
              "\n",
              "    .dataframe tbody tr th {\n",
              "        vertical-align: top;\n",
              "    }\n",
              "\n",
              "    .dataframe thead th {\n",
              "        text-align: right;\n",
              "    }\n",
              "</style>\n",
              "<table border=\"1\" class=\"dataframe\">\n",
              "  <thead>\n",
              "    <tr style=\"text-align: right;\">\n",
              "      <th></th>\n",
              "      <th>0</th>\n",
              "    </tr>\n",
              "  </thead>\n",
              "  <tbody>\n",
              "    <tr>\n",
              "      <th>0</th>\n",
              "      <td>De la Brevedad de la Vida</td>\n",
              "    </tr>\n",
              "    <tr>\n",
              "      <th>1</th>\n",
              "      <td>Lucio Anneo Séneca</td>\n",
              "    </tr>\n",
              "    <tr>\n",
              "      <th>2</th>\n",
              "      <td>textos.infoBiblioteca digital abierta</td>\n",
              "    </tr>\n",
              "    <tr>\n",
              "      <th>3</th>\n",
              "      <td>1Texto núm. 2004</td>\n",
              "    </tr>\n",
              "    <tr>\n",
              "      <th>4</th>\n",
              "      <td>Título: De la Brevedad de la Vida</td>\n",
              "    </tr>\n",
              "  </tbody>\n",
              "</table>\n",
              "</div>\n",
              "    <div class=\"colab-df-buttons\">\n",
              "\n",
              "  <div class=\"colab-df-container\">\n",
              "    <button class=\"colab-df-convert\" onclick=\"convertToInteractive('df-76513cb8-a427-4f68-951c-cf9c0355851f')\"\n",
              "            title=\"Convert this dataframe to an interactive table.\"\n",
              "            style=\"display:none;\">\n",
              "\n",
              "  <svg xmlns=\"http://www.w3.org/2000/svg\" height=\"24px\" viewBox=\"0 -960 960 960\">\n",
              "    <path d=\"M120-120v-720h720v720H120Zm60-500h600v-160H180v160Zm220 220h160v-160H400v160Zm0 220h160v-160H400v160ZM180-400h160v-160H180v160Zm440 0h160v-160H620v160ZM180-180h160v-160H180v160Zm440 0h160v-160H620v160Z\"/>\n",
              "  </svg>\n",
              "    </button>\n",
              "\n",
              "  <style>\n",
              "    .colab-df-container {\n",
              "      display:flex;\n",
              "      gap: 12px;\n",
              "    }\n",
              "\n",
              "    .colab-df-convert {\n",
              "      background-color: #E8F0FE;\n",
              "      border: none;\n",
              "      border-radius: 50%;\n",
              "      cursor: pointer;\n",
              "      display: none;\n",
              "      fill: #1967D2;\n",
              "      height: 32px;\n",
              "      padding: 0 0 0 0;\n",
              "      width: 32px;\n",
              "    }\n",
              "\n",
              "    .colab-df-convert:hover {\n",
              "      background-color: #E2EBFA;\n",
              "      box-shadow: 0px 1px 2px rgba(60, 64, 67, 0.3), 0px 1px 3px 1px rgba(60, 64, 67, 0.15);\n",
              "      fill: #174EA6;\n",
              "    }\n",
              "\n",
              "    .colab-df-buttons div {\n",
              "      margin-bottom: 4px;\n",
              "    }\n",
              "\n",
              "    [theme=dark] .colab-df-convert {\n",
              "      background-color: #3B4455;\n",
              "      fill: #D2E3FC;\n",
              "    }\n",
              "\n",
              "    [theme=dark] .colab-df-convert:hover {\n",
              "      background-color: #434B5C;\n",
              "      box-shadow: 0px 1px 3px 1px rgba(0, 0, 0, 0.15);\n",
              "      filter: drop-shadow(0px 1px 2px rgba(0, 0, 0, 0.3));\n",
              "      fill: #FFFFFF;\n",
              "    }\n",
              "  </style>\n",
              "\n",
              "    <script>\n",
              "      const buttonEl =\n",
              "        document.querySelector('#df-76513cb8-a427-4f68-951c-cf9c0355851f button.colab-df-convert');\n",
              "      buttonEl.style.display =\n",
              "        google.colab.kernel.accessAllowed ? 'block' : 'none';\n",
              "\n",
              "      async function convertToInteractive(key) {\n",
              "        const element = document.querySelector('#df-76513cb8-a427-4f68-951c-cf9c0355851f');\n",
              "        const dataTable =\n",
              "          await google.colab.kernel.invokeFunction('convertToInteractive',\n",
              "                                                    [key], {});\n",
              "        if (!dataTable) return;\n",
              "\n",
              "        const docLinkHtml = 'Like what you see? Visit the ' +\n",
              "          '<a target=\"_blank\" href=https://colab.research.google.com/notebooks/data_table.ipynb>data table notebook</a>'\n",
              "          + ' to learn more about interactive tables.';\n",
              "        element.innerHTML = '';\n",
              "        dataTable['output_type'] = 'display_data';\n",
              "        await google.colab.output.renderOutput(dataTable, element);\n",
              "        const docLink = document.createElement('div');\n",
              "        docLink.innerHTML = docLinkHtml;\n",
              "        element.appendChild(docLink);\n",
              "      }\n",
              "    </script>\n",
              "  </div>\n",
              "\n",
              "\n",
              "<div id=\"df-c64ee4a5-aadd-4f7c-8adf-47497b1a235b\">\n",
              "  <button class=\"colab-df-quickchart\" onclick=\"quickchart('df-c64ee4a5-aadd-4f7c-8adf-47497b1a235b')\"\n",
              "            title=\"Suggest charts\"\n",
              "            style=\"display:none;\">\n",
              "\n",
              "<svg xmlns=\"http://www.w3.org/2000/svg\" height=\"24px\"viewBox=\"0 0 24 24\"\n",
              "     width=\"24px\">\n",
              "    <g>\n",
              "        <path d=\"M19 3H5c-1.1 0-2 .9-2 2v14c0 1.1.9 2 2 2h14c1.1 0 2-.9 2-2V5c0-1.1-.9-2-2-2zM9 17H7v-7h2v7zm4 0h-2V7h2v10zm4 0h-2v-4h2v4z\"/>\n",
              "    </g>\n",
              "</svg>\n",
              "  </button>\n",
              "\n",
              "<style>\n",
              "  .colab-df-quickchart {\n",
              "      --bg-color: #E8F0FE;\n",
              "      --fill-color: #1967D2;\n",
              "      --hover-bg-color: #E2EBFA;\n",
              "      --hover-fill-color: #174EA6;\n",
              "      --disabled-fill-color: #AAA;\n",
              "      --disabled-bg-color: #DDD;\n",
              "  }\n",
              "\n",
              "  [theme=dark] .colab-df-quickchart {\n",
              "      --bg-color: #3B4455;\n",
              "      --fill-color: #D2E3FC;\n",
              "      --hover-bg-color: #434B5C;\n",
              "      --hover-fill-color: #FFFFFF;\n",
              "      --disabled-bg-color: #3B4455;\n",
              "      --disabled-fill-color: #666;\n",
              "  }\n",
              "\n",
              "  .colab-df-quickchart {\n",
              "    background-color: var(--bg-color);\n",
              "    border: none;\n",
              "    border-radius: 50%;\n",
              "    cursor: pointer;\n",
              "    display: none;\n",
              "    fill: var(--fill-color);\n",
              "    height: 32px;\n",
              "    padding: 0;\n",
              "    width: 32px;\n",
              "  }\n",
              "\n",
              "  .colab-df-quickchart:hover {\n",
              "    background-color: var(--hover-bg-color);\n",
              "    box-shadow: 0 1px 2px rgba(60, 64, 67, 0.3), 0 1px 3px 1px rgba(60, 64, 67, 0.15);\n",
              "    fill: var(--button-hover-fill-color);\n",
              "  }\n",
              "\n",
              "  .colab-df-quickchart-complete:disabled,\n",
              "  .colab-df-quickchart-complete:disabled:hover {\n",
              "    background-color: var(--disabled-bg-color);\n",
              "    fill: var(--disabled-fill-color);\n",
              "    box-shadow: none;\n",
              "  }\n",
              "\n",
              "  .colab-df-spinner {\n",
              "    border: 2px solid var(--fill-color);\n",
              "    border-color: transparent;\n",
              "    border-bottom-color: var(--fill-color);\n",
              "    animation:\n",
              "      spin 1s steps(1) infinite;\n",
              "  }\n",
              "\n",
              "  @keyframes spin {\n",
              "    0% {\n",
              "      border-color: transparent;\n",
              "      border-bottom-color: var(--fill-color);\n",
              "      border-left-color: var(--fill-color);\n",
              "    }\n",
              "    20% {\n",
              "      border-color: transparent;\n",
              "      border-left-color: var(--fill-color);\n",
              "      border-top-color: var(--fill-color);\n",
              "    }\n",
              "    30% {\n",
              "      border-color: transparent;\n",
              "      border-left-color: var(--fill-color);\n",
              "      border-top-color: var(--fill-color);\n",
              "      border-right-color: var(--fill-color);\n",
              "    }\n",
              "    40% {\n",
              "      border-color: transparent;\n",
              "      border-right-color: var(--fill-color);\n",
              "      border-top-color: var(--fill-color);\n",
              "    }\n",
              "    60% {\n",
              "      border-color: transparent;\n",
              "      border-right-color: var(--fill-color);\n",
              "    }\n",
              "    80% {\n",
              "      border-color: transparent;\n",
              "      border-right-color: var(--fill-color);\n",
              "      border-bottom-color: var(--fill-color);\n",
              "    }\n",
              "    90% {\n",
              "      border-color: transparent;\n",
              "      border-bottom-color: var(--fill-color);\n",
              "    }\n",
              "  }\n",
              "</style>\n",
              "\n",
              "  <script>\n",
              "    async function quickchart(key) {\n",
              "      const quickchartButtonEl =\n",
              "        document.querySelector('#' + key + ' button');\n",
              "      quickchartButtonEl.disabled = true;  // To prevent multiple clicks.\n",
              "      quickchartButtonEl.classList.add('colab-df-spinner');\n",
              "      try {\n",
              "        const charts = await google.colab.kernel.invokeFunction(\n",
              "            'suggestCharts', [key], {});\n",
              "      } catch (error) {\n",
              "        console.error('Error during call to suggestCharts:', error);\n",
              "      }\n",
              "      quickchartButtonEl.classList.remove('colab-df-spinner');\n",
              "      quickchartButtonEl.classList.add('colab-df-quickchart-complete');\n",
              "    }\n",
              "    (() => {\n",
              "      let quickchartButtonEl =\n",
              "        document.querySelector('#df-c64ee4a5-aadd-4f7c-8adf-47497b1a235b button');\n",
              "      quickchartButtonEl.style.display =\n",
              "        google.colab.kernel.accessAllowed ? 'block' : 'none';\n",
              "    })();\n",
              "  </script>\n",
              "</div>\n",
              "\n",
              "    </div>\n",
              "  </div>\n"
            ],
            "application/vnd.google.colaboratory.intrinsic+json": {
              "type": "dataframe",
              "variable_name": "df",
              "summary": "{\n  \"name\": \"df\",\n  \"rows\": 795,\n  \"fields\": [\n    {\n      \"column\": 0,\n      \"properties\": {\n        \"dtype\": \"string\",\n        \"num_unique_values\": 795,\n        \"samples\": [\n          \"peque\\u00f1a haza\\u00f1a evitar el odio. Pero cr\\u00e9eme, que es m\\u00e1s seguro el estar\",\n          \"honras nos atormentan, pero m\\u00e1s tiempo nos consumen las ajenas;\",\n          \"los vientos quedan alteradas las olas, sin que jam\\u00e1s les solicite el\"\n        ],\n        \"semantic_type\": \"\",\n        \"description\": \"\"\n      }\n    }\n  ]\n}"
            }
          },
          "metadata": {},
          "execution_count": 11
        }
      ],
      "source": [
        "# Armar el dataset utilizando salto de línea para separar las oraciones/docs\n",
        "df = pd.read_csv(ruta_archivo, sep='/n', header=None)\n",
        "df.head()"
      ]
    },
    {
      "cell_type": "markdown",
      "source": [
        "# Desafio 2\n",
        "\n",
        "1-Crear sus propios vectores con Gensim\n",
        "basado en lo visto en clase con otro\n",
        "dataset.\n",
        "\n",
        "2-Probar términos de interés y explicar\n",
        "similitudes en el espacio de embeddings.\n",
        "\n",
        "3-Intentar plantear y probar tests de\n",
        "analogías.\n",
        "\n",
        "4-Graficar los embeddings\n",
        "resultantes.\n",
        "\n",
        "5-Sacar conclusiones."
      ],
      "metadata": {
        "id": "wtiatZhbYa9I"
      }
    },
    {
      "cell_type": "code",
      "execution_count": 12,
      "metadata": {
        "id": "LEpKubK9XzXN",
        "colab": {
          "base_uri": "https://localhost:8080/"
        },
        "outputId": "ffcfb235-90e3-4397-e9f2-73b865ecddfb"
      },
      "outputs": [
        {
          "output_type": "stream",
          "name": "stdout",
          "text": [
            "Cantidad de documentos: 795\n"
          ]
        }
      ],
      "source": [
        "print(\"Cantidad de documentos:\", df.shape[0])"
      ]
    },
    {
      "cell_type": "code",
      "source": [
        "!pip install tensorflow"
      ],
      "metadata": {
        "colab": {
          "base_uri": "https://localhost:8080/"
        },
        "id": "iDylvJ85-NZK",
        "outputId": "e93109b8-3000-4b98-b9d9-e0a4167435ee"
      },
      "execution_count": 13,
      "outputs": [
        {
          "output_type": "stream",
          "name": "stdout",
          "text": [
            "Requirement already satisfied: tensorflow in /usr/local/lib/python3.11/dist-packages (2.18.0)\n",
            "Requirement already satisfied: absl-py>=1.0.0 in /usr/local/lib/python3.11/dist-packages (from tensorflow) (1.4.0)\n",
            "Requirement already satisfied: astunparse>=1.6.0 in /usr/local/lib/python3.11/dist-packages (from tensorflow) (1.6.3)\n",
            "Requirement already satisfied: flatbuffers>=24.3.25 in /usr/local/lib/python3.11/dist-packages (from tensorflow) (25.2.10)\n",
            "Requirement already satisfied: gast!=0.5.0,!=0.5.1,!=0.5.2,>=0.2.1 in /usr/local/lib/python3.11/dist-packages (from tensorflow) (0.6.0)\n",
            "Requirement already satisfied: google-pasta>=0.1.1 in /usr/local/lib/python3.11/dist-packages (from tensorflow) (0.2.0)\n",
            "Requirement already satisfied: libclang>=13.0.0 in /usr/local/lib/python3.11/dist-packages (from tensorflow) (18.1.1)\n",
            "Requirement already satisfied: opt-einsum>=2.3.2 in /usr/local/lib/python3.11/dist-packages (from tensorflow) (3.4.0)\n",
            "Requirement already satisfied: packaging in /usr/local/lib/python3.11/dist-packages (from tensorflow) (24.2)\n",
            "Requirement already satisfied: protobuf!=4.21.0,!=4.21.1,!=4.21.2,!=4.21.3,!=4.21.4,!=4.21.5,<6.0.0dev,>=3.20.3 in /usr/local/lib/python3.11/dist-packages (from tensorflow) (5.29.4)\n",
            "Requirement already satisfied: requests<3,>=2.21.0 in /usr/local/lib/python3.11/dist-packages (from tensorflow) (2.32.3)\n",
            "Requirement already satisfied: setuptools in /usr/local/lib/python3.11/dist-packages (from tensorflow) (75.2.0)\n",
            "Requirement already satisfied: six>=1.12.0 in /usr/local/lib/python3.11/dist-packages (from tensorflow) (1.17.0)\n",
            "Requirement already satisfied: termcolor>=1.1.0 in /usr/local/lib/python3.11/dist-packages (from tensorflow) (3.0.1)\n",
            "Requirement already satisfied: typing-extensions>=3.6.6 in /usr/local/lib/python3.11/dist-packages (from tensorflow) (4.13.1)\n",
            "Requirement already satisfied: wrapt>=1.11.0 in /usr/local/lib/python3.11/dist-packages (from tensorflow) (1.17.2)\n",
            "Requirement already satisfied: grpcio<2.0,>=1.24.3 in /usr/local/lib/python3.11/dist-packages (from tensorflow) (1.71.0)\n",
            "Requirement already satisfied: tensorboard<2.19,>=2.18 in /usr/local/lib/python3.11/dist-packages (from tensorflow) (2.18.0)\n",
            "Requirement already satisfied: keras>=3.5.0 in /usr/local/lib/python3.11/dist-packages (from tensorflow) (3.8.0)\n",
            "Requirement already satisfied: numpy<2.1.0,>=1.26.0 in /usr/local/lib/python3.11/dist-packages (from tensorflow) (1.26.4)\n",
            "Requirement already satisfied: h5py>=3.11.0 in /usr/local/lib/python3.11/dist-packages (from tensorflow) (3.13.0)\n",
            "Requirement already satisfied: ml-dtypes<0.5.0,>=0.4.0 in /usr/local/lib/python3.11/dist-packages (from tensorflow) (0.4.1)\n",
            "Requirement already satisfied: tensorflow-io-gcs-filesystem>=0.23.1 in /usr/local/lib/python3.11/dist-packages (from tensorflow) (0.37.1)\n",
            "Requirement already satisfied: wheel<1.0,>=0.23.0 in /usr/local/lib/python3.11/dist-packages (from astunparse>=1.6.0->tensorflow) (0.45.1)\n",
            "Requirement already satisfied: rich in /usr/local/lib/python3.11/dist-packages (from keras>=3.5.0->tensorflow) (13.9.4)\n",
            "Requirement already satisfied: namex in /usr/local/lib/python3.11/dist-packages (from keras>=3.5.0->tensorflow) (0.0.8)\n",
            "Requirement already satisfied: optree in /usr/local/lib/python3.11/dist-packages (from keras>=3.5.0->tensorflow) (0.15.0)\n",
            "Requirement already satisfied: charset-normalizer<4,>=2 in /usr/local/lib/python3.11/dist-packages (from requests<3,>=2.21.0->tensorflow) (3.4.1)\n",
            "Requirement already satisfied: idna<4,>=2.5 in /usr/local/lib/python3.11/dist-packages (from requests<3,>=2.21.0->tensorflow) (3.10)\n",
            "Requirement already satisfied: urllib3<3,>=1.21.1 in /usr/local/lib/python3.11/dist-packages (from requests<3,>=2.21.0->tensorflow) (2.3.0)\n",
            "Requirement already satisfied: certifi>=2017.4.17 in /usr/local/lib/python3.11/dist-packages (from requests<3,>=2.21.0->tensorflow) (2025.1.31)\n",
            "Requirement already satisfied: markdown>=2.6.8 in /usr/local/lib/python3.11/dist-packages (from tensorboard<2.19,>=2.18->tensorflow) (3.7)\n",
            "Requirement already satisfied: tensorboard-data-server<0.8.0,>=0.7.0 in /usr/local/lib/python3.11/dist-packages (from tensorboard<2.19,>=2.18->tensorflow) (0.7.2)\n",
            "Requirement already satisfied: werkzeug>=1.0.1 in /usr/local/lib/python3.11/dist-packages (from tensorboard<2.19,>=2.18->tensorflow) (3.1.3)\n",
            "Requirement already satisfied: MarkupSafe>=2.1.1 in /usr/local/lib/python3.11/dist-packages (from werkzeug>=1.0.1->tensorboard<2.19,>=2.18->tensorflow) (3.0.2)\n",
            "Requirement already satisfied: markdown-it-py>=2.2.0 in /usr/local/lib/python3.11/dist-packages (from rich->keras>=3.5.0->tensorflow) (3.0.0)\n",
            "Requirement already satisfied: pygments<3.0.0,>=2.13.0 in /usr/local/lib/python3.11/dist-packages (from rich->keras>=3.5.0->tensorflow) (2.18.0)\n",
            "Requirement already satisfied: mdurl~=0.1 in /usr/local/lib/python3.11/dist-packages (from markdown-it-py>=2.2.0->rich->keras>=3.5.0->tensorflow) (0.1.2)\n"
          ]
        }
      ]
    },
    {
      "cell_type": "markdown",
      "source": [
        "# 1-Crear sus propios vectores con Gensim basado en lo visto en clase con otro dataset."
      ],
      "metadata": {
        "id": "Jh5PuyLgZ2dK"
      }
    },
    {
      "cell_type": "code",
      "execution_count": 14,
      "metadata": {
        "id": "rIsmMWmjrDHd"
      },
      "outputs": [],
      "source": [
        "from tensorflow.keras.preprocessing.text import text_to_word_sequence\n",
        "\n",
        "sentence_tokens = []\n",
        "# Recorrer todas las filas y transformar las oraciones\n",
        "# en una secuencia de palabras (esto podría realizarse con NLTK o spaCy también)\n",
        "for _, row in df[:None].iterrows():\n",
        "    sentence_tokens.append(text_to_word_sequence(row[0]))"
      ]
    },
    {
      "cell_type": "code",
      "execution_count": 15,
      "metadata": {
        "id": "CHepi_DGrbhq",
        "colab": {
          "base_uri": "https://localhost:8080/"
        },
        "outputId": "4862f25d-27da-470c-f60a-6d10eee98c79"
      },
      "outputs": [
        {
          "output_type": "execute_result",
          "data": {
            "text/plain": [
              "[['de', 'la', 'brevedad', 'de', 'la', 'vida'],\n",
              " ['lucio', 'anneo', 'séneca'],\n",
              " ['textos', 'infobiblioteca', 'digital', 'abierta'],\n",
              " ['1texto', 'núm', '2004'],\n",
              " ['título', 'de', 'la', 'brevedad', 'de', 'la', 'vida'],\n",
              " ['autor', 'lucio', 'anneo', 'séneca'],\n",
              " ['etiquetas', 'filosofía', 'tratado'],\n",
              " ['editor', 'edu', 'robsy'],\n",
              " ['fecha', 'de', 'creación', '18', 'de', 'diciembre', 'de', '2016'],\n",
              " ['edita', 'textos', 'info'],\n",
              " ['maison', 'carrée'],\n",
              " ['c', 'ramal', '48'],\n",
              " ['07730', 'alayor', 'menorca'],\n",
              " ['islas', 'baleares'],\n",
              " ['españa'],\n",
              " ['más', 'textos', 'disponibles', 'en', 'http', 'www', 'textos', 'info'],\n",
              " ['2capítulo', 'i'],\n",
              " ['la',\n",
              "  'mayor',\n",
              "  'parte',\n",
              "  'de',\n",
              "  'los',\n",
              "  'hombres',\n",
              "  'oh',\n",
              "  'paulino',\n",
              "  'se',\n",
              "  'queja',\n",
              "  'de',\n",
              "  'la',\n",
              "  'naturaleza'],\n",
              " ['culpándola',\n",
              "  'de',\n",
              "  'que',\n",
              "  'nos',\n",
              "  'haya',\n",
              "  'criado',\n",
              "  'para',\n",
              "  'edad',\n",
              "  'tan',\n",
              "  'corta',\n",
              "  'y',\n",
              "  'que',\n",
              "  'el',\n",
              "  'espacio'],\n",
              " ['que',\n",
              "  'nos',\n",
              "  'dio',\n",
              "  'de',\n",
              "  'vida',\n",
              "  'corra',\n",
              "  'tan',\n",
              "  'veloz',\n",
              "  'que',\n",
              "  'vienen',\n",
              "  'a',\n",
              "  'ser',\n",
              "  'muy',\n",
              "  'pocos',\n",
              "  'aquellos']]"
            ]
          },
          "metadata": {},
          "execution_count": 15
        }
      ],
      "source": [
        "# Demos un vistazo\n",
        "sentence_tokens[:20]"
      ]
    },
    {
      "cell_type": "markdown",
      "metadata": {
        "id": "BaXV6nlHr5Aa"
      },
      "source": [
        "### Crear los vectores (word2vec)"
      ]
    },
    {
      "cell_type": "code",
      "execution_count": 16,
      "metadata": {
        "id": "OSb0v7h8r7hK"
      },
      "outputs": [],
      "source": [
        "from gensim.models.callbacks import CallbackAny2Vec\n",
        "# Durante el entrenamiento gensim por defecto no informa el \"loss\" en cada época\n",
        "# Sobrecargamos el callback para poder tener esta información\n",
        "class callback(CallbackAny2Vec):\n",
        "    \"\"\"\n",
        "    Callback to print loss after each epoch\n",
        "    \"\"\"\n",
        "    def __init__(self):\n",
        "        self.epoch = 0\n",
        "\n",
        "    def on_epoch_end(self, model):\n",
        "        loss = model.get_latest_training_loss()\n",
        "        if self.epoch == 0:\n",
        "            print('Loss after epoch {}: {}'.format(self.epoch, loss))\n",
        "        else:\n",
        "            print('Loss after epoch {}: {}'.format(self.epoch, loss- self.loss_previous_step))\n",
        "        self.epoch += 1\n",
        "        self.loss_previous_step = loss"
      ]
    },
    {
      "cell_type": "code",
      "execution_count": 17,
      "metadata": {
        "id": "i0wnDdv9sJ47"
      },
      "outputs": [],
      "source": [
        "# Crearmos el modelo generador de vectores\n",
        "# En este caso utilizaremos la estructura modelo Skipgram\n",
        "w2v_model = Word2Vec(min_count=5,    # frecuencia mínima de palabra para incluirla en el vocabulario\n",
        "                     window=2,       # cant de palabras antes y desp de la predicha\n",
        "                     vector_size=300,       # dimensionalidad de los vectores\n",
        "                     negative=20,    # cantidad de negative samples... 0 es no se usa\n",
        "                     workers=1,      # si tienen más cores pueden cambiar este valor\n",
        "                     sg=1)           # modelo 0:CBOW  1:skipgram"
      ]
    },
    {
      "cell_type": "code",
      "execution_count": 18,
      "metadata": {
        "id": "5lTt8wErsf17"
      },
      "outputs": [],
      "source": [
        "# Obtener el vocabulario con los tokens\n",
        "w2v_model.build_vocab(sentence_tokens)"
      ]
    },
    {
      "cell_type": "code",
      "execution_count": 19,
      "metadata": {
        "id": "TNc9qt4os5AT",
        "colab": {
          "base_uri": "https://localhost:8080/"
        },
        "outputId": "02cdaf42-88a1-4557-e14d-fec1a5960fe0"
      },
      "outputs": [
        {
          "output_type": "stream",
          "name": "stdout",
          "text": [
            "Cantidad de docs en el corpus: 795\n"
          ]
        }
      ],
      "source": [
        "# Cantidad de filas/docs encontradas en el corpus\n",
        "print(\"Cantidad de docs en el corpus:\", w2v_model.corpus_count)"
      ]
    },
    {
      "cell_type": "code",
      "execution_count": 20,
      "metadata": {
        "id": "idw9cHF3tSMl",
        "colab": {
          "base_uri": "https://localhost:8080/"
        },
        "outputId": "79c8d0dd-2d16-4ecb-f255-dc5121ebdb67"
      },
      "outputs": [
        {
          "output_type": "stream",
          "name": "stdout",
          "text": [
            "Cantidad de words distintas en el corpus: 248\n"
          ]
        }
      ],
      "source": [
        "# Cantidad de words encontradas en el corpus\n",
        "print(\"Cantidad de words distintas en el corpus:\", len(w2v_model.wv.index_to_key))"
      ]
    },
    {
      "cell_type": "markdown",
      "metadata": {
        "id": "fC9mZ8DPk-UC"
      },
      "source": [
        "### Entrenar embeddings"
      ]
    },
    {
      "cell_type": "code",
      "execution_count": 21,
      "metadata": {
        "id": "QSp-x0PAsq56",
        "colab": {
          "base_uri": "https://localhost:8080/"
        },
        "outputId": "80ee4aeb-3f19-4f86-f608-f677b138e647"
      },
      "outputs": [
        {
          "output_type": "stream",
          "name": "stdout",
          "text": [
            "Loss after epoch 0: 60768.80078125\n",
            "Loss after epoch 1: 26057.41796875\n",
            "Loss after epoch 2: 24326.0\n",
            "Loss after epoch 3: 23930.390625\n",
            "Loss after epoch 4: 24768.921875\n",
            "Loss after epoch 5: 24627.71875\n",
            "Loss after epoch 6: 24775.84375\n",
            "Loss after epoch 7: 24452.0\n",
            "Loss after epoch 8: 24590.671875\n",
            "Loss after epoch 9: 24351.609375\n",
            "Loss after epoch 10: 24988.84375\n",
            "Loss after epoch 11: 24572.84375\n",
            "Loss after epoch 12: 23970.21875\n",
            "Loss after epoch 13: 24288.6875\n",
            "Loss after epoch 14: 24767.40625\n",
            "Loss after epoch 15: 24241.625\n",
            "Loss after epoch 16: 24180.1875\n",
            "Loss after epoch 17: 23851.21875\n",
            "Loss after epoch 18: 23592.34375\n",
            "Loss after epoch 19: 24853.0\n"
          ]
        },
        {
          "output_type": "execute_result",
          "data": {
            "text/plain": [
              "(60004, 187660)"
            ]
          },
          "metadata": {},
          "execution_count": 21
        }
      ],
      "source": [
        "# Entrenamos el modelo generador de vectores\n",
        "# Utilizamos nuestro callback\n",
        "w2v_model.train(sentence_tokens,\n",
        "                 total_examples=w2v_model.corpus_count,\n",
        "                 epochs=20,\n",
        "                 compute_loss = True,\n",
        "                 callbacks=[callback()]\n",
        "                 )"
      ]
    },
    {
      "cell_type": "markdown",
      "metadata": {
        "id": "ddT9NVuNlCAe"
      },
      "source": [
        "### 2-Probar términos de interés y explicar similitudes en el espacio de embeddings."
      ]
    },
    {
      "cell_type": "code",
      "execution_count": 23,
      "metadata": {
        "id": "6cHN9xGLuPEm",
        "colab": {
          "base_uri": "https://localhost:8080/"
        },
        "outputId": "a2fdbeea-f381-4a6f-ee7f-3be4453f4b0c"
      },
      "outputs": [
        {
          "output_type": "execute_result",
          "data": {
            "text/plain": [
              "[('vejez', 0.999113917350769),\n",
              " ('breve', 0.9990953207015991),\n",
              " ('mal', 0.9990900754928589),\n",
              " ('dar', 0.9990867972373962),\n",
              " ('sea', 0.9990723729133606),\n",
              " ('nuestra', 0.9990683794021606),\n",
              " ('corta', 0.9990324378013611),\n",
              " ('gusto', 0.999032199382782),\n",
              " ('misma', 0.9990314841270447),\n",
              " ('pérdida', 0.9990116953849792)]"
            ]
          },
          "metadata": {},
          "execution_count": 23
        }
      ],
      "source": [
        "# Palabras que MÁS se relacionan con...:\n",
        "w2v_model.wv.most_similar(positive=[\"vida\"], topn=10)"
      ]
    },
    {
      "cell_type": "code",
      "execution_count": 24,
      "metadata": {
        "id": "47HiU5gdkdMq",
        "colab": {
          "base_uri": "https://localhost:8080/"
        },
        "outputId": "1754a34d-3b02-4692-809b-9b4c84bbd7bf"
      },
      "outputs": [
        {
          "output_type": "execute_result",
          "data": {
            "text/plain": [
              "[('cosas', -0.9971705675125122),\n",
              " ('han', -0.9974320530891418),\n",
              " ('estas', -0.9974567294120789),\n",
              " ('otros', -0.9974973201751709),\n",
              " ('unos', -0.9975023865699768),\n",
              " ('está', -0.9975529313087463),\n",
              " ('de', -0.9976096749305725),\n",
              " ('vez', -0.9976731538772583),\n",
              " ('si', -0.9977012276649475),\n",
              " ('las', -0.9977174997329712)]"
            ]
          },
          "metadata": {},
          "execution_count": 24
        }
      ],
      "source": [
        "# Palabras que MENOS se relacionan con...:\n",
        "w2v_model.wv.most_similar(negative=[\"vida\"], topn=10)"
      ]
    },
    {
      "cell_type": "code",
      "execution_count": 28,
      "metadata": {
        "id": "DT4Rvno2mD65",
        "colab": {
          "base_uri": "https://localhost:8080/"
        },
        "outputId": "15e6711c-278a-464d-950b-68227663bb04"
      },
      "outputs": [
        {
          "output_type": "execute_result",
          "data": {
            "text/plain": [
              "[('vulgo', 0.9992077350616455),\n",
              " ('romano', 0.9991401433944702),\n",
              " ('sobre', 0.9991343021392822),\n",
              " ('muchos', 0.9991331100463867),\n",
              " ('manos', 0.9991292357444763)]"
            ]
          },
          "metadata": {},
          "execution_count": 28
        }
      ],
      "source": [
        "# Palabras que MÁS se relacionan con...:\n",
        "w2v_model.wv.most_similar(positive=[\"hombres\"], topn=5)"
      ]
    },
    {
      "cell_type": "code",
      "execution_count": 34,
      "metadata": {
        "id": "XPLDPgzBmQXt",
        "colab": {
          "base_uri": "https://localhost:8080/"
        },
        "outputId": "6f10f0a2-84f9-43eb-bc0a-5dd9c92d5ddf"
      },
      "outputs": [
        {
          "output_type": "execute_result",
          "data": {
            "text/plain": [
              "[('romano', 0.999423086643219),\n",
              " ('otras', 0.9994206428527832),\n",
              " ('¿cómo', 0.9994159936904907),\n",
              " ('uno', 0.9994088411331177),\n",
              " ('llegar', 0.9994004964828491)]"
            ]
          },
          "metadata": {},
          "execution_count": 34
        }
      ],
      "source": [
        "# Palabras que MÁS se relacionan con...:\n",
        "w2v_model.wv.most_similar(positive=[\"libre\"], topn=5)"
      ]
    },
    {
      "cell_type": "code",
      "execution_count": 35,
      "metadata": {
        "id": "L_UvHPMMklOr",
        "colab": {
          "base_uri": "https://localhost:8080/"
        },
        "outputId": "cf5c2639-e175-4f55-d730-f8163f6dce15"
      },
      "outputs": [
        {
          "output_type": "stream",
          "name": "stdout",
          "text": [
            "Error: La palabra '\"Key 'brevedad' not present in vocabulary\"' no se encuentra en el vocabulario del modelo.\n"
          ]
        }
      ],
      "source": [
        "# Ensayar con una palabra que no está en el vocabulario:\n",
        "try:\n",
        "    similar_words = w2v_model.wv.most_similar(negative=[\"brevedad\"])\n",
        "    print(similar_words)\n",
        "except KeyError as e:\n",
        "    print(f\"Error: La palabra '{e}' no se encuentra en el vocabulario del modelo.\")"
      ]
    },
    {
      "cell_type": "code",
      "execution_count": 36,
      "metadata": {
        "id": "L5LtaDzZRDGp",
        "colab": {
          "base_uri": "https://localhost:8080/"
        },
        "outputId": "80b1340d-885b-44a4-ad25-4879d4c0b351"
      },
      "outputs": [
        {
          "output_type": "stream",
          "name": "stdout",
          "text": [
            "[ 0.04607484  0.15891594 -0.07905515  0.12954043 -0.00143408 -0.14785627\n",
            "  0.01307955  0.25964928 -0.00127301 -0.11695616  0.0889689   0.00784675\n",
            "  0.01867021  0.03859554 -0.12127544 -0.07109284  0.19901246 -0.02748338\n",
            "  0.10494962 -0.05875413 -0.10451951 -0.17788072  0.11761447  0.07649034\n",
            "  0.05018461 -0.08176091 -0.19992712 -0.05255841 -0.03240475 -0.06721435\n",
            "  0.02716341 -0.00698661  0.05547379  0.01227477 -0.08470624  0.05214955\n",
            " -0.00865456 -0.0999334  -0.06689975 -0.02499848 -0.21863109  0.00688461\n",
            " -0.02091474 -0.05622769  0.08794671  0.11538836  0.00092988  0.08677021\n",
            "  0.02601669  0.12696217  0.08693208  0.11554413 -0.01528086  0.08177671\n",
            " -0.00486503  0.08212093  0.07757346  0.01664074  0.01540456  0.04050845\n",
            " -0.05357763 -0.04226336  0.0332208   0.05710701 -0.12317393  0.08000323\n",
            " -0.00356421 -0.00387919 -0.08622797 -0.0315567  -0.05784247 -0.03958843\n",
            "  0.01379029 -0.11788748  0.0413078  -0.00184941 -0.07148456  0.14945734\n",
            "  0.02492264  0.05441426 -0.11053798 -0.11765645 -0.10154064  0.26878592\n",
            "  0.01074153 -0.00908968 -0.13208258 -0.00514121  0.09512952 -0.02658516\n",
            "  0.08473202 -0.06486731  0.06202754  0.04565187  0.14135188  0.06317146\n",
            "  0.11231715 -0.04255743  0.00061066 -0.00078484  0.0018976  -0.06022436\n",
            "  0.03643198  0.13609406 -0.10085215 -0.13813914 -0.06456361  0.05901287\n",
            " -0.13796625  0.0557499  -0.16916895  0.01409894  0.10010932  0.03178221\n",
            " -0.1407462   0.09752963  0.12536928  0.10812581  0.1684676  -0.16133663\n",
            "  0.05274229  0.04511746  0.04919298 -0.03471801 -0.11558321  0.08722737\n",
            " -0.07185621 -0.09009258  0.00529529 -0.00601415  0.01253736  0.1973444\n",
            "  0.13706174 -0.12934788  0.05896379  0.14404175 -0.08173958 -0.0563036\n",
            " -0.13372207 -0.14372937  0.09157272 -0.09662305 -0.116111    0.06268757\n",
            "  0.00658533 -0.09567624 -0.09187128 -0.10103932 -0.08321311 -0.11602158\n",
            "  0.02143581 -0.20850107 -0.04612311 -0.05085934  0.09613358  0.02757631\n",
            " -0.17627749 -0.11805864 -0.02913971  0.15106893 -0.09271944 -0.05281837\n",
            " -0.16184822  0.00602649 -0.12460677  0.16574463 -0.06825911 -0.02507152\n",
            " -0.04853228  0.15026672 -0.08345654 -0.06790873  0.01104137  0.05777526\n",
            "  0.00122691 -0.09816405 -0.02255959 -0.12982124 -0.05641492  0.04825359\n",
            " -0.08451529  0.13593158 -0.12804432 -0.05080637 -0.11226948 -0.02256224\n",
            "  0.1980064   0.17795087  0.06276314 -0.05944809  0.03196291 -0.03788181\n",
            " -0.07766482  0.15511191  0.04674219 -0.17787962  0.03965209  0.00072297\n",
            "  0.0345532  -0.04601334 -0.16515131 -0.09021327  0.04517133  0.11875097\n",
            " -0.05095489 -0.04271254 -0.03409616 -0.00095733  0.12666233 -0.0483722\n",
            "  0.04497529 -0.08995257 -0.00130285 -0.0884288  -0.05333621 -0.15968294\n",
            " -0.01299995 -0.2816746  -0.14122428 -0.0280964   0.00279677  0.0337905\n",
            " -0.20155583 -0.09612019 -0.03955463 -0.07531016 -0.10594667 -0.05983982\n",
            " -0.07284819  0.03197511  0.02807898 -0.04465855 -0.04818085  0.11163744\n",
            " -0.09940349  0.17730603 -0.08390325 -0.00161033  0.06037569 -0.21504806\n",
            "  0.07355108 -0.06821503  0.00078238  0.05882983  0.01934807 -0.14961834\n",
            " -0.07094522  0.0393957   0.00614905  0.08663753  0.01938424 -0.02399845\n",
            " -0.05360147  0.0633211  -0.17781655 -0.08732688  0.12257249 -0.06812423\n",
            " -0.21610895 -0.09804844  0.02908287  0.07742509  0.07736172 -0.21048982\n",
            " -0.19568995 -0.05214464  0.0887688   0.08813674 -0.09439629  0.12251687\n",
            "  0.04061534  0.00249854  0.01588401 -0.03961373  0.17716372  0.1728728\n",
            "  0.13290514  0.01518903 -0.12707187  0.00383165  0.0004513   0.01340694\n",
            " -0.01487644  0.10479789 -0.02900486  0.04664769 -0.16150542  0.04812121\n",
            " -0.06787677  0.11625183  0.04323553  0.14975326  0.03206607  0.02181047\n",
            "  0.05646878  0.15825622 -0.01246618  0.01374656  0.02290382 -0.09644181]\n"
          ]
        }
      ],
      "source": [
        "# el método `get_vector` permite obtener los vectores:\n",
        "vector_vida = w2v_model.wv.get_vector(\"vida\")\n",
        "print(vector_vida)"
      ]
    },
    {
      "cell_type": "code",
      "execution_count": 37,
      "metadata": {
        "id": "2xUIHpoqRDGq",
        "colab": {
          "base_uri": "https://localhost:8080/"
        },
        "outputId": "75838566-9299-4825-d6e3-ca70229e0723"
      },
      "outputs": [
        {
          "output_type": "execute_result",
          "data": {
            "text/plain": [
              "[('vida', 1.0),\n",
              " ('vejez', 0.999113917350769),\n",
              " ('breve', 0.9990953207015991),\n",
              " ('mal', 0.9990900754928589),\n",
              " ('dar', 0.9990869164466858),\n",
              " ('sea', 0.9990724325180054),\n",
              " ('nuestra', 0.9990683794021606),\n",
              " ('corta', 0.9990324378013611),\n",
              " ('gusto', 0.999032199382782),\n",
              " ('misma', 0.9990315437316895)]"
            ]
          },
          "metadata": {},
          "execution_count": 37
        }
      ],
      "source": [
        "# el método `most_similar` también permite comparar a partir de vectores\n",
        "w2v_model.wv.most_similar(vector_vida)"
      ]
    },
    {
      "cell_type": "code",
      "execution_count": 38,
      "metadata": {
        "id": "BEeU8F9FRDGq",
        "colab": {
          "base_uri": "https://localhost:8080/"
        },
        "outputId": "e38e8261-37e1-4dc7-e958-e02f6db58ae8"
      },
      "outputs": [
        {
          "output_type": "execute_result",
          "data": {
            "text/plain": [
              "[('vejez', 0.999113917350769),\n",
              " ('breve', 0.9990953207015991),\n",
              " ('mal', 0.9990900754928589),\n",
              " ('dar', 0.9990867972373962),\n",
              " ('sea', 0.9990723729133606),\n",
              " ('nuestra', 0.9990683794021606),\n",
              " ('corta', 0.9990324378013611),\n",
              " ('gusto', 0.999032199382782),\n",
              " ('misma', 0.9990314841270447),\n",
              " ('pérdida', 0.9990116953849792)]"
            ]
          },
          "metadata": {},
          "execution_count": 38
        }
      ],
      "source": [
        "# Palabras que MÁS se relacionan con...:\n",
        "w2v_model.wv.most_similar(positive=[\"vida\"], topn=10)"
      ]
    },
    {
      "cell_type": "markdown",
      "source": [
        "# 3-Intentar plantear y probar tests de analogías."
      ],
      "metadata": {
        "id": "kRw7cxwpbS_J"
      }
    },
    {
      "cell_type": "code",
      "source": [
        "# Probar analogías con Word2Vec\n",
        "try:\n",
        "    result = w2v_model.wv.most_similar(positive=[\"vida\", \"gusto\"], negative=[\"mal\"])\n",
        "    print(result)\n",
        "except KeyError as e:\n",
        "    print(f\"Error: La palabra '{e}' no se encuentra en el vocabulario del modelo.\")\n"
      ],
      "metadata": {
        "colab": {
          "base_uri": "https://localhost:8080/"
        },
        "id": "byNFZ10kcaXm",
        "outputId": "72cdff2e-9d26-46a0-c211-5902f2ed9a59"
      },
      "execution_count": 39,
      "outputs": [
        {
          "output_type": "stream",
          "name": "stdout",
          "text": [
            "[('vejez', 0.9985979199409485), ('nuestra', 0.9985478520393372), ('breve', 0.9985440969467163), ('sea', 0.9985336661338806), ('dar', 0.9985302686691284), ('bien', 0.9984878897666931), ('tener', 0.9984816312789917), ('pérdida', 0.9984738826751709), ('no', 0.9984735250473022), ('toda', 0.9984560012817383)]\n"
          ]
        }
      ]
    },
    {
      "cell_type": "markdown",
      "metadata": {
        "id": "_g8UVWe6lFmh"
      },
      "source": [
        "### Visualizar agrupación de vectores"
      ]
    },
    {
      "cell_type": "code",
      "execution_count": 40,
      "metadata": {
        "id": "pDxEVXAivjr9"
      },
      "outputs": [],
      "source": [
        "from sklearn.decomposition import IncrementalPCA\n",
        "from sklearn.manifold import TSNE\n",
        "import numpy as np\n",
        "\n",
        "def reduce_dimensions(model, num_dimensions = 2 ):\n",
        "\n",
        "    vectors = np.asarray(model.wv.vectors)\n",
        "    labels = np.asarray(model.wv.index_to_key)\n",
        "\n",
        "    tsne = TSNE(n_components=num_dimensions, random_state=0)\n",
        "    vectors = tsne.fit_transform(vectors)\n",
        "\n",
        "    return vectors, labels"
      ]
    },
    {
      "cell_type": "markdown",
      "source": [
        "# 4-Graficar los embeddings resultantes."
      ],
      "metadata": {
        "id": "nfMS3RDAfbmA"
      }
    },
    {
      "cell_type": "code",
      "execution_count": 41,
      "metadata": {
        "id": "NCCXtDpcugmd",
        "colab": {
          "base_uri": "https://localhost:8080/",
          "height": 785
        },
        "outputId": "c3a80b19-ca83-443a-f62e-0be9883f492b"
      },
      "outputs": [
        {
          "output_type": "stream",
          "name": "stderr",
          "text": [
            "Exception ignored on calling ctypes callback function: <function ThreadpoolController._find_libraries_with_dl_iterate_phdr.<locals>.match_library_callback at 0x7c1dec894220>\n",
            "Traceback (most recent call last):\n",
            "  File \"/usr/local/lib/python3.11/dist-packages/threadpoolctl.py\", line 1005, in match_library_callback\n",
            "    self._make_controller_from_path(filepath)\n",
            "  File \"/usr/local/lib/python3.11/dist-packages/threadpoolctl.py\", line 1187, in _make_controller_from_path\n",
            "    lib_controller = controller_class(\n",
            "                     ^^^^^^^^^^^^^^^^^\n",
            "  File \"/usr/local/lib/python3.11/dist-packages/threadpoolctl.py\", line 114, in __init__\n",
            "    self.dynlib = ctypes.CDLL(filepath, mode=_RTLD_NOLOAD)\n",
            "                  ^^^^^^^^^^^^^^^^^^^^^^^^^^^^^^^^^^^^^^^^\n",
            "  File \"/usr/lib/python3.11/ctypes/__init__.py\", line 376, in __init__\n",
            "    self._handle = _dlopen(self._name, mode)\n",
            "                   ^^^^^^^^^^^^^^^^^^^^^^^^^\n",
            "OSError: dlopen() error\n"
          ]
        },
        {
          "output_type": "display_data",
          "data": {
            "text/html": [
              "<html>\n",
              "<head><meta charset=\"utf-8\" /></head>\n",
              "<body>\n",
              "    <div>            <script src=\"https://cdnjs.cloudflare.com/ajax/libs/mathjax/2.7.5/MathJax.js?config=TeX-AMS-MML_SVG\"></script><script type=\"text/javascript\">if (window.MathJax && window.MathJax.Hub && window.MathJax.Hub.Config) {window.MathJax.Hub.Config({SVG: {font: \"STIX-Web\"}});}</script>                <script type=\"text/javascript\">window.PlotlyConfig = {MathJaxConfig: 'local'};</script>\n",
              "        <script charset=\"utf-8\" src=\"https://cdn.plot.ly/plotly-2.35.2.min.js\"></script>                <div id=\"e1416adc-1f24-4906-a97c-b12ae867f3cc\" class=\"plotly-graph-div\" style=\"height:525px; width:100%;\"></div>            <script type=\"text/javascript\">                                    window.PLOTLYENV=window.PLOTLYENV || {};                                    if (document.getElementById(\"e1416adc-1f24-4906-a97c-b12ae867f3cc\")) {                    Plotly.newPlot(                        \"e1416adc-1f24-4906-a97c-b12ae867f3cc\",                        [{\"hovertemplate\":\"x=%{x}\\u003cbr\\u003ey=%{y}\\u003cbr\\u003etext=%{text}\\u003cextra\\u003e\\u003c\\u002fextra\\u003e\",\"legendgroup\":\"\",\"marker\":{\"color\":\"#636efa\",\"symbol\":\"circle\"},\"mode\":\"markers+text\",\"name\":\"\",\"orientation\":\"v\",\"showlegend\":false,\"text\":[\"de\",\"que\",\"y\",\"la\",\"los\",\"a\",\"en\",\"el\",\"se\",\"no\",\"con\",\"las\",\"es\",\"lo\",\"para\",\"su\",\"por\",\"vida\",\"más\",\"del\",\"si\",\"sus\",\"tiempo\",\"les\",\"sin\",\"como\",\"o\",\"le\",\"al\",\"ni\",\"porque\",\"cosas\",\"cuando\",\"tan\",\"te\",\"han\",\"pues\",\"una\",\"son\",\"un\",\"aquellos\",\"pero\",\"día\",\"todos\",\"ha\",\"sino\",\"ser\",\"quien\",\"fue\",\"parte\",\"edad\",\"ellos\",\"otros\",\"ella\",\"éstos\",\"qué\",\"está\",\"cosa\",\"todas\",\"este\",\"habiendo\",\"muchos\",\"otro\",\"hay\",\"nos\",\"siendo\",\"aunque\",\"él\",\"demás\",\"años\",\"algún\",\"algunos\",\"mientras\",\"aquel\",\"sea\",\"mismo\",\"vivir\",\"sólo\",\"fortuna\",\"había\",\"tu\",\"poco\",\"entre\",\"presente\",\"así\",\"éste\",\"otra\",\"sí\",\"descanso\",\"después\",\"estas\",\"muerte\",\"mayor\",\"días\",\"hombres\",\"mucho\",\"esto\",\"siempre\",\"¿qué\",\"tú\",\"pasado\",\"quietud\",\"larga\",\"primero\",\"ninguno\",\"todo\",\"alguna\",\"ti\",\"decir\",\"están\",\"ocupados\",\"tal\",\"grandes\",\"muchas\",\"haber\",\"hacer\",\"lugar\",\"antes\",\"vez\",\"tienen\",\"hasta\",\"ambición\",\"saber\",\"has\",\"unos\",\"cual\",\"medio\",\"tiene\",\"ocupación\",\"jamás\",\"naturaleza\",\"toda\",\"nada\",\"aun\",\"grande\",\"cuánta\",\"vejez\",\"imperio\",\"cuántos\",\"fuera\",\"bienes\",\"ánimo\",\"tanto\",\"breve\",\"último\",\"deleites\",\"alguno\",\"cada\",\"sido\",\"diligencia\",\"dado\",\"puede\",\"también\",\"ya\",\"cuidado\",\"trabajo\",\"huye\",\"mejor\",\"misma\",\"me\",\"séneca\",\"mucha\",\"ocupaciones\",\"desde\",\"vicios\",\"tener\",\"¿cómo\",\"memoria\",\"llega\",\"cuándo\",\"hayan\",\"sabio\",\"uno\",\"causa\",\"ocupado\",\"ninguna\",\"cuán\",\"llegado\",\"pocos\",\"aquella\",\"otras\",\"dio\",\"cómo\",\"ojos\",\"corta\",\"buena\",\"hace\",\"romanos\",\"noche\",\"república\",\"entonces\",\"fin\",\"libre\",\"manos\",\"forzoso\",\"»\",\"¿a\",\"mismos\",\"miserables\",\"estando\"],\"x\":[3.0964637,-4.399091,2.4447842,4.643632,3.5898008,4.309493,3.3456914,-3.5528665,-3.4320688,-4.379558,0.96214354,-0.2957721,-3.4734714,-5.2509613,-6.302169,-0.98119676,3.5720086,2.1186273,1.2798402,-2.9014657,-5.0188966,-0.49578905,-5.804053,-4.917995,2.59391,-2.510775,3.5822256,2.8421333,-1.4780253,0.517976,-2.0753925,-1.1481444,-1.8665568,0.118897475,-0.3250157,4.6153674,-3.1366022,2.935231,2.281611,2.241464,-4.7838507,-2.1097114,-3.0249863,1.5979407,2.1178927,-6.630727,3.5814745,-1.5141234,-4.0085316,3.276988,0.0026007036,5.5588827,4.6383586,-2.912317,1.9324725,3.5632179,-5.5206795,-6.8308096,-0.44925344,-3.3746192,-5.7403507,1.7243596,-4.214512,0.7400974,-3.1281223,1.2726102,-4.3878207,2.441032,-0.66234386,3.4043357,-4.7960887,1.1647764,0.11084508,-2.9652123,2.1082516,-2.380121,2.7369716,-3.7815185,1.3925272,2.369204,4.2941236,-3.9802692,2.5108678,-5.693641,-2.0055676,-4.623924,1.8502858,-1.5711327,-1.3991294,0.3620246,0.5149957,-2.151322,4.5453534,-0.32157573,-3.7891552,-5.1407504,-2.1618865,4.178765,1.3600535,-3.3534238,-6.3198566,1.6094767,-6.677197,-3.5002959,-0.6047422,-3.7943723,1.1968844,-0.47468567,-1.0252212,1.5901216,-0.57506156,-1.6864583,0.27647683,-0.055295136,-0.101837456,0.27928528,0.031738326,-1.4209641,1.4525388,-4.58221,-0.29051635,3.0681717,-1.0844895,-0.4557648,4.696602,-4.2663307,-4.338393,-0.60784763,0.6269573,1.6279061,-2.6364636,-2.474495,-2.3075008,1.8924553,3.7650685,4.4789376,0.42037496,-2.1537545,2.1925056,-4.8533163,1.3874471,-0.44407144,-2.0093508,-3.7510848,-3.4382792,-1.534239,-0.91683084,-2.6494977,0.7075396,-0.20813261,3.097374,0.541222,-0.26371303,-1.7430642,-0.27467698,-1.0275662,-3.5693893,-1.3985529,-2.959591,-1.6325909,-2.1543672,0.6391955,-0.91814494,-1.9603723,1.1005467,1.7004724,-3.0216455,-1.109466,-0.61067575,4.4861107,-1.406034,-1.7999696,-1.3605503,-2.5642526,-0.6323256,1.185494,0.24487256,0.5696851,0.47725525,-1.3911238,-0.9455445,-2.9870043,1.9149128,1.2136116,-2.4366443,0.037578437,-0.061289676,-0.67859226,-1.9881462,-1.6221696,0.28840014,-1.6478015,-2.4656637,-0.47930548,-3.537007,-2.7010083,1.948738,0.5306375,0.10934096,-0.56935316],\"xaxis\":\"x\",\"y\":[-2.7175984,-1.592243,-5.1208696,-3.3200831,2.1785972,2.3079915,3.6212149,-4.0998325,-0.83174014,-0.123566896,-3.679382,-6.0653486,5.4222507,-0.60283935,1.3570604,-3.0561438,-4.4870167,7.0100813,-4.5709324,4.556463,4.134383,-4.1989217,0.08979446,1.8062842,0.6638213,-2.6604648,1.4160789,0.48676234,-1.8990632,-2.5538707,1.1706676,-6.4544177,5.209788,1.3364254,6.989457,0.17692,-0.3599288,4.907462,3.2616558,-1.170421,-4.0909657,0.060800225,0.47341585,-2.0255787,1.0561228,2.4192007,-0.68899506,1.4340873,2.1289775,4.8676906,5.061827,-1.0241735,2.7620423,-3.3009024,-2.6163142,-2.196348,4.046544,2.8564103,-5.895091,2.8155966,-2.7095928,-0.5340666,3.7830472,-0.69796085,-1.7853779,-6.193153,0.809855,-0.14435345,-5.792324,-1.4762462,2.94202,2.3198261,-3.8537614,3.4877381,7.0159993,2.0040257,-3.6362062,1.1894614,-3.5898862,-3.6271555,-1.7187101,-5.566837,2.8795667,-1.4392279,3.078936,3.6335158,5.250377,2.4027271,-4.4311824,-1.5788195,-4.9735026,-5.3693476,-3.1457512,-0.69911283,-5.4392247,0.35454562,-0.31125262,3.0670526,5.067245,1.9866551,-0.3438169,-0.8702011,2.6753814,-3.2058713,5.212997,-2.0112374,5.175243,6.587447,-0.15531309,0.57304955,-2.426312,6.1263967,-4.9136834,-4.7310157,-1.7709832,-3.2486408,0.5342724,3.8118997,2.0640795,-2.879785,-2.3390923,4.7170734,1.8912318,6.691417,2.0973494,-0.3735902,1.2466232,3.784623,0.08622667,0.30130538,-1.5284479,-1.7837002,-1.760431,3.0029647,-1.3241739,-1.7123151,-0.7779372,-3.4516354,1.9144933,3.838687,-2.3904202,-1.5418054,-2.1717496,0.7373704,-2.6082146,-4.5596833,0.7015405,4.348524,2.0450592,0.116193965,-1.8920118,-1.89505,3.2225578,-3.057494,4.7069287,-2.4341323,2.015359,-0.6106706,-1.1112322,0.42614633,-4.6617947,4.6945906,-3.940191,-2.5354657,1.5500892,0.9213545,1.979014,-1.4411039,2.5246387,-0.041681617,4.865796,0.5273702,2.1088905,1.350657,4.8890285,5.0683603,2.7703989,1.035366,2.978421,1.4472824,0.062111903,0.6817767,0.70585877,-1.7368473,0.62689644,-0.4319725,0.8705322,1.5708346,3.815978,-4.8480034,3.14504,-4.3190265,2.62759,-3.4099529,0.9799195,2.6308055,2.9081335,3.676479,0.13590422,0.9410586],\"yaxis\":\"y\",\"type\":\"scatter\"}],                        {\"template\":{\"data\":{\"histogram2dcontour\":[{\"type\":\"histogram2dcontour\",\"colorbar\":{\"outlinewidth\":0,\"ticks\":\"\"},\"colorscale\":[[0.0,\"#0d0887\"],[0.1111111111111111,\"#46039f\"],[0.2222222222222222,\"#7201a8\"],[0.3333333333333333,\"#9c179e\"],[0.4444444444444444,\"#bd3786\"],[0.5555555555555556,\"#d8576b\"],[0.6666666666666666,\"#ed7953\"],[0.7777777777777778,\"#fb9f3a\"],[0.8888888888888888,\"#fdca26\"],[1.0,\"#f0f921\"]]}],\"choropleth\":[{\"type\":\"choropleth\",\"colorbar\":{\"outlinewidth\":0,\"ticks\":\"\"}}],\"histogram2d\":[{\"type\":\"histogram2d\",\"colorbar\":{\"outlinewidth\":0,\"ticks\":\"\"},\"colorscale\":[[0.0,\"#0d0887\"],[0.1111111111111111,\"#46039f\"],[0.2222222222222222,\"#7201a8\"],[0.3333333333333333,\"#9c179e\"],[0.4444444444444444,\"#bd3786\"],[0.5555555555555556,\"#d8576b\"],[0.6666666666666666,\"#ed7953\"],[0.7777777777777778,\"#fb9f3a\"],[0.8888888888888888,\"#fdca26\"],[1.0,\"#f0f921\"]]}],\"heatmap\":[{\"type\":\"heatmap\",\"colorbar\":{\"outlinewidth\":0,\"ticks\":\"\"},\"colorscale\":[[0.0,\"#0d0887\"],[0.1111111111111111,\"#46039f\"],[0.2222222222222222,\"#7201a8\"],[0.3333333333333333,\"#9c179e\"],[0.4444444444444444,\"#bd3786\"],[0.5555555555555556,\"#d8576b\"],[0.6666666666666666,\"#ed7953\"],[0.7777777777777778,\"#fb9f3a\"],[0.8888888888888888,\"#fdca26\"],[1.0,\"#f0f921\"]]}],\"heatmapgl\":[{\"type\":\"heatmapgl\",\"colorbar\":{\"outlinewidth\":0,\"ticks\":\"\"},\"colorscale\":[[0.0,\"#0d0887\"],[0.1111111111111111,\"#46039f\"],[0.2222222222222222,\"#7201a8\"],[0.3333333333333333,\"#9c179e\"],[0.4444444444444444,\"#bd3786\"],[0.5555555555555556,\"#d8576b\"],[0.6666666666666666,\"#ed7953\"],[0.7777777777777778,\"#fb9f3a\"],[0.8888888888888888,\"#fdca26\"],[1.0,\"#f0f921\"]]}],\"contourcarpet\":[{\"type\":\"contourcarpet\",\"colorbar\":{\"outlinewidth\":0,\"ticks\":\"\"}}],\"contour\":[{\"type\":\"contour\",\"colorbar\":{\"outlinewidth\":0,\"ticks\":\"\"},\"colorscale\":[[0.0,\"#0d0887\"],[0.1111111111111111,\"#46039f\"],[0.2222222222222222,\"#7201a8\"],[0.3333333333333333,\"#9c179e\"],[0.4444444444444444,\"#bd3786\"],[0.5555555555555556,\"#d8576b\"],[0.6666666666666666,\"#ed7953\"],[0.7777777777777778,\"#fb9f3a\"],[0.8888888888888888,\"#fdca26\"],[1.0,\"#f0f921\"]]}],\"surface\":[{\"type\":\"surface\",\"colorbar\":{\"outlinewidth\":0,\"ticks\":\"\"},\"colorscale\":[[0.0,\"#0d0887\"],[0.1111111111111111,\"#46039f\"],[0.2222222222222222,\"#7201a8\"],[0.3333333333333333,\"#9c179e\"],[0.4444444444444444,\"#bd3786\"],[0.5555555555555556,\"#d8576b\"],[0.6666666666666666,\"#ed7953\"],[0.7777777777777778,\"#fb9f3a\"],[0.8888888888888888,\"#fdca26\"],[1.0,\"#f0f921\"]]}],\"mesh3d\":[{\"type\":\"mesh3d\",\"colorbar\":{\"outlinewidth\":0,\"ticks\":\"\"}}],\"scatter\":[{\"fillpattern\":{\"fillmode\":\"overlay\",\"size\":10,\"solidity\":0.2},\"type\":\"scatter\"}],\"parcoords\":[{\"type\":\"parcoords\",\"line\":{\"colorbar\":{\"outlinewidth\":0,\"ticks\":\"\"}}}],\"scatterpolargl\":[{\"type\":\"scatterpolargl\",\"marker\":{\"colorbar\":{\"outlinewidth\":0,\"ticks\":\"\"}}}],\"bar\":[{\"error_x\":{\"color\":\"#2a3f5f\"},\"error_y\":{\"color\":\"#2a3f5f\"},\"marker\":{\"line\":{\"color\":\"#E5ECF6\",\"width\":0.5},\"pattern\":{\"fillmode\":\"overlay\",\"size\":10,\"solidity\":0.2}},\"type\":\"bar\"}],\"scattergeo\":[{\"type\":\"scattergeo\",\"marker\":{\"colorbar\":{\"outlinewidth\":0,\"ticks\":\"\"}}}],\"scatterpolar\":[{\"type\":\"scatterpolar\",\"marker\":{\"colorbar\":{\"outlinewidth\":0,\"ticks\":\"\"}}}],\"histogram\":[{\"marker\":{\"pattern\":{\"fillmode\":\"overlay\",\"size\":10,\"solidity\":0.2}},\"type\":\"histogram\"}],\"scattergl\":[{\"type\":\"scattergl\",\"marker\":{\"colorbar\":{\"outlinewidth\":0,\"ticks\":\"\"}}}],\"scatter3d\":[{\"type\":\"scatter3d\",\"line\":{\"colorbar\":{\"outlinewidth\":0,\"ticks\":\"\"}},\"marker\":{\"colorbar\":{\"outlinewidth\":0,\"ticks\":\"\"}}}],\"scattermapbox\":[{\"type\":\"scattermapbox\",\"marker\":{\"colorbar\":{\"outlinewidth\":0,\"ticks\":\"\"}}}],\"scatterternary\":[{\"type\":\"scatterternary\",\"marker\":{\"colorbar\":{\"outlinewidth\":0,\"ticks\":\"\"}}}],\"scattercarpet\":[{\"type\":\"scattercarpet\",\"marker\":{\"colorbar\":{\"outlinewidth\":0,\"ticks\":\"\"}}}],\"carpet\":[{\"aaxis\":{\"endlinecolor\":\"#2a3f5f\",\"gridcolor\":\"white\",\"linecolor\":\"white\",\"minorgridcolor\":\"white\",\"startlinecolor\":\"#2a3f5f\"},\"baxis\":{\"endlinecolor\":\"#2a3f5f\",\"gridcolor\":\"white\",\"linecolor\":\"white\",\"minorgridcolor\":\"white\",\"startlinecolor\":\"#2a3f5f\"},\"type\":\"carpet\"}],\"table\":[{\"cells\":{\"fill\":{\"color\":\"#EBF0F8\"},\"line\":{\"color\":\"white\"}},\"header\":{\"fill\":{\"color\":\"#C8D4E3\"},\"line\":{\"color\":\"white\"}},\"type\":\"table\"}],\"barpolar\":[{\"marker\":{\"line\":{\"color\":\"#E5ECF6\",\"width\":0.5},\"pattern\":{\"fillmode\":\"overlay\",\"size\":10,\"solidity\":0.2}},\"type\":\"barpolar\"}],\"pie\":[{\"automargin\":true,\"type\":\"pie\"}]},\"layout\":{\"autotypenumbers\":\"strict\",\"colorway\":[\"#636efa\",\"#EF553B\",\"#00cc96\",\"#ab63fa\",\"#FFA15A\",\"#19d3f3\",\"#FF6692\",\"#B6E880\",\"#FF97FF\",\"#FECB52\"],\"font\":{\"color\":\"#2a3f5f\"},\"hovermode\":\"closest\",\"hoverlabel\":{\"align\":\"left\"},\"paper_bgcolor\":\"white\",\"plot_bgcolor\":\"#E5ECF6\",\"polar\":{\"bgcolor\":\"#E5ECF6\",\"angularaxis\":{\"gridcolor\":\"white\",\"linecolor\":\"white\",\"ticks\":\"\"},\"radialaxis\":{\"gridcolor\":\"white\",\"linecolor\":\"white\",\"ticks\":\"\"}},\"ternary\":{\"bgcolor\":\"#E5ECF6\",\"aaxis\":{\"gridcolor\":\"white\",\"linecolor\":\"white\",\"ticks\":\"\"},\"baxis\":{\"gridcolor\":\"white\",\"linecolor\":\"white\",\"ticks\":\"\"},\"caxis\":{\"gridcolor\":\"white\",\"linecolor\":\"white\",\"ticks\":\"\"}},\"coloraxis\":{\"colorbar\":{\"outlinewidth\":0,\"ticks\":\"\"}},\"colorscale\":{\"sequential\":[[0.0,\"#0d0887\"],[0.1111111111111111,\"#46039f\"],[0.2222222222222222,\"#7201a8\"],[0.3333333333333333,\"#9c179e\"],[0.4444444444444444,\"#bd3786\"],[0.5555555555555556,\"#d8576b\"],[0.6666666666666666,\"#ed7953\"],[0.7777777777777778,\"#fb9f3a\"],[0.8888888888888888,\"#fdca26\"],[1.0,\"#f0f921\"]],\"sequentialminus\":[[0.0,\"#0d0887\"],[0.1111111111111111,\"#46039f\"],[0.2222222222222222,\"#7201a8\"],[0.3333333333333333,\"#9c179e\"],[0.4444444444444444,\"#bd3786\"],[0.5555555555555556,\"#d8576b\"],[0.6666666666666666,\"#ed7953\"],[0.7777777777777778,\"#fb9f3a\"],[0.8888888888888888,\"#fdca26\"],[1.0,\"#f0f921\"]],\"diverging\":[[0,\"#8e0152\"],[0.1,\"#c51b7d\"],[0.2,\"#de77ae\"],[0.3,\"#f1b6da\"],[0.4,\"#fde0ef\"],[0.5,\"#f7f7f7\"],[0.6,\"#e6f5d0\"],[0.7,\"#b8e186\"],[0.8,\"#7fbc41\"],[0.9,\"#4d9221\"],[1,\"#276419\"]]},\"xaxis\":{\"gridcolor\":\"white\",\"linecolor\":\"white\",\"ticks\":\"\",\"title\":{\"standoff\":15},\"zerolinecolor\":\"white\",\"automargin\":true,\"zerolinewidth\":2},\"yaxis\":{\"gridcolor\":\"white\",\"linecolor\":\"white\",\"ticks\":\"\",\"title\":{\"standoff\":15},\"zerolinecolor\":\"white\",\"automargin\":true,\"zerolinewidth\":2},\"scene\":{\"xaxis\":{\"backgroundcolor\":\"#E5ECF6\",\"gridcolor\":\"white\",\"linecolor\":\"white\",\"showbackground\":true,\"ticks\":\"\",\"zerolinecolor\":\"white\",\"gridwidth\":2},\"yaxis\":{\"backgroundcolor\":\"#E5ECF6\",\"gridcolor\":\"white\",\"linecolor\":\"white\",\"showbackground\":true,\"ticks\":\"\",\"zerolinecolor\":\"white\",\"gridwidth\":2},\"zaxis\":{\"backgroundcolor\":\"#E5ECF6\",\"gridcolor\":\"white\",\"linecolor\":\"white\",\"showbackground\":true,\"ticks\":\"\",\"zerolinecolor\":\"white\",\"gridwidth\":2}},\"shapedefaults\":{\"line\":{\"color\":\"#2a3f5f\"}},\"annotationdefaults\":{\"arrowcolor\":\"#2a3f5f\",\"arrowhead\":0,\"arrowwidth\":1},\"geo\":{\"bgcolor\":\"white\",\"landcolor\":\"#E5ECF6\",\"subunitcolor\":\"white\",\"showland\":true,\"showlakes\":true,\"lakecolor\":\"white\"},\"title\":{\"x\":0.05},\"mapbox\":{\"style\":\"light\"}}},\"xaxis\":{\"anchor\":\"y\",\"domain\":[0.0,1.0],\"title\":{\"text\":\"x\"}},\"yaxis\":{\"anchor\":\"x\",\"domain\":[0.0,1.0],\"title\":{\"text\":\"y\"}},\"legend\":{\"tracegroupgap\":0},\"margin\":{\"t\":60}},                        {\"responsive\": true}                    ).then(function(){\n",
              "                            \n",
              "var gd = document.getElementById('e1416adc-1f24-4906-a97c-b12ae867f3cc');\n",
              "var x = new MutationObserver(function (mutations, observer) {{\n",
              "        var display = window.getComputedStyle(gd).display;\n",
              "        if (!display || display === 'none') {{\n",
              "            console.log([gd, 'removed!']);\n",
              "            Plotly.purge(gd);\n",
              "            observer.disconnect();\n",
              "        }}\n",
              "}});\n",
              "\n",
              "// Listen for the removal of the full notebook cells\n",
              "var notebookContainer = gd.closest('#notebook-container');\n",
              "if (notebookContainer) {{\n",
              "    x.observe(notebookContainer, {childList: true});\n",
              "}}\n",
              "\n",
              "// Listen for the clearing of the current output cell\n",
              "var outputEl = gd.closest('.output');\n",
              "if (outputEl) {{\n",
              "    x.observe(outputEl, {childList: true});\n",
              "}}\n",
              "\n",
              "                        })                };                            </script>        </div>\n",
              "</body>\n",
              "</html>"
            ]
          },
          "metadata": {}
        }
      ],
      "source": [
        "# Graficar los embedddings en 2D\n",
        "import plotly.graph_objects as go\n",
        "import plotly.express as px\n",
        "\n",
        "vecs, labels = reduce_dimensions(w2v_model)\n",
        "\n",
        "MAX_WORDS=200\n",
        "fig = px.scatter(x=vecs[:MAX_WORDS,0], y=vecs[:MAX_WORDS,1], text=labels[:MAX_WORDS])\n",
        "fig.show(renderer=\"colab\") # esto para plotly en colab"
      ]
    },
    {
      "cell_type": "code",
      "execution_count": 42,
      "metadata": {
        "id": "yXaN2ZXVRDGu",
        "colab": {
          "base_uri": "https://localhost:8080/",
          "height": 542
        },
        "outputId": "888226ea-594e-48fa-d75a-4a76fdcd403c"
      },
      "outputs": [
        {
          "output_type": "display_data",
          "data": {
            "text/html": [
              "<html>\n",
              "<head><meta charset=\"utf-8\" /></head>\n",
              "<body>\n",
              "    <div>            <script src=\"https://cdnjs.cloudflare.com/ajax/libs/mathjax/2.7.5/MathJax.js?config=TeX-AMS-MML_SVG\"></script><script type=\"text/javascript\">if (window.MathJax && window.MathJax.Hub && window.MathJax.Hub.Config) {window.MathJax.Hub.Config({SVG: {font: \"STIX-Web\"}});}</script>                <script type=\"text/javascript\">window.PlotlyConfig = {MathJaxConfig: 'local'};</script>\n",
              "        <script charset=\"utf-8\" src=\"https://cdn.plot.ly/plotly-2.35.2.min.js\"></script>                <div id=\"e291bc39-d206-45cb-b2ee-805732fc49e3\" class=\"plotly-graph-div\" style=\"height:525px; width:100%;\"></div>            <script type=\"text/javascript\">                                    window.PLOTLYENV=window.PLOTLYENV || {};                                    if (document.getElementById(\"e291bc39-d206-45cb-b2ee-805732fc49e3\")) {                    Plotly.newPlot(                        \"e291bc39-d206-45cb-b2ee-805732fc49e3\",                        [{\"hovertemplate\":\"x=%{x}\\u003cbr\\u003ey=%{y}\\u003cbr\\u003ez=%{z}\\u003cbr\\u003etext=%{text}\\u003cextra\\u003e\\u003c\\u002fextra\\u003e\",\"legendgroup\":\"\",\"marker\":{\"color\":\"#636efa\",\"symbol\":\"circle\",\"size\":2},\"mode\":\"markers+text\",\"name\":\"\",\"scene\":\"scene\",\"showlegend\":false,\"text\":[\"de\",\"que\",\"y\",\"la\",\"los\",\"a\",\"en\",\"el\",\"se\",\"no\",\"con\",\"las\",\"es\",\"lo\",\"para\",\"su\",\"por\",\"vida\",\"más\",\"del\",\"si\",\"sus\",\"tiempo\",\"les\",\"sin\",\"como\",\"o\",\"le\",\"al\",\"ni\",\"porque\",\"cosas\",\"cuando\",\"tan\",\"te\",\"han\",\"pues\",\"una\",\"son\",\"un\",\"aquellos\",\"pero\",\"día\",\"todos\",\"ha\",\"sino\",\"ser\",\"quien\",\"fue\",\"parte\",\"edad\",\"ellos\",\"otros\",\"ella\",\"éstos\",\"qué\",\"está\",\"cosa\",\"todas\",\"este\",\"habiendo\",\"muchos\",\"otro\",\"hay\",\"nos\",\"siendo\",\"aunque\",\"él\",\"demás\",\"años\",\"algún\",\"algunos\",\"mientras\",\"aquel\",\"sea\",\"mismo\",\"vivir\",\"sólo\",\"fortuna\",\"había\",\"tu\",\"poco\",\"entre\",\"presente\",\"así\",\"éste\",\"otra\",\"sí\",\"descanso\",\"después\",\"estas\",\"muerte\",\"mayor\",\"días\",\"hombres\",\"mucho\",\"esto\",\"siempre\",\"¿qué\",\"tú\",\"pasado\",\"quietud\",\"larga\",\"primero\",\"ninguno\",\"todo\",\"alguna\",\"ti\",\"decir\",\"están\",\"ocupados\",\"tal\",\"grandes\",\"muchas\",\"haber\",\"hacer\",\"lugar\",\"antes\",\"vez\",\"tienen\",\"hasta\",\"ambición\",\"saber\",\"has\",\"unos\",\"cual\",\"medio\",\"tiene\",\"ocupación\",\"jamás\",\"naturaleza\",\"toda\",\"nada\",\"aun\",\"grande\",\"cuánta\",\"vejez\",\"imperio\",\"cuántos\",\"fuera\",\"bienes\",\"ánimo\",\"tanto\",\"breve\",\"último\",\"deleites\",\"alguno\",\"cada\",\"sido\",\"diligencia\",\"dado\",\"puede\",\"también\",\"ya\",\"cuidado\",\"trabajo\",\"huye\",\"mejor\",\"misma\",\"me\",\"séneca\",\"mucha\",\"ocupaciones\",\"desde\",\"vicios\",\"tener\",\"¿cómo\",\"memoria\",\"llega\",\"cuándo\",\"hayan\",\"sabio\",\"uno\",\"causa\",\"ocupado\",\"ninguna\",\"cuán\",\"llegado\",\"pocos\",\"aquella\",\"otras\",\"dio\",\"cómo\",\"ojos\",\"corta\",\"buena\",\"hace\",\"romanos\",\"noche\",\"república\",\"entonces\",\"fin\",\"libre\",\"manos\",\"forzoso\",\"»\",\"¿a\",\"mismos\",\"miserables\",\"estando\"],\"x\":[15.832823,34.593857,32.136803,-29.199121,5.998354,-20.54332,-13.387319,53.56873,92.24267,19.737907,-74.196434,8.349342,27.71872,0.7516952,54.012184,-58.104008,12.667422,60.939457,2.283923,98.16054,-37.432556,-99.26855,-60.661835,-87.619965,62.379288,-0.91543174,44.821735,62.68088,-50.186684,-94.77584,-43.080257,-12.915848,73.8598,63.839687,-29.946482,-74.78931,106.135,-45.827465,2.24398,-55.20339,-21.681551,-6.6274357,38.494915,-55.834015,23.881462,68.5042,-27.036036,55.10132,-6.5558224,-64.592155,6.5681553,-19.608751,1.587026,12.878124,-22.61657,-58.724766,-79.533134,35.769978,-8.567724,-32.16482,10.394611,87.485306,-75.50351,79.26482,31.506514,27.478151,-40.080738,-30.471195,-24.214828,24.201416,-94.332436,-24.340239,27.384718,-16.94699,68.035736,60.55367,38.535164,-23.857016,-81.43727,31.105015,-60.02069,72.94004,-13.823957,-45.30378,20.108328,-93.83401,-13.521515,-78.697815,-49.3107,-80.138374,-24.412895,-33.504364,-19.065186,-1.0192449,55.482716,-37.07601,94.368904,27.165277,8.795964,-41.171177,49.532757,48.09914,48.00304,-68.87162,53.103466,-23.953306,-13.757146,-15.901677,61.26442,70.352234,-12.448412,-22.278318,-34.64732,-12.091859,-62.010475,-49.025894,60.679035,43.392555,-44.191456,83.87347,8.5765915,-51.193726,36.6452,-7.898391,-25.875267,60.941257,-35.50366,26.572462,76.859344,46.817738,22.240368,13.9002905,1.2636411,10.818551,12.687318,-60.10337,60.771618,-73.17492,-7.118517,-79.61701,-17.567375,-0.83357054,-40.87529,-33.083603,-82.63085,-65.78179,61.2488,83.716385,56.934364,26.263538,15.723074,22.21825,11.101452,-2.5606923,1.6626937,-32.567623,-14.618429,-17.114338,41.378525,-2.6975434,-85.05732,2.9333432,-79.783424,7.4098673,-46.88706,38.027348,-21.743225,-20.214045,18.691576,-56.105904,53.26293,13.417404,48.94504,-49.03435,33.54566,-2.2526567,15.667856,22.409475,5.3667064,1.8336035,-11.44103,-34.784344,49.319664,-37.80764,37.602577,29.031443,44.508286,33.1487,75.54197,-55.241276,24.001228,-69.4887,-14.85623,5.13607,-22.610746,-5.1334705,24.059053,38.516514,38.81628,56.333378],\"y\":[-81.21544,-62.27586,-10.108378,-40.30965,-7.4365273,-1.328927,25.199953,-86.77782,15.968697,45.76338,-46.486874,-96.66495,98.50514,37.11799,62.710686,-0.628298,-59.611282,-62.625126,-84.87151,34.93043,21.512545,-3.3280447,0.24216238,-12.681534,7.4669075,-64.43374,23.218424,-6.665372,-67.09873,-32.745823,64.35778,-81.31186,43.023495,-18.344765,80.974464,-22.291227,-14.213446,84.5212,6.952098,-37.283672,-110.05798,16.214066,-24.245615,-11.556333,20.162579,81.265396,-0.86216396,1.9611645,57.092964,75.952614,57.715954,8.190443,-23.392326,-35.978962,-12.858689,-83.56453,28.666807,102.17756,-98.19946,64.38565,7.890084,-37.272686,51.241386,-20.001648,-54.401573,-85.37295,13.613738,-59.82816,-76.78837,-98.37887,4.7781672,50.152683,-70.02196,29.848866,-56.016983,69.698875,-33.210445,49.33736,-63.89959,-56.409767,-88.752686,-57.809807,30.320602,-65.76656,84.64501,33.700794,94.45269,63.808704,-14.643245,-52.371384,-79.28946,35.417736,-31.164892,-36.12327,-52.891727,-43.52763,-41.573906,52.51994,83.24062,40.14272,15.004018,-32.171955,89.10558,21.147509,65.85395,-44.847565,97.58932,78.0431,-78.076706,-14.491072,-52.646046,57.60088,-70.714165,-77.011894,-56.41129,-51.17781,-19.903175,45.209766,53.202454,12.276401,-41.111343,70.35419,-14.12923,83.96417,-20.327496,-46.72521,11.749495,82.510574,-24.123901,-9.277106,-42.317413,-38.492218,-11.96249,21.763008,-36.933754,-91.12866,-38.402454,11.710575,-64.0816,25.322952,-35.656113,-19.358536,-21.630362,14.488727,31.501158,-3.6871808,3.2640598,38.683773,26.61826,3.2276857,-71.691444,-24.914349,47.918327,-42.917618,53.562576,-15.58224,16.193771,-47.648674,-38.89583,14.763661,-17.26198,72.711586,-9.786074,-60.524654,45.21845,17.27055,34.54011,-9.044305,26.367847,-28.585594,42.228596,-6.869787,22.262922,27.971844,69.42291,85.74469,55.507977,26.346165,39.958454,14.614841,0.89128524,24.49154,18.875181,-1.1049887,-9.045523,-19.406742,-29.899776,35.588802,41.096096,33.015625,28.504091,-35.49946,54.62082,-65.32509,32.769615,70.025795,4.7347713,40.088192,-7.8249054,-9.50484],\"z\":[-0.48034593,61.58844,-85.28732,-89.03225,52.42447,74.79684,54.129833,3.9933221,-27.905804,-87.77044,-53.41559,-29.05086,26.034851,-45.463024,-63.220642,80.36649,80.87436,32.22922,35.510956,2.4443085,67.696785,20.783573,-8.938117,-53.620083,-56.445713,-69.082085,89.57077,-75.478424,46.162617,-6.667527,-59.031185,-45.984314,52.825745,10.122412,64.55669,-28.917128,-3.6208315,5.290042,97.81266,72.76488,22.182245,-60.878124,91.355606,-81.97382,-71.504135,3.9242613,-53.047108,61.102688,-69.53396,33.31984,82.29377,-91.08679,74.99036,-83.33204,46.573406,-29.177778,-36.386635,-8.159337,-10.40579,-14.812684,-96.528404,-23.231972,-0.52568746,34.331444,-58.96317,-50.480946,0.28706795,78.03728,-17.905706,15.923316,-18.597004,40.9319,-22.992052,22.932688,48.744587,-31.230118,61.43385,-40.446968,-25.65938,2.4643703,-2.542839,-1.1942017,87.85543,-64.93746,-42.00013,-0.29613113,-10.371265,-25.332178,45.285065,18.806973,27.26931,-80.58483,-72.91967,102.749405,-7.773409,33.483604,17.014284,-52.005512,-7.5216055,3.228461,5.1245728,-66.647705,3.1965435,18.266405,36.8891,-11.824144,17.930971,40.610363,-34.91151,-40.66703,23.411587,18.776852,6.497976,9.668391,11.703617,-16.4532,-16.845871,-21.493423,53.555397,52.866993,15.178837,18.519083,53.984818,56.58374,83.75103,-39.84621,26.174425,10.91132,64.67602,-44.859608,-33.402164,-56.8112,-64.42393,81.286835,42.421227,17.37231,31.595825,-63.120785,56.053658,-13.635565,53.58978,-11.679937,-50.579025,-21.626362,33.173557,44.063683,-17.912426,18.199253,-35.719193,-21.946571,18.721565,1.398879,-18.23618,-27.291086,62.30187,9.086426,-1.144378,-52.960598,-35.678677,-40.70952,51.656704,20.555584,17.125305,-45.242493,32.645824,-56.00947,-2.6118133,-29.184782,-9.128528,-25.388687,65.11639,6.2650523,31.697983,-20.754084,41.11347,8.337838,1.6355852,-36.256508,8.533843,-19.244223,22.945633,-49.055004,-71.72375,-79.80356,19.387445,-21.266266,12.090453,5.407016,-8.6845,-70.065475,35.44537,44.06921,-8.505424,-17.357718,-27.025808,-34.923496,76.474625,42.664845,-9.051253,34.91316],\"type\":\"scatter3d\"}],                        {\"template\":{\"data\":{\"histogram2dcontour\":[{\"type\":\"histogram2dcontour\",\"colorbar\":{\"outlinewidth\":0,\"ticks\":\"\"},\"colorscale\":[[0.0,\"#0d0887\"],[0.1111111111111111,\"#46039f\"],[0.2222222222222222,\"#7201a8\"],[0.3333333333333333,\"#9c179e\"],[0.4444444444444444,\"#bd3786\"],[0.5555555555555556,\"#d8576b\"],[0.6666666666666666,\"#ed7953\"],[0.7777777777777778,\"#fb9f3a\"],[0.8888888888888888,\"#fdca26\"],[1.0,\"#f0f921\"]]}],\"choropleth\":[{\"type\":\"choropleth\",\"colorbar\":{\"outlinewidth\":0,\"ticks\":\"\"}}],\"histogram2d\":[{\"type\":\"histogram2d\",\"colorbar\":{\"outlinewidth\":0,\"ticks\":\"\"},\"colorscale\":[[0.0,\"#0d0887\"],[0.1111111111111111,\"#46039f\"],[0.2222222222222222,\"#7201a8\"],[0.3333333333333333,\"#9c179e\"],[0.4444444444444444,\"#bd3786\"],[0.5555555555555556,\"#d8576b\"],[0.6666666666666666,\"#ed7953\"],[0.7777777777777778,\"#fb9f3a\"],[0.8888888888888888,\"#fdca26\"],[1.0,\"#f0f921\"]]}],\"heatmap\":[{\"type\":\"heatmap\",\"colorbar\":{\"outlinewidth\":0,\"ticks\":\"\"},\"colorscale\":[[0.0,\"#0d0887\"],[0.1111111111111111,\"#46039f\"],[0.2222222222222222,\"#7201a8\"],[0.3333333333333333,\"#9c179e\"],[0.4444444444444444,\"#bd3786\"],[0.5555555555555556,\"#d8576b\"],[0.6666666666666666,\"#ed7953\"],[0.7777777777777778,\"#fb9f3a\"],[0.8888888888888888,\"#fdca26\"],[1.0,\"#f0f921\"]]}],\"heatmapgl\":[{\"type\":\"heatmapgl\",\"colorbar\":{\"outlinewidth\":0,\"ticks\":\"\"},\"colorscale\":[[0.0,\"#0d0887\"],[0.1111111111111111,\"#46039f\"],[0.2222222222222222,\"#7201a8\"],[0.3333333333333333,\"#9c179e\"],[0.4444444444444444,\"#bd3786\"],[0.5555555555555556,\"#d8576b\"],[0.6666666666666666,\"#ed7953\"],[0.7777777777777778,\"#fb9f3a\"],[0.8888888888888888,\"#fdca26\"],[1.0,\"#f0f921\"]]}],\"contourcarpet\":[{\"type\":\"contourcarpet\",\"colorbar\":{\"outlinewidth\":0,\"ticks\":\"\"}}],\"contour\":[{\"type\":\"contour\",\"colorbar\":{\"outlinewidth\":0,\"ticks\":\"\"},\"colorscale\":[[0.0,\"#0d0887\"],[0.1111111111111111,\"#46039f\"],[0.2222222222222222,\"#7201a8\"],[0.3333333333333333,\"#9c179e\"],[0.4444444444444444,\"#bd3786\"],[0.5555555555555556,\"#d8576b\"],[0.6666666666666666,\"#ed7953\"],[0.7777777777777778,\"#fb9f3a\"],[0.8888888888888888,\"#fdca26\"],[1.0,\"#f0f921\"]]}],\"surface\":[{\"type\":\"surface\",\"colorbar\":{\"outlinewidth\":0,\"ticks\":\"\"},\"colorscale\":[[0.0,\"#0d0887\"],[0.1111111111111111,\"#46039f\"],[0.2222222222222222,\"#7201a8\"],[0.3333333333333333,\"#9c179e\"],[0.4444444444444444,\"#bd3786\"],[0.5555555555555556,\"#d8576b\"],[0.6666666666666666,\"#ed7953\"],[0.7777777777777778,\"#fb9f3a\"],[0.8888888888888888,\"#fdca26\"],[1.0,\"#f0f921\"]]}],\"mesh3d\":[{\"type\":\"mesh3d\",\"colorbar\":{\"outlinewidth\":0,\"ticks\":\"\"}}],\"scatter\":[{\"fillpattern\":{\"fillmode\":\"overlay\",\"size\":10,\"solidity\":0.2},\"type\":\"scatter\"}],\"parcoords\":[{\"type\":\"parcoords\",\"line\":{\"colorbar\":{\"outlinewidth\":0,\"ticks\":\"\"}}}],\"scatterpolargl\":[{\"type\":\"scatterpolargl\",\"marker\":{\"colorbar\":{\"outlinewidth\":0,\"ticks\":\"\"}}}],\"bar\":[{\"error_x\":{\"color\":\"#2a3f5f\"},\"error_y\":{\"color\":\"#2a3f5f\"},\"marker\":{\"line\":{\"color\":\"#E5ECF6\",\"width\":0.5},\"pattern\":{\"fillmode\":\"overlay\",\"size\":10,\"solidity\":0.2}},\"type\":\"bar\"}],\"scattergeo\":[{\"type\":\"scattergeo\",\"marker\":{\"colorbar\":{\"outlinewidth\":0,\"ticks\":\"\"}}}],\"scatterpolar\":[{\"type\":\"scatterpolar\",\"marker\":{\"colorbar\":{\"outlinewidth\":0,\"ticks\":\"\"}}}],\"histogram\":[{\"marker\":{\"pattern\":{\"fillmode\":\"overlay\",\"size\":10,\"solidity\":0.2}},\"type\":\"histogram\"}],\"scattergl\":[{\"type\":\"scattergl\",\"marker\":{\"colorbar\":{\"outlinewidth\":0,\"ticks\":\"\"}}}],\"scatter3d\":[{\"type\":\"scatter3d\",\"line\":{\"colorbar\":{\"outlinewidth\":0,\"ticks\":\"\"}},\"marker\":{\"colorbar\":{\"outlinewidth\":0,\"ticks\":\"\"}}}],\"scattermapbox\":[{\"type\":\"scattermapbox\",\"marker\":{\"colorbar\":{\"outlinewidth\":0,\"ticks\":\"\"}}}],\"scatterternary\":[{\"type\":\"scatterternary\",\"marker\":{\"colorbar\":{\"outlinewidth\":0,\"ticks\":\"\"}}}],\"scattercarpet\":[{\"type\":\"scattercarpet\",\"marker\":{\"colorbar\":{\"outlinewidth\":0,\"ticks\":\"\"}}}],\"carpet\":[{\"aaxis\":{\"endlinecolor\":\"#2a3f5f\",\"gridcolor\":\"white\",\"linecolor\":\"white\",\"minorgridcolor\":\"white\",\"startlinecolor\":\"#2a3f5f\"},\"baxis\":{\"endlinecolor\":\"#2a3f5f\",\"gridcolor\":\"white\",\"linecolor\":\"white\",\"minorgridcolor\":\"white\",\"startlinecolor\":\"#2a3f5f\"},\"type\":\"carpet\"}],\"table\":[{\"cells\":{\"fill\":{\"color\":\"#EBF0F8\"},\"line\":{\"color\":\"white\"}},\"header\":{\"fill\":{\"color\":\"#C8D4E3\"},\"line\":{\"color\":\"white\"}},\"type\":\"table\"}],\"barpolar\":[{\"marker\":{\"line\":{\"color\":\"#E5ECF6\",\"width\":0.5},\"pattern\":{\"fillmode\":\"overlay\",\"size\":10,\"solidity\":0.2}},\"type\":\"barpolar\"}],\"pie\":[{\"automargin\":true,\"type\":\"pie\"}]},\"layout\":{\"autotypenumbers\":\"strict\",\"colorway\":[\"#636efa\",\"#EF553B\",\"#00cc96\",\"#ab63fa\",\"#FFA15A\",\"#19d3f3\",\"#FF6692\",\"#B6E880\",\"#FF97FF\",\"#FECB52\"],\"font\":{\"color\":\"#2a3f5f\"},\"hovermode\":\"closest\",\"hoverlabel\":{\"align\":\"left\"},\"paper_bgcolor\":\"white\",\"plot_bgcolor\":\"#E5ECF6\",\"polar\":{\"bgcolor\":\"#E5ECF6\",\"angularaxis\":{\"gridcolor\":\"white\",\"linecolor\":\"white\",\"ticks\":\"\"},\"radialaxis\":{\"gridcolor\":\"white\",\"linecolor\":\"white\",\"ticks\":\"\"}},\"ternary\":{\"bgcolor\":\"#E5ECF6\",\"aaxis\":{\"gridcolor\":\"white\",\"linecolor\":\"white\",\"ticks\":\"\"},\"baxis\":{\"gridcolor\":\"white\",\"linecolor\":\"white\",\"ticks\":\"\"},\"caxis\":{\"gridcolor\":\"white\",\"linecolor\":\"white\",\"ticks\":\"\"}},\"coloraxis\":{\"colorbar\":{\"outlinewidth\":0,\"ticks\":\"\"}},\"colorscale\":{\"sequential\":[[0.0,\"#0d0887\"],[0.1111111111111111,\"#46039f\"],[0.2222222222222222,\"#7201a8\"],[0.3333333333333333,\"#9c179e\"],[0.4444444444444444,\"#bd3786\"],[0.5555555555555556,\"#d8576b\"],[0.6666666666666666,\"#ed7953\"],[0.7777777777777778,\"#fb9f3a\"],[0.8888888888888888,\"#fdca26\"],[1.0,\"#f0f921\"]],\"sequentialminus\":[[0.0,\"#0d0887\"],[0.1111111111111111,\"#46039f\"],[0.2222222222222222,\"#7201a8\"],[0.3333333333333333,\"#9c179e\"],[0.4444444444444444,\"#bd3786\"],[0.5555555555555556,\"#d8576b\"],[0.6666666666666666,\"#ed7953\"],[0.7777777777777778,\"#fb9f3a\"],[0.8888888888888888,\"#fdca26\"],[1.0,\"#f0f921\"]],\"diverging\":[[0,\"#8e0152\"],[0.1,\"#c51b7d\"],[0.2,\"#de77ae\"],[0.3,\"#f1b6da\"],[0.4,\"#fde0ef\"],[0.5,\"#f7f7f7\"],[0.6,\"#e6f5d0\"],[0.7,\"#b8e186\"],[0.8,\"#7fbc41\"],[0.9,\"#4d9221\"],[1,\"#276419\"]]},\"xaxis\":{\"gridcolor\":\"white\",\"linecolor\":\"white\",\"ticks\":\"\",\"title\":{\"standoff\":15},\"zerolinecolor\":\"white\",\"automargin\":true,\"zerolinewidth\":2},\"yaxis\":{\"gridcolor\":\"white\",\"linecolor\":\"white\",\"ticks\":\"\",\"title\":{\"standoff\":15},\"zerolinecolor\":\"white\",\"automargin\":true,\"zerolinewidth\":2},\"scene\":{\"xaxis\":{\"backgroundcolor\":\"#E5ECF6\",\"gridcolor\":\"white\",\"linecolor\":\"white\",\"showbackground\":true,\"ticks\":\"\",\"zerolinecolor\":\"white\",\"gridwidth\":2},\"yaxis\":{\"backgroundcolor\":\"#E5ECF6\",\"gridcolor\":\"white\",\"linecolor\":\"white\",\"showbackground\":true,\"ticks\":\"\",\"zerolinecolor\":\"white\",\"gridwidth\":2},\"zaxis\":{\"backgroundcolor\":\"#E5ECF6\",\"gridcolor\":\"white\",\"linecolor\":\"white\",\"showbackground\":true,\"ticks\":\"\",\"zerolinecolor\":\"white\",\"gridwidth\":2}},\"shapedefaults\":{\"line\":{\"color\":\"#2a3f5f\"}},\"annotationdefaults\":{\"arrowcolor\":\"#2a3f5f\",\"arrowhead\":0,\"arrowwidth\":1},\"geo\":{\"bgcolor\":\"white\",\"landcolor\":\"#E5ECF6\",\"subunitcolor\":\"white\",\"showland\":true,\"showlakes\":true,\"lakecolor\":\"white\"},\"title\":{\"x\":0.05},\"mapbox\":{\"style\":\"light\"}}},\"scene\":{\"domain\":{\"x\":[0.0,1.0],\"y\":[0.0,1.0]},\"xaxis\":{\"title\":{\"text\":\"x\"}},\"yaxis\":{\"title\":{\"text\":\"y\"}},\"zaxis\":{\"title\":{\"text\":\"z\"}}},\"legend\":{\"tracegroupgap\":0},\"margin\":{\"t\":60}},                        {\"responsive\": true}                    ).then(function(){\n",
              "                            \n",
              "var gd = document.getElementById('e291bc39-d206-45cb-b2ee-805732fc49e3');\n",
              "var x = new MutationObserver(function (mutations, observer) {{\n",
              "        var display = window.getComputedStyle(gd).display;\n",
              "        if (!display || display === 'none') {{\n",
              "            console.log([gd, 'removed!']);\n",
              "            Plotly.purge(gd);\n",
              "            observer.disconnect();\n",
              "        }}\n",
              "}});\n",
              "\n",
              "// Listen for the removal of the full notebook cells\n",
              "var notebookContainer = gd.closest('#notebook-container');\n",
              "if (notebookContainer) {{\n",
              "    x.observe(notebookContainer, {childList: true});\n",
              "}}\n",
              "\n",
              "// Listen for the clearing of the current output cell\n",
              "var outputEl = gd.closest('.output');\n",
              "if (outputEl) {{\n",
              "    x.observe(outputEl, {childList: true});\n",
              "}}\n",
              "\n",
              "                        })                };                            </script>        </div>\n",
              "</body>\n",
              "</html>"
            ]
          },
          "metadata": {}
        }
      ],
      "source": [
        "# Graficar los embedddings en 3D\n",
        "\n",
        "vecs, labels = reduce_dimensions(w2v_model,3)\n",
        "\n",
        "fig = px.scatter_3d(x=vecs[:MAX_WORDS,0], y=vecs[:MAX_WORDS,1], z=vecs[:MAX_WORDS,2],text=labels[:MAX_WORDS])\n",
        "fig.update_traces(marker_size = 2)\n",
        "fig.show(renderer=\"colab\") # esto para plotly en colab"
      ]
    },
    {
      "cell_type": "code",
      "execution_count": 43,
      "metadata": {
        "id": "TjEBLjGpRDGv"
      },
      "outputs": [],
      "source": [
        "# También se pueden guardar los vectores y labels como tsv para graficar en\n",
        "# http://projector.tensorflow.org/\n",
        "\n",
        "\n",
        "vectors = np.asarray(w2v_model.wv.vectors)\n",
        "labels = list(w2v_model.wv.index_to_key)\n",
        "\n",
        "np.savetxt(\"vectors.tsv\", vectors, delimiter=\"\\t\")\n",
        "\n",
        "with open(\"labels.tsv\", \"w\") as fp:\n",
        "    for item in labels:\n",
        "        fp.write(\"%s\\n\" % item)"
      ]
    },
    {
      "cell_type": "markdown",
      "source": [
        "# 5-Sacar conclusiones."
      ],
      "metadata": {
        "id": "2SBLYYUhinrD"
      }
    },
    {
      "cell_type": "markdown",
      "source": [
        "![Captura de pantalla 2025-04-15 225054.png](data:image/png;base64,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)"
      ],
      "metadata": {
        "id": "QYkzTwZeSzAL"
      }
    },
    {
      "cell_type": "markdown",
      "source": [
        "Al observar que palabras como \"tiempo\", \"pasado\", \"presente\" y \"mucho\" están en la misma zona del gráfico, podemos inferir que el modelo ha capturado correctamente las relaciones semánticas entre términos relacionados. Esto sugiere que el modelo ha agrupado palabras con significados similares o que frecuentemente aparecen en contextos cercanos en el texto, tales como cantidad y momento.\n",
        "\n",
        "Es decir, que el texto presenta suficientes co-ocurrencias de estos términos para que el modelo los agrupe en el espacio de embeddings de manera coherente."
      ],
      "metadata": {
        "id": "ZE29IX4fiwd1"
      }
    }
  ],
  "metadata": {
    "colab": {
      "provenance": [],
      "include_colab_link": true
    },
    "kernelspec": {
      "display_name": "Python 3 (ipykernel)",
      "language": "python",
      "name": "python3"
    },
    "language_info": {
      "codemirror_mode": {
        "name": "ipython",
        "version": 3
      },
      "file_extension": ".py",
      "mimetype": "text/x-python",
      "name": "python",
      "nbconvert_exporter": "python",
      "pygments_lexer": "ipython3",
      "version": "3.10.6"
    }
  },
  "nbformat": 4,
  "nbformat_minor": 0
}